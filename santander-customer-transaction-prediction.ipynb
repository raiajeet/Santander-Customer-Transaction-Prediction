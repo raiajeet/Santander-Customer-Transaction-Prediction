{
 "cells": [
  {
   "cell_type": "markdown",
   "metadata": {},
   "source": [
    "### Libraries"
   ]
  },
  {
   "cell_type": "code",
   "execution_count": 84,
   "metadata": {},
   "outputs": [],
   "source": [
    "import numpy as np\n",
    "import matplotlib.pyplot as plt\n",
    "import pandas as pd\n",
    "import random\n",
    "from sklearn.ensemble import RandomForestClassifier\n",
    "from sklearn.ensemble import GradientBoostingClassifier\n",
    "from sklearn.metrics import roc_curve\n",
    "from sklearn.metrics import roc_auc_score\n",
    "from sklearn.model_selection import KFold\n",
    "from sklearn.preprocessing import MinMaxScaler"
   ]
  },
  {
   "cell_type": "code",
   "execution_count": 79,
   "metadata": {},
   "outputs": [],
   "source": [
    "df = pd.read_csv(\"C:\\\\Users\\\\AJIT\\\\Desktop\\\\santander-customer-transaction-prediction\\\\train.csv\")\n",
    "df_test = pd.read_csv(\"C:\\\\Users\\\\AJIT\\\\Desktop\\\\santander-customer-transaction-prediction\\\\test.csv\")"
   ]
  },
  {
   "cell_type": "code",
   "execution_count": 3,
   "metadata": {},
   "outputs": [
    {
     "data": {
      "text/html": [
       "<div>\n",
       "<style scoped>\n",
       "    .dataframe tbody tr th:only-of-type {\n",
       "        vertical-align: middle;\n",
       "    }\n",
       "\n",
       "    .dataframe tbody tr th {\n",
       "        vertical-align: top;\n",
       "    }\n",
       "\n",
       "    .dataframe thead th {\n",
       "        text-align: right;\n",
       "    }\n",
       "</style>\n",
       "<table border=\"1\" class=\"dataframe\">\n",
       "  <thead>\n",
       "    <tr style=\"text-align: right;\">\n",
       "      <th></th>\n",
       "      <th>ID_code</th>\n",
       "      <th>target</th>\n",
       "      <th>var_0</th>\n",
       "      <th>var_1</th>\n",
       "      <th>var_2</th>\n",
       "      <th>var_3</th>\n",
       "      <th>var_4</th>\n",
       "      <th>var_5</th>\n",
       "      <th>var_6</th>\n",
       "      <th>var_7</th>\n",
       "      <th>...</th>\n",
       "      <th>var_190</th>\n",
       "      <th>var_191</th>\n",
       "      <th>var_192</th>\n",
       "      <th>var_193</th>\n",
       "      <th>var_194</th>\n",
       "      <th>var_195</th>\n",
       "      <th>var_196</th>\n",
       "      <th>var_197</th>\n",
       "      <th>var_198</th>\n",
       "      <th>var_199</th>\n",
       "    </tr>\n",
       "  </thead>\n",
       "  <tbody>\n",
       "    <tr>\n",
       "      <th>0</th>\n",
       "      <td>train_0</td>\n",
       "      <td>0</td>\n",
       "      <td>8.9255</td>\n",
       "      <td>-6.7863</td>\n",
       "      <td>11.9081</td>\n",
       "      <td>5.0930</td>\n",
       "      <td>11.4607</td>\n",
       "      <td>-9.2834</td>\n",
       "      <td>5.1187</td>\n",
       "      <td>18.6266</td>\n",
       "      <td>...</td>\n",
       "      <td>4.4354</td>\n",
       "      <td>3.9642</td>\n",
       "      <td>3.1364</td>\n",
       "      <td>1.6910</td>\n",
       "      <td>18.5227</td>\n",
       "      <td>-2.3978</td>\n",
       "      <td>7.8784</td>\n",
       "      <td>8.5635</td>\n",
       "      <td>12.7803</td>\n",
       "      <td>-1.0914</td>\n",
       "    </tr>\n",
       "    <tr>\n",
       "      <th>1</th>\n",
       "      <td>train_1</td>\n",
       "      <td>0</td>\n",
       "      <td>11.5006</td>\n",
       "      <td>-4.1473</td>\n",
       "      <td>13.8588</td>\n",
       "      <td>5.3890</td>\n",
       "      <td>12.3622</td>\n",
       "      <td>7.0433</td>\n",
       "      <td>5.6208</td>\n",
       "      <td>16.5338</td>\n",
       "      <td>...</td>\n",
       "      <td>7.6421</td>\n",
       "      <td>7.7214</td>\n",
       "      <td>2.5837</td>\n",
       "      <td>10.9516</td>\n",
       "      <td>15.4305</td>\n",
       "      <td>2.0339</td>\n",
       "      <td>8.1267</td>\n",
       "      <td>8.7889</td>\n",
       "      <td>18.3560</td>\n",
       "      <td>1.9518</td>\n",
       "    </tr>\n",
       "    <tr>\n",
       "      <th>2</th>\n",
       "      <td>train_2</td>\n",
       "      <td>0</td>\n",
       "      <td>8.6093</td>\n",
       "      <td>-2.7457</td>\n",
       "      <td>12.0805</td>\n",
       "      <td>7.8928</td>\n",
       "      <td>10.5825</td>\n",
       "      <td>-9.0837</td>\n",
       "      <td>6.9427</td>\n",
       "      <td>14.6155</td>\n",
       "      <td>...</td>\n",
       "      <td>2.9057</td>\n",
       "      <td>9.7905</td>\n",
       "      <td>1.6704</td>\n",
       "      <td>1.6858</td>\n",
       "      <td>21.6042</td>\n",
       "      <td>3.1417</td>\n",
       "      <td>-6.5213</td>\n",
       "      <td>8.2675</td>\n",
       "      <td>14.7222</td>\n",
       "      <td>0.3965</td>\n",
       "    </tr>\n",
       "    <tr>\n",
       "      <th>3</th>\n",
       "      <td>train_3</td>\n",
       "      <td>0</td>\n",
       "      <td>11.0604</td>\n",
       "      <td>-2.1518</td>\n",
       "      <td>8.9522</td>\n",
       "      <td>7.1957</td>\n",
       "      <td>12.5846</td>\n",
       "      <td>-1.8361</td>\n",
       "      <td>5.8428</td>\n",
       "      <td>14.9250</td>\n",
       "      <td>...</td>\n",
       "      <td>4.4666</td>\n",
       "      <td>4.7433</td>\n",
       "      <td>0.7178</td>\n",
       "      <td>1.4214</td>\n",
       "      <td>23.0347</td>\n",
       "      <td>-1.2706</td>\n",
       "      <td>-2.9275</td>\n",
       "      <td>10.2922</td>\n",
       "      <td>17.9697</td>\n",
       "      <td>-8.9996</td>\n",
       "    </tr>\n",
       "    <tr>\n",
       "      <th>4</th>\n",
       "      <td>train_4</td>\n",
       "      <td>0</td>\n",
       "      <td>9.8369</td>\n",
       "      <td>-1.4834</td>\n",
       "      <td>12.8746</td>\n",
       "      <td>6.6375</td>\n",
       "      <td>12.2772</td>\n",
       "      <td>2.4486</td>\n",
       "      <td>5.9405</td>\n",
       "      <td>19.2514</td>\n",
       "      <td>...</td>\n",
       "      <td>-1.4905</td>\n",
       "      <td>9.5214</td>\n",
       "      <td>-0.1508</td>\n",
       "      <td>9.1942</td>\n",
       "      <td>13.2876</td>\n",
       "      <td>-1.5121</td>\n",
       "      <td>3.9267</td>\n",
       "      <td>9.5031</td>\n",
       "      <td>17.9974</td>\n",
       "      <td>-8.8104</td>\n",
       "    </tr>\n",
       "  </tbody>\n",
       "</table>\n",
       "<p>5 rows × 202 columns</p>\n",
       "</div>"
      ],
      "text/plain": [
       "   ID_code  target    var_0   var_1    var_2   var_3    var_4   var_5   var_6  \\\n",
       "0  train_0       0   8.9255 -6.7863  11.9081  5.0930  11.4607 -9.2834  5.1187   \n",
       "1  train_1       0  11.5006 -4.1473  13.8588  5.3890  12.3622  7.0433  5.6208   \n",
       "2  train_2       0   8.6093 -2.7457  12.0805  7.8928  10.5825 -9.0837  6.9427   \n",
       "3  train_3       0  11.0604 -2.1518   8.9522  7.1957  12.5846 -1.8361  5.8428   \n",
       "4  train_4       0   9.8369 -1.4834  12.8746  6.6375  12.2772  2.4486  5.9405   \n",
       "\n",
       "     var_7  ...  var_190  var_191  var_192  var_193  var_194  var_195  \\\n",
       "0  18.6266  ...   4.4354   3.9642   3.1364   1.6910  18.5227  -2.3978   \n",
       "1  16.5338  ...   7.6421   7.7214   2.5837  10.9516  15.4305   2.0339   \n",
       "2  14.6155  ...   2.9057   9.7905   1.6704   1.6858  21.6042   3.1417   \n",
       "3  14.9250  ...   4.4666   4.7433   0.7178   1.4214  23.0347  -1.2706   \n",
       "4  19.2514  ...  -1.4905   9.5214  -0.1508   9.1942  13.2876  -1.5121   \n",
       "\n",
       "   var_196  var_197  var_198  var_199  \n",
       "0   7.8784   8.5635  12.7803  -1.0914  \n",
       "1   8.1267   8.7889  18.3560   1.9518  \n",
       "2  -6.5213   8.2675  14.7222   0.3965  \n",
       "3  -2.9275  10.2922  17.9697  -8.9996  \n",
       "4   3.9267   9.5031  17.9974  -8.8104  \n",
       "\n",
       "[5 rows x 202 columns]"
      ]
     },
     "execution_count": 3,
     "metadata": {},
     "output_type": "execute_result"
    }
   ],
   "source": [
    "df.head()"
   ]
  },
  {
   "cell_type": "code",
   "execution_count": 4,
   "metadata": {},
   "outputs": [
    {
     "data": {
      "text/plain": [
       "(200000, 202)"
      ]
     },
     "execution_count": 4,
     "metadata": {},
     "output_type": "execute_result"
    }
   ],
   "source": [
    "df.shape"
   ]
  },
  {
   "cell_type": "code",
   "execution_count": 80,
   "metadata": {},
   "outputs": [
    {
     "name": "stderr",
     "output_type": "stream",
     "text": [
      "C:\\Users\\AJIT\\Anaconda3\\lib\\site-packages\\ipykernel_launcher.py:3: FutureWarning: Sorting because non-concatenation axis is not aligned. A future version\n",
      "of pandas will change to not sort by default.\n",
      "\n",
      "To accept the future behavior, pass 'sort=False'.\n",
      "\n",
      "To retain the current behavior and silence the warning, pass 'sort=True'.\n",
      "\n",
      "  This is separate from the ipykernel package so we can avoid doing imports until\n"
     ]
    }
   ],
   "source": [
    "df['Type']='Train'\n",
    "df_test['Type']='Test'\n",
    "data = pd.concat([df,df_test],axis=0)"
   ]
  },
  {
   "cell_type": "code",
   "execution_count": 81,
   "metadata": {},
   "outputs": [],
   "source": [
    "ID_col = ['ID_code']\n",
    "target_col = [\"target\"]\n",
    "other_col=['Type'] #Test and Train Data set identifier\n",
    "num_cols= list(set(list(data.columns))-set(ID_col)-set(target_col)-set(other_col))"
   ]
  },
  {
   "cell_type": "code",
   "execution_count": 66,
   "metadata": {},
   "outputs": [
    {
     "name": "stderr",
     "output_type": "stream",
     "text": [
      "C:\\Users\\AJIT\\Anaconda3\\lib\\site-packages\\ipykernel_launcher.py:7: SettingWithCopyWarning: \n",
      "A value is trying to be set on a copy of a slice from a DataFrame.\n",
      "Try using .loc[row_indexer,col_indexer] = value instead\n",
      "\n",
      "See the caveats in the documentation: http://pandas.pydata.org/pandas-docs/stable/indexing.html#indexing-view-versus-copy\n",
      "  import sys\n"
     ]
    }
   ],
   "source": [
    "#Target variable is also a categorical so convert it\n",
    "data[\"target\"] =data[\"target\"].astype('str')\n",
    "\n",
    "train=data[data['Type']=='Train']\n",
    "test=data[data['Type']=='Test']\n",
    "\n",
    "train['is_train'] = np.random.uniform(0, 1, len(train)) <= .75\n",
    "Train, Validate = train[train['is_train']==True], train[train['is_train']==False]\n",
    " "
   ]
  },
  {
   "cell_type": "code",
   "execution_count": 82,
   "metadata": {},
   "outputs": [],
   "source": [
    "features=list(set(list(data.columns))-set(ID_col)-set(target_col)-set(other_col))"
   ]
  },
  {
   "cell_type": "code",
   "execution_count": 68,
   "metadata": {},
   "outputs": [],
   "source": [
    "x_train = Train[list(features)].values\n",
    "y_train = Train[\"target\"].values\n",
    "x_validate = Validate[list(features)].values\n",
    "y_validate = Validate[\"target\"].values\n",
    "x_test=test[list(features)].values"
   ]
  },
  {
   "cell_type": "code",
   "execution_count": 8,
   "metadata": {},
   "outputs": [
    {
     "data": {
      "text/plain": [
       "array(['0.0', '1.0', '0.0', ..., '0.0', '0.0', '0.0'], dtype=object)"
      ]
     },
     "execution_count": 8,
     "metadata": {},
     "output_type": "execute_result"
    }
   ],
   "source": [
    "y_validate"
   ]
  },
  {
   "cell_type": "markdown",
   "metadata": {},
   "source": [
    "### PCA"
   ]
  },
  {
   "cell_type": "code",
   "execution_count": 9,
   "metadata": {},
   "outputs": [],
   "source": [
    "from sklearn.preprocessing import StandardScaler\n",
    "scaler = StandardScaler()\n",
    "scaler.fit(x_train)\n",
    "x_train = scaler.transform(x_train)\n",
    "x_validate = scaler.transform(x_validate)"
   ]
  },
  {
   "cell_type": "code",
   "execution_count": 10,
   "metadata": {},
   "outputs": [],
   "source": [
    "x_test= scaler.transform(x_test)"
   ]
  },
  {
   "cell_type": "code",
   "execution_count": 11,
   "metadata": {},
   "outputs": [],
   "source": [
    "from sklearn.decomposition import PCA\n",
    "pca = PCA(.80)"
   ]
  },
  {
   "cell_type": "code",
   "execution_count": 12,
   "metadata": {},
   "outputs": [],
   "source": [
    "pca.fit(x_train)\n",
    "x_train = pca.transform(x_train)\n",
    "x_validate= pca.transform(x_validate)"
   ]
  },
  {
   "cell_type": "code",
   "execution_count": 13,
   "metadata": {},
   "outputs": [],
   "source": [
    "x_test= pca.transform(x_test)"
   ]
  },
  {
   "cell_type": "code",
   "execution_count": 14,
   "metadata": {},
   "outputs": [
    {
     "data": {
      "text/plain": [
       "(149941, 158)"
      ]
     },
     "execution_count": 14,
     "metadata": {},
     "output_type": "execute_result"
    }
   ],
   "source": [
    "x_train.shape"
   ]
  },
  {
   "cell_type": "markdown",
   "metadata": {},
   "source": [
    "### RFECV"
   ]
  },
  {
   "cell_type": "code",
   "execution_count": 71,
   "metadata": {},
   "outputs": [],
   "source": [
    "#https://chrisalbon.com/machine_learning/feature_selection/recursive_feature_elimination/\n",
    "#https://www.scikit-yb.org/en/latest/api/features/rfecv.html\n",
    "from sklearn.feature_selection import RFECV\n",
    "from sklearn.linear_model import LogisticRegression"
   ]
  },
  {
   "cell_type": "code",
   "execution_count": 72,
   "metadata": {},
   "outputs": [],
   "source": [
    "model = LogisticRegression()\n",
    "rfecv = RFECV(estimator=model,scoring=\"roc_auc\")"
   ]
  },
  {
   "cell_type": "code",
   "execution_count": 85,
   "metadata": {
    "scrolled": false
   },
   "outputs": [],
   "source": [
    "#rfecv.fit(x_train, y_train)\n",
    "#rfecv.transform(x_train)"
   ]
  },
  {
   "cell_type": "code",
   "execution_count": null,
   "metadata": {},
   "outputs": [],
   "source": [
    "rfecv.support_"
   ]
  },
  {
   "cell_type": "code",
   "execution_count": null,
   "metadata": {},
   "outputs": [],
   "source": [
    "cols = [2,9,16,26,69,72,81,84,93,94,101]\n",
    "X_train.drop(X_train.columns[cols],axis=1,inplace=True)\n",
    "X_test.drop(X_test.columns[cols],axis=1,inplace=True)"
   ]
  },
  {
   "cell_type": "markdown",
   "metadata": {},
   "source": [
    "### Bagging meta-estimator"
   ]
  },
  {
   "cell_type": "code",
   "execution_count": 85,
   "metadata": {},
   "outputs": [
    {
     "data": {
      "text/plain": [
       "BaggingClassifier(base_estimator=DecisionTreeClassifier(class_weight=None, criterion='gini', max_depth=None,\n",
       "            max_features=None, max_leaf_nodes=None,\n",
       "            min_impurity_decrease=0.0, min_impurity_split=None,\n",
       "            min_samples_leaf=1, min_samples_split=2,\n",
       "            min_weight_fraction_leaf=0.0, presort=False, random_state=1,\n",
       "            splitter='best'),\n",
       "         bootstrap=True, bootstrap_features=False, max_features=1.0,\n",
       "         max_samples=1.0, n_estimators=10, n_jobs=None, oob_score=False,\n",
       "         random_state=None, verbose=0, warm_start=False)"
      ]
     },
     "execution_count": 85,
     "metadata": {},
     "output_type": "execute_result"
    }
   ],
   "source": [
    "from sklearn.ensemble import BaggingClassifier\n",
    "from sklearn import tree\n",
    "bme= BaggingClassifier(tree.DecisionTreeClassifier(random_state=1))\n",
    "bme.fit(x_train,y_train)"
   ]
  },
  {
   "cell_type": "code",
   "execution_count": 86,
   "metadata": {},
   "outputs": [
    {
     "name": "stdout",
     "output_type": "stream",
     "text": [
      "AUC: 0.803\n"
     ]
    }
   ],
   "source": [
    "probs = bme.predict_proba(x_validate)\n",
    "probs = probs[:,1]\n",
    "# calculate AUC\n",
    "auc = roc_auc_score(y_validate, probs)\n",
    "print('AUC: %.3f' % auc)"
   ]
  },
  {
   "cell_type": "markdown",
   "metadata": {},
   "source": [
    "### Random Forest"
   ]
  },
  {
   "cell_type": "code",
   "execution_count": 69,
   "metadata": {},
   "outputs": [
    {
     "name": "stderr",
     "output_type": "stream",
     "text": [
      "C:\\Users\\AJIT\\Anaconda3\\lib\\site-packages\\sklearn\\ensemble\\forest.py:246: FutureWarning: The default value of n_estimators will change from 10 in version 0.20 to 100 in 0.22.\n",
      "  \"10 in version 0.20 to 100 in 0.22.\", FutureWarning)\n"
     ]
    },
    {
     "data": {
      "text/plain": [
       "RandomForestClassifier(bootstrap=True, class_weight=None, criterion='gini',\n",
       "            max_depth=None, max_features='auto', max_leaf_nodes=None,\n",
       "            min_impurity_decrease=0.0, min_impurity_split=None,\n",
       "            min_samples_leaf=1, min_samples_split=2,\n",
       "            min_weight_fraction_leaf=0.0, n_estimators=10, n_jobs=None,\n",
       "            oob_score=False, random_state=None, verbose=0,\n",
       "            warm_start=False)"
      ]
     },
     "execution_count": 69,
     "metadata": {},
     "output_type": "execute_result"
    }
   ],
   "source": [
    "random.seed(100)\n",
    "rf = RandomForestClassifier()\n",
    "rf.fit(x_train, y_train)"
   ]
  },
  {
   "cell_type": "code",
   "execution_count": 70,
   "metadata": {},
   "outputs": [
    {
     "name": "stdout",
     "output_type": "stream",
     "text": [
      "AUC: 0.701\n"
     ]
    }
   ],
   "source": [
    "probs = rf.predict_proba(x_validate)\n",
    "probs = probs[:,1]\n",
    "# calculate AUC\n",
    "auc = roc_auc_score(y_validate, probs)\n",
    "print('AUC: %.3f' % auc)"
   ]
  },
  {
   "cell_type": "markdown",
   "metadata": {},
   "source": [
    "### GBM"
   ]
  },
  {
   "cell_type": "code",
   "execution_count": 60,
   "metadata": {},
   "outputs": [
    {
     "data": {
      "text/plain": [
       "GradientBoostingClassifier(criterion='friedman_mse', init=None,\n",
       "              learning_rate=0.1, loss='deviance', max_depth=3,\n",
       "              max_features=None, max_leaf_nodes=None,\n",
       "              min_impurity_decrease=0.0, min_impurity_split=None,\n",
       "              min_samples_leaf=1, min_samples_split=2,\n",
       "              min_weight_fraction_leaf=0.0, n_estimators=100,\n",
       "              n_iter_no_change=None, presort='auto', random_state=None,\n",
       "              subsample=1.0, tol=0.0001, validation_fraction=0.1,\n",
       "              verbose=0, warm_start=False)"
      ]
     },
     "execution_count": 60,
     "metadata": {},
     "output_type": "execute_result"
    }
   ],
   "source": [
    "gbm= GradientBoostingClassifier()\n",
    "gbm.fit(x_train,y_train)"
   ]
  },
  {
   "cell_type": "code",
   "execution_count": 76,
   "metadata": {},
   "outputs": [
    {
     "name": "stdout",
     "output_type": "stream",
     "text": [
      "AUC: 0.859\n"
     ]
    }
   ],
   "source": [
    "probs = gbm.predict_proba(x_validate)\n",
    "probs = probs[:,1]\n",
    "# calculate AUC\n",
    "auc = roc_auc_score(y_validate, probs)\n",
    "print('AUC: %.3f' % auc)"
   ]
  },
  {
   "cell_type": "code",
   "execution_count": 66,
   "metadata": {},
   "outputs": [],
   "source": [
    "final_status = gbm.predict_proba(x_test)\n",
    "df_test[\"target\"]=final_status[:,1]\n",
    "df_test.to_csv(\"gbm.csv\",columns=['ID_code','target'])"
   ]
  },
  {
   "cell_type": "markdown",
   "metadata": {},
   "source": [
    "### Ada Boost"
   ]
  },
  {
   "cell_type": "code",
   "execution_count": 67,
   "metadata": {},
   "outputs": [
    {
     "data": {
      "text/plain": [
       "AdaBoostClassifier(algorithm='SAMME.R', base_estimator=None,\n",
       "          learning_rate=1.0, n_estimators=50, random_state=None)"
      ]
     },
     "execution_count": 67,
     "metadata": {},
     "output_type": "execute_result"
    }
   ],
   "source": [
    "from sklearn.ensemble import AdaBoostClassifier\n",
    "ada = AdaBoostClassifier()\n",
    "ada.fit(x_train,y_train)"
   ]
  },
  {
   "cell_type": "code",
   "execution_count": 74,
   "metadata": {},
   "outputs": [
    {
     "name": "stdout",
     "output_type": "stream",
     "text": [
      "AUC: 0.856\n"
     ]
    }
   ],
   "source": [
    "probs = ada.predict_proba(x_validate)\n",
    "probs = probs[:,1]\n",
    "# calculate AUC\n",
    "auc = roc_auc_score(y_validate, probs)\n",
    "print('AUC: %.3f' % auc)"
   ]
  },
  {
   "cell_type": "code",
   "execution_count": 78,
   "metadata": {},
   "outputs": [],
   "source": [
    "final_status = ada.predict_proba(x_test)\n",
    "df_test[\"target\"]=final_status[:,1]\n",
    "df_test.to_csv(\"ada.csv\",columns=['ID_code','target'])"
   ]
  },
  {
   "cell_type": "markdown",
   "metadata": {},
   "source": [
    "### Light GBM"
   ]
  },
  {
   "cell_type": "code",
   "execution_count": 76,
   "metadata": {},
   "outputs": [
    {
     "data": {
      "text/plain": [
       "LGBMClassifier(boosting_type='gbdt', class_weight=None, colsample_bytree=1.0,\n",
       "        importance_type='split', learning_rate=0.1, max_depth=-1,\n",
       "        min_child_samples=20, min_child_weight=0.001, min_split_gain=0.0,\n",
       "        n_estimators=100, n_jobs=-1, num_leaves=31, objective=None,\n",
       "        random_state=None, reg_alpha=0.0, reg_lambda=0.0, silent=False,\n",
       "        subsample=1.0, subsample_for_bin=200000, subsample_freq=0)"
      ]
     },
     "execution_count": 76,
     "metadata": {},
     "output_type": "execute_result"
    }
   ],
   "source": [
    "import lightgbm as lgb\n",
    "lg = lgb.LGBMClassifier(silent=False)\n",
    "lg.fit(x_train,y_train)"
   ]
  },
  {
   "cell_type": "code",
   "execution_count": 77,
   "metadata": {},
   "outputs": [
    {
     "name": "stdout",
     "output_type": "stream",
     "text": [
      "AUC: 0.865\n"
     ]
    }
   ],
   "source": [
    "probs = lg.predict_proba(x_validate)\n",
    "probs = probs[:,1]\n",
    "# calculate AUC\n",
    "auc = roc_auc_score(y_validate, probs)\n",
    "print('AUC: %.3f' % auc)"
   ]
  },
  {
   "cell_type": "code",
   "execution_count": 83,
   "metadata": {},
   "outputs": [],
   "source": [
    "final_status = lg.predict_proba(x_test)\n",
    "df_test[\"target\"]=final_status[:,1]\n",
    "df_test.to_csv(\"lg.csv\",columns=['ID_code','target'])"
   ]
  },
  {
   "cell_type": "markdown",
   "metadata": {},
   "source": [
    "### Xg Boost"
   ]
  },
  {
   "cell_type": "code",
   "execution_count": 75,
   "metadata": {},
   "outputs": [
    {
     "ename": "KeyboardInterrupt",
     "evalue": "",
     "output_type": "error",
     "traceback": [
      "\u001b[1;31m---------------------------------------------------------------------------\u001b[0m",
      "\u001b[1;31mKeyboardInterrupt\u001b[0m                         Traceback (most recent call last)",
      "\u001b[1;32m<ipython-input-75-b799dc615537>\u001b[0m in \u001b[0;36m<module>\u001b[1;34m()\u001b[0m\n\u001b[0;32m      1\u001b[0m \u001b[1;32mimport\u001b[0m \u001b[0mxgboost\u001b[0m \u001b[1;32mas\u001b[0m \u001b[0mxgb\u001b[0m\u001b[1;33m\u001b[0m\u001b[0m\n\u001b[0;32m      2\u001b[0m \u001b[0mxg\u001b[0m\u001b[1;33m=\u001b[0m\u001b[0mxgb\u001b[0m\u001b[1;33m.\u001b[0m\u001b[0mXGBClassifier\u001b[0m\u001b[1;33m(\u001b[0m\u001b[1;33m)\u001b[0m\u001b[1;33m\u001b[0m\u001b[0m\n\u001b[1;32m----> 3\u001b[1;33m \u001b[0mxg\u001b[0m\u001b[1;33m.\u001b[0m\u001b[0mfit\u001b[0m\u001b[1;33m(\u001b[0m\u001b[0mx_train\u001b[0m\u001b[1;33m,\u001b[0m \u001b[0my_train\u001b[0m\u001b[1;33m)\u001b[0m\u001b[1;33m\u001b[0m\u001b[0m\n\u001b[0m",
      "\u001b[1;32m~\\Anaconda3\\lib\\site-packages\\xgboost\\sklearn.py\u001b[0m in \u001b[0;36mfit\u001b[1;34m(self, X, y, sample_weight, eval_set, eval_metric, early_stopping_rounds, verbose, xgb_model, sample_weight_eval_set, callbacks)\u001b[0m\n\u001b[0;32m    711\u001b[0m                               \u001b[0mevals_result\u001b[0m\u001b[1;33m=\u001b[0m\u001b[0mevals_result\u001b[0m\u001b[1;33m,\u001b[0m \u001b[0mobj\u001b[0m\u001b[1;33m=\u001b[0m\u001b[0mobj\u001b[0m\u001b[1;33m,\u001b[0m \u001b[0mfeval\u001b[0m\u001b[1;33m=\u001b[0m\u001b[0mfeval\u001b[0m\u001b[1;33m,\u001b[0m\u001b[1;33m\u001b[0m\u001b[0m\n\u001b[0;32m    712\u001b[0m                               \u001b[0mverbose_eval\u001b[0m\u001b[1;33m=\u001b[0m\u001b[0mverbose\u001b[0m\u001b[1;33m,\u001b[0m \u001b[0mxgb_model\u001b[0m\u001b[1;33m=\u001b[0m\u001b[0mxgb_model\u001b[0m\u001b[1;33m,\u001b[0m\u001b[1;33m\u001b[0m\u001b[0m\n\u001b[1;32m--> 713\u001b[1;33m                               callbacks=callbacks)\n\u001b[0m\u001b[0;32m    714\u001b[0m \u001b[1;33m\u001b[0m\u001b[0m\n\u001b[0;32m    715\u001b[0m         \u001b[0mself\u001b[0m\u001b[1;33m.\u001b[0m\u001b[0mobjective\u001b[0m \u001b[1;33m=\u001b[0m \u001b[0mxgb_options\u001b[0m\u001b[1;33m[\u001b[0m\u001b[1;34m\"objective\"\u001b[0m\u001b[1;33m]\u001b[0m\u001b[1;33m\u001b[0m\u001b[0m\n",
      "\u001b[1;32m~\\Anaconda3\\lib\\site-packages\\xgboost\\training.py\u001b[0m in \u001b[0;36mtrain\u001b[1;34m(params, dtrain, num_boost_round, evals, obj, feval, maximize, early_stopping_rounds, evals_result, verbose_eval, xgb_model, callbacks, learning_rates)\u001b[0m\n\u001b[0;32m    214\u001b[0m                            \u001b[0mevals\u001b[0m\u001b[1;33m=\u001b[0m\u001b[0mevals\u001b[0m\u001b[1;33m,\u001b[0m\u001b[1;33m\u001b[0m\u001b[0m\n\u001b[0;32m    215\u001b[0m                            \u001b[0mobj\u001b[0m\u001b[1;33m=\u001b[0m\u001b[0mobj\u001b[0m\u001b[1;33m,\u001b[0m \u001b[0mfeval\u001b[0m\u001b[1;33m=\u001b[0m\u001b[0mfeval\u001b[0m\u001b[1;33m,\u001b[0m\u001b[1;33m\u001b[0m\u001b[0m\n\u001b[1;32m--> 216\u001b[1;33m                            xgb_model=xgb_model, callbacks=callbacks)\n\u001b[0m\u001b[0;32m    217\u001b[0m \u001b[1;33m\u001b[0m\u001b[0m\n\u001b[0;32m    218\u001b[0m \u001b[1;33m\u001b[0m\u001b[0m\n",
      "\u001b[1;32m~\\Anaconda3\\lib\\site-packages\\xgboost\\training.py\u001b[0m in \u001b[0;36m_train_internal\u001b[1;34m(params, dtrain, num_boost_round, evals, obj, feval, xgb_model, callbacks)\u001b[0m\n\u001b[0;32m     72\u001b[0m         \u001b[1;31m# Skip the first update if it is a recovery step.\u001b[0m\u001b[1;33m\u001b[0m\u001b[1;33m\u001b[0m\u001b[0m\n\u001b[0;32m     73\u001b[0m         \u001b[1;32mif\u001b[0m \u001b[0mversion\u001b[0m \u001b[1;33m%\u001b[0m \u001b[1;36m2\u001b[0m \u001b[1;33m==\u001b[0m \u001b[1;36m0\u001b[0m\u001b[1;33m:\u001b[0m\u001b[1;33m\u001b[0m\u001b[0m\n\u001b[1;32m---> 74\u001b[1;33m             \u001b[0mbst\u001b[0m\u001b[1;33m.\u001b[0m\u001b[0mupdate\u001b[0m\u001b[1;33m(\u001b[0m\u001b[0mdtrain\u001b[0m\u001b[1;33m,\u001b[0m \u001b[0mi\u001b[0m\u001b[1;33m,\u001b[0m \u001b[0mobj\u001b[0m\u001b[1;33m)\u001b[0m\u001b[1;33m\u001b[0m\u001b[0m\n\u001b[0m\u001b[0;32m     75\u001b[0m             \u001b[0mbst\u001b[0m\u001b[1;33m.\u001b[0m\u001b[0msave_rabit_checkpoint\u001b[0m\u001b[1;33m(\u001b[0m\u001b[1;33m)\u001b[0m\u001b[1;33m\u001b[0m\u001b[0m\n\u001b[0;32m     76\u001b[0m             \u001b[0mversion\u001b[0m \u001b[1;33m+=\u001b[0m \u001b[1;36m1\u001b[0m\u001b[1;33m\u001b[0m\u001b[0m\n",
      "\u001b[1;32m~\\Anaconda3\\lib\\site-packages\\xgboost\\core.py\u001b[0m in \u001b[0;36mupdate\u001b[1;34m(self, dtrain, iteration, fobj)\u001b[0m\n\u001b[0;32m   1108\u001b[0m         \u001b[1;32mif\u001b[0m \u001b[0mfobj\u001b[0m \u001b[1;32mis\u001b[0m \u001b[1;32mNone\u001b[0m\u001b[1;33m:\u001b[0m\u001b[1;33m\u001b[0m\u001b[0m\n\u001b[0;32m   1109\u001b[0m             _check_call(_LIB.XGBoosterUpdateOneIter(self.handle, ctypes.c_int(iteration),\n\u001b[1;32m-> 1110\u001b[1;33m                                                     dtrain.handle))\n\u001b[0m\u001b[0;32m   1111\u001b[0m         \u001b[1;32melse\u001b[0m\u001b[1;33m:\u001b[0m\u001b[1;33m\u001b[0m\u001b[0m\n\u001b[0;32m   1112\u001b[0m             \u001b[0mpred\u001b[0m \u001b[1;33m=\u001b[0m \u001b[0mself\u001b[0m\u001b[1;33m.\u001b[0m\u001b[0mpredict\u001b[0m\u001b[1;33m(\u001b[0m\u001b[0mdtrain\u001b[0m\u001b[1;33m)\u001b[0m\u001b[1;33m\u001b[0m\u001b[0m\n",
      "\u001b[1;31mKeyboardInterrupt\u001b[0m: "
     ]
    }
   ],
   "source": [
    "import xgboost as xgb\n",
    "xg=xgb.XGBClassifier()\n",
    "xg.fit(x_train, y_train)"
   ]
  },
  {
   "cell_type": "code",
   "execution_count": 89,
   "metadata": {},
   "outputs": [
    {
     "name": "stdout",
     "output_type": "stream",
     "text": [
      "AUC: 0.858\n"
     ]
    }
   ],
   "source": [
    "probs = xg.predict_proba(x_validate)\n",
    "probs = probs[:,1]\n",
    "# calculate AUC\n",
    "auc = roc_auc_score(y_validate, probs)\n",
    "print('AUC: %.3f' % auc)"
   ]
  },
  {
   "cell_type": "markdown",
   "metadata": {},
   "source": [
    "### Cat Boost"
   ]
  },
  {
   "cell_type": "code",
   "execution_count": 57,
   "metadata": {},
   "outputs": [
    {
     "name": "stdout",
     "output_type": "stream",
     "text": [
      "Learning rate set to 0.06914\n",
      "0:\tlearn: 0.6336112\ttotal: 2.5s\tremaining: 41m 43s\n",
      "1:\tlearn: 0.5837449\ttotal: 3.43s\tremaining: 28m 30s\n",
      "2:\tlearn: 0.5420037\ttotal: 3.85s\tremaining: 21m 19s\n",
      "3:\tlearn: 0.5071254\ttotal: 4.25s\tremaining: 17m 39s\n",
      "4:\tlearn: 0.4773178\ttotal: 4.53s\tremaining: 15m 1s\n",
      "5:\tlearn: 0.4535069\ttotal: 4.81s\tremaining: 13m 17s\n",
      "6:\tlearn: 0.4323263\ttotal: 5.23s\tremaining: 12m 22s\n",
      "7:\tlearn: 0.4142300\ttotal: 5.53s\tremaining: 11m 26s\n",
      "8:\tlearn: 0.3993409\ttotal: 5.86s\tremaining: 10m 44s\n",
      "9:\tlearn: 0.3859029\ttotal: 6.38s\tremaining: 10m 32s\n",
      "10:\tlearn: 0.3751170\ttotal: 6.69s\tremaining: 10m 1s\n",
      "11:\tlearn: 0.3649890\ttotal: 6.94s\tremaining: 9m 31s\n",
      "12:\tlearn: 0.3569453\ttotal: 7.33s\tremaining: 9m 16s\n",
      "13:\tlearn: 0.3493594\ttotal: 7.64s\tremaining: 8m 57s\n",
      "14:\tlearn: 0.3426829\ttotal: 8.21s\tremaining: 8m 58s\n",
      "15:\tlearn: 0.3373662\ttotal: 8.49s\tremaining: 8m 42s\n",
      "16:\tlearn: 0.3324897\ttotal: 8.8s\tremaining: 8m 28s\n",
      "17:\tlearn: 0.3284743\ttotal: 9.07s\tremaining: 8m 14s\n",
      "18:\tlearn: 0.3246656\ttotal: 9.36s\tremaining: 8m 3s\n",
      "19:\tlearn: 0.3212762\ttotal: 9.64s\tremaining: 7m 52s\n",
      "20:\tlearn: 0.3182629\ttotal: 9.92s\tremaining: 7m 42s\n",
      "21:\tlearn: 0.3156396\ttotal: 10.2s\tremaining: 7m 32s\n",
      "22:\tlearn: 0.3132003\ttotal: 10.5s\tremaining: 7m 24s\n",
      "23:\tlearn: 0.3110653\ttotal: 10.8s\tremaining: 7m 18s\n",
      "24:\tlearn: 0.3089614\ttotal: 11.1s\tremaining: 7m 12s\n",
      "25:\tlearn: 0.3072216\ttotal: 11.4s\tremaining: 7m 7s\n",
      "26:\tlearn: 0.3056528\ttotal: 11.7s\tremaining: 7m 1s\n",
      "27:\tlearn: 0.3041712\ttotal: 11.9s\tremaining: 6m 54s\n",
      "28:\tlearn: 0.3027454\ttotal: 12.5s\tremaining: 6m 57s\n",
      "29:\tlearn: 0.3013930\ttotal: 12.8s\tremaining: 6m 53s\n",
      "30:\tlearn: 0.3002523\ttotal: 13.3s\tremaining: 6m 55s\n",
      "31:\tlearn: 0.2991369\ttotal: 13.6s\tremaining: 6m 52s\n",
      "32:\tlearn: 0.2980537\ttotal: 13.9s\tremaining: 6m 46s\n",
      "33:\tlearn: 0.2970317\ttotal: 14.1s\tremaining: 6m 40s\n",
      "34:\tlearn: 0.2960022\ttotal: 14.3s\tremaining: 6m 35s\n",
      "35:\tlearn: 0.2951167\ttotal: 14.5s\tremaining: 6m 29s\n",
      "36:\tlearn: 0.2942345\ttotal: 15.1s\tremaining: 6m 33s\n",
      "37:\tlearn: 0.2933485\ttotal: 15.3s\tremaining: 6m 28s\n",
      "38:\tlearn: 0.2925650\ttotal: 15.6s\tremaining: 6m 23s\n",
      "39:\tlearn: 0.2917353\ttotal: 15.8s\tremaining: 6m 19s\n",
      "40:\tlearn: 0.2909423\ttotal: 16s\tremaining: 6m 15s\n",
      "41:\tlearn: 0.2902027\ttotal: 16.3s\tremaining: 6m 11s\n",
      "42:\tlearn: 0.2895448\ttotal: 16.5s\tremaining: 6m 6s\n",
      "43:\tlearn: 0.2888472\ttotal: 16.7s\tremaining: 6m 2s\n",
      "44:\tlearn: 0.2880988\ttotal: 17.3s\tremaining: 6m 6s\n",
      "45:\tlearn: 0.2873773\ttotal: 17.5s\tremaining: 6m 3s\n",
      "46:\tlearn: 0.2866960\ttotal: 17.7s\tremaining: 5m 59s\n",
      "47:\tlearn: 0.2860464\ttotal: 18s\tremaining: 5m 56s\n",
      "48:\tlearn: 0.2854092\ttotal: 18.2s\tremaining: 5m 52s\n",
      "49:\tlearn: 0.2848366\ttotal: 18.4s\tremaining: 5m 49s\n",
      "50:\tlearn: 0.2841963\ttotal: 18.7s\tremaining: 5m 48s\n",
      "51:\tlearn: 0.2836119\ttotal: 19s\tremaining: 5m 45s\n",
      "52:\tlearn: 0.2829967\ttotal: 19.2s\tremaining: 5m 43s\n",
      "53:\tlearn: 0.2823713\ttotal: 19.5s\tremaining: 5m 41s\n",
      "54:\tlearn: 0.2818340\ttotal: 19.7s\tremaining: 5m 39s\n",
      "55:\tlearn: 0.2812403\ttotal: 20s\tremaining: 5m 36s\n",
      "56:\tlearn: 0.2806836\ttotal: 20.2s\tremaining: 5m 34s\n",
      "57:\tlearn: 0.2801250\ttotal: 20.5s\tremaining: 5m 33s\n",
      "58:\tlearn: 0.2796061\ttotal: 20.8s\tremaining: 5m 31s\n",
      "59:\tlearn: 0.2790680\ttotal: 21s\tremaining: 5m 29s\n",
      "60:\tlearn: 0.2785031\ttotal: 21.3s\tremaining: 5m 27s\n",
      "61:\tlearn: 0.2779632\ttotal: 21.5s\tremaining: 5m 25s\n",
      "62:\tlearn: 0.2774900\ttotal: 22s\tremaining: 5m 26s\n",
      "63:\tlearn: 0.2770000\ttotal: 22.2s\tremaining: 5m 24s\n",
      "64:\tlearn: 0.2765063\ttotal: 22.4s\tremaining: 5m 22s\n",
      "65:\tlearn: 0.2760069\ttotal: 22.7s\tremaining: 5m 21s\n",
      "66:\tlearn: 0.2755443\ttotal: 22.9s\tremaining: 5m 19s\n",
      "67:\tlearn: 0.2750659\ttotal: 23.2s\tremaining: 5m 17s\n",
      "68:\tlearn: 0.2745828\ttotal: 23.4s\tremaining: 5m 15s\n",
      "69:\tlearn: 0.2740761\ttotal: 23.7s\tremaining: 5m 14s\n",
      "70:\tlearn: 0.2736614\ttotal: 24s\tremaining: 5m 13s\n",
      "71:\tlearn: 0.2732196\ttotal: 24.2s\tremaining: 5m 12s\n",
      "72:\tlearn: 0.2727900\ttotal: 24.5s\tremaining: 5m 10s\n",
      "73:\tlearn: 0.2722906\ttotal: 24.7s\tremaining: 5m 9s\n",
      "74:\tlearn: 0.2718580\ttotal: 25.3s\tremaining: 5m 11s\n",
      "75:\tlearn: 0.2714187\ttotal: 25.5s\tremaining: 5m 9s\n",
      "76:\tlearn: 0.2709558\ttotal: 25.8s\tremaining: 5m 8s\n",
      "77:\tlearn: 0.2705207\ttotal: 26s\tremaining: 5m 7s\n",
      "78:\tlearn: 0.2700772\ttotal: 26.3s\tremaining: 5m 6s\n",
      "79:\tlearn: 0.2696283\ttotal: 26.6s\tremaining: 5m 5s\n",
      "80:\tlearn: 0.2691745\ttotal: 26.9s\tremaining: 5m 4s\n",
      "81:\tlearn: 0.2687549\ttotal: 27.2s\tremaining: 5m 4s\n",
      "82:\tlearn: 0.2683192\ttotal: 27.5s\tremaining: 5m 3s\n",
      "83:\tlearn: 0.2678873\ttotal: 27.7s\tremaining: 5m 2s\n",
      "84:\tlearn: 0.2674394\ttotal: 28s\tremaining: 5m 1s\n",
      "85:\tlearn: 0.2670122\ttotal: 28.3s\tremaining: 5m\n",
      "86:\tlearn: 0.2666093\ttotal: 28.5s\tremaining: 4m 59s\n",
      "87:\tlearn: 0.2662578\ttotal: 28.7s\tremaining: 4m 57s\n",
      "88:\tlearn: 0.2658759\ttotal: 29s\tremaining: 4m 56s\n",
      "89:\tlearn: 0.2654728\ttotal: 29.3s\tremaining: 4m 56s\n",
      "90:\tlearn: 0.2650917\ttotal: 29.6s\tremaining: 4m 55s\n",
      "91:\tlearn: 0.2646921\ttotal: 29.8s\tremaining: 4m 54s\n",
      "92:\tlearn: 0.2643131\ttotal: 30.1s\tremaining: 4m 53s\n",
      "93:\tlearn: 0.2639242\ttotal: 30.3s\tremaining: 4m 52s\n",
      "94:\tlearn: 0.2635312\ttotal: 30.6s\tremaining: 4m 51s\n",
      "95:\tlearn: 0.2631413\ttotal: 30.8s\tremaining: 4m 50s\n",
      "96:\tlearn: 0.2627621\ttotal: 31.1s\tremaining: 4m 49s\n",
      "97:\tlearn: 0.2624026\ttotal: 31.4s\tremaining: 4m 48s\n",
      "98:\tlearn: 0.2620247\ttotal: 31.6s\tremaining: 4m 47s\n",
      "99:\tlearn: 0.2616183\ttotal: 31.9s\tremaining: 4m 46s\n",
      "100:\tlearn: 0.2612737\ttotal: 32.2s\tremaining: 4m 46s\n",
      "101:\tlearn: 0.2609271\ttotal: 32.4s\tremaining: 4m 45s\n",
      "102:\tlearn: 0.2605567\ttotal: 32.7s\tremaining: 4m 44s\n",
      "103:\tlearn: 0.2601989\ttotal: 33s\tremaining: 4m 43s\n",
      "104:\tlearn: 0.2598607\ttotal: 33.2s\tremaining: 4m 42s\n",
      "105:\tlearn: 0.2595567\ttotal: 33.5s\tremaining: 4m 42s\n",
      "106:\tlearn: 0.2592193\ttotal: 33.7s\tremaining: 4m 41s\n",
      "107:\tlearn: 0.2588943\ttotal: 34s\tremaining: 4m 40s\n",
      "108:\tlearn: 0.2585448\ttotal: 34.2s\tremaining: 4m 39s\n",
      "109:\tlearn: 0.2582370\ttotal: 34.4s\tremaining: 4m 38s\n",
      "110:\tlearn: 0.2578845\ttotal: 34.7s\tremaining: 4m 37s\n",
      "111:\tlearn: 0.2575175\ttotal: 34.9s\tremaining: 4m 37s\n",
      "112:\tlearn: 0.2572087\ttotal: 35.9s\tremaining: 4m 41s\n",
      "113:\tlearn: 0.2568683\ttotal: 36.1s\tremaining: 4m 40s\n",
      "114:\tlearn: 0.2565505\ttotal: 36.4s\tremaining: 4m 40s\n",
      "115:\tlearn: 0.2562433\ttotal: 36.7s\tremaining: 4m 39s\n",
      "116:\tlearn: 0.2559240\ttotal: 37s\tremaining: 4m 39s\n",
      "117:\tlearn: 0.2556307\ttotal: 37.3s\tremaining: 4m 38s\n",
      "118:\tlearn: 0.2553178\ttotal: 37.5s\tremaining: 4m 37s\n",
      "119:\tlearn: 0.2549990\ttotal: 37.8s\tremaining: 4m 37s\n",
      "120:\tlearn: 0.2547008\ttotal: 38.1s\tremaining: 4m 36s\n",
      "121:\tlearn: 0.2544003\ttotal: 38.4s\tremaining: 4m 36s\n",
      "122:\tlearn: 0.2541238\ttotal: 38.6s\tremaining: 4m 35s\n",
      "123:\tlearn: 0.2538420\ttotal: 38.9s\tremaining: 4m 34s\n",
      "124:\tlearn: 0.2535939\ttotal: 39.1s\tremaining: 4m 33s\n",
      "125:\tlearn: 0.2532919\ttotal: 39.3s\tremaining: 4m 32s\n",
      "126:\tlearn: 0.2529985\ttotal: 39.7s\tremaining: 4m 32s\n",
      "127:\tlearn: 0.2527265\ttotal: 39.9s\tremaining: 4m 32s\n",
      "128:\tlearn: 0.2524377\ttotal: 40.4s\tremaining: 4m 32s\n",
      "129:\tlearn: 0.2521538\ttotal: 40.6s\tremaining: 4m 31s\n",
      "130:\tlearn: 0.2518777\ttotal: 40.9s\tremaining: 4m 31s\n",
      "131:\tlearn: 0.2515719\ttotal: 41.1s\tremaining: 4m 30s\n",
      "132:\tlearn: 0.2513038\ttotal: 41.3s\tremaining: 4m 29s\n",
      "133:\tlearn: 0.2510377\ttotal: 41.6s\tremaining: 4m 28s\n",
      "134:\tlearn: 0.2507307\ttotal: 41.8s\tremaining: 4m 27s\n",
      "135:\tlearn: 0.2504566\ttotal: 42.1s\tremaining: 4m 27s\n",
      "136:\tlearn: 0.2501964\ttotal: 42.3s\tremaining: 4m 26s\n",
      "137:\tlearn: 0.2499163\ttotal: 42.6s\tremaining: 4m 25s\n",
      "138:\tlearn: 0.2496427\ttotal: 42.9s\tremaining: 4m 25s\n",
      "139:\tlearn: 0.2493824\ttotal: 43.1s\tremaining: 4m 24s\n",
      "140:\tlearn: 0.2491102\ttotal: 43.3s\tremaining: 4m 23s\n",
      "141:\tlearn: 0.2488661\ttotal: 43.6s\tremaining: 4m 23s\n",
      "142:\tlearn: 0.2485972\ttotal: 43.9s\tremaining: 4m 23s\n",
      "143:\tlearn: 0.2483212\ttotal: 44.2s\tremaining: 4m 22s\n",
      "144:\tlearn: 0.2480606\ttotal: 44.4s\tremaining: 4m 21s\n",
      "145:\tlearn: 0.2477835\ttotal: 44.7s\tremaining: 4m 21s\n",
      "146:\tlearn: 0.2475377\ttotal: 44.9s\tremaining: 4m 20s\n",
      "147:\tlearn: 0.2472510\ttotal: 45.2s\tremaining: 4m 20s\n",
      "148:\tlearn: 0.2470124\ttotal: 45.4s\tremaining: 4m 19s\n",
      "149:\tlearn: 0.2467466\ttotal: 45.8s\tremaining: 4m 19s\n",
      "150:\tlearn: 0.2464830\ttotal: 46s\tremaining: 4m 18s\n",
      "151:\tlearn: 0.2462416\ttotal: 46.3s\tremaining: 4m 18s\n",
      "152:\tlearn: 0.2460152\ttotal: 46.5s\tremaining: 4m 17s\n",
      "153:\tlearn: 0.2457664\ttotal: 46.7s\tremaining: 4m 16s\n",
      "154:\tlearn: 0.2455104\ttotal: 47s\tremaining: 4m 16s\n",
      "155:\tlearn: 0.2452486\ttotal: 47.2s\tremaining: 4m 15s\n",
      "156:\tlearn: 0.2450120\ttotal: 47.4s\tremaining: 4m 14s\n"
     ]
    },
    {
     "name": "stdout",
     "output_type": "stream",
     "text": [
      "157:\tlearn: 0.2447868\ttotal: 47.7s\tremaining: 4m 13s\n",
      "158:\tlearn: 0.2445573\ttotal: 47.9s\tremaining: 4m 13s\n",
      "159:\tlearn: 0.2443093\ttotal: 48.2s\tremaining: 4m 12s\n",
      "160:\tlearn: 0.2440664\ttotal: 48.5s\tremaining: 4m 12s\n",
      "161:\tlearn: 0.2438173\ttotal: 48.7s\tremaining: 4m 11s\n",
      "162:\tlearn: 0.2435752\ttotal: 48.9s\tremaining: 4m 11s\n",
      "163:\tlearn: 0.2433621\ttotal: 49.1s\tremaining: 4m 10s\n",
      "164:\tlearn: 0.2431091\ttotal: 49.4s\tremaining: 4m 10s\n",
      "165:\tlearn: 0.2429114\ttotal: 49.6s\tremaining: 4m 9s\n",
      "166:\tlearn: 0.2426838\ttotal: 49.9s\tremaining: 4m 8s\n",
      "167:\tlearn: 0.2424438\ttotal: 50.1s\tremaining: 4m 8s\n",
      "168:\tlearn: 0.2421929\ttotal: 50.3s\tremaining: 4m 7s\n",
      "169:\tlearn: 0.2419863\ttotal: 50.5s\tremaining: 4m 6s\n",
      "170:\tlearn: 0.2417563\ttotal: 50.8s\tremaining: 4m 6s\n",
      "171:\tlearn: 0.2415410\ttotal: 51s\tremaining: 4m 5s\n",
      "172:\tlearn: 0.2413080\ttotal: 51.2s\tremaining: 4m 4s\n",
      "173:\tlearn: 0.2410859\ttotal: 51.5s\tremaining: 4m 4s\n",
      "174:\tlearn: 0.2408780\ttotal: 51.7s\tremaining: 4m 3s\n",
      "175:\tlearn: 0.2406731\ttotal: 51.9s\tremaining: 4m 2s\n",
      "176:\tlearn: 0.2404474\ttotal: 52.2s\tremaining: 4m 2s\n",
      "177:\tlearn: 0.2402337\ttotal: 52.4s\tremaining: 4m 1s\n",
      "178:\tlearn: 0.2400173\ttotal: 52.6s\tremaining: 4m 1s\n",
      "179:\tlearn: 0.2398136\ttotal: 52.8s\tremaining: 4m\n",
      "180:\tlearn: 0.2396102\ttotal: 53.1s\tremaining: 4m\n",
      "181:\tlearn: 0.2393957\ttotal: 53.4s\tremaining: 4m\n",
      "182:\tlearn: 0.2391651\ttotal: 53.7s\tremaining: 3m 59s\n",
      "183:\tlearn: 0.2389598\ttotal: 54s\tremaining: 3m 59s\n",
      "184:\tlearn: 0.2387464\ttotal: 54.3s\tremaining: 3m 59s\n",
      "185:\tlearn: 0.2385239\ttotal: 54.5s\tremaining: 3m 58s\n",
      "186:\tlearn: 0.2383163\ttotal: 54.7s\tremaining: 3m 57s\n",
      "187:\tlearn: 0.2381097\ttotal: 55s\tremaining: 3m 57s\n",
      "188:\tlearn: 0.2379146\ttotal: 55.2s\tremaining: 3m 56s\n",
      "189:\tlearn: 0.2377129\ttotal: 55.4s\tremaining: 3m 56s\n",
      "190:\tlearn: 0.2374999\ttotal: 55.7s\tremaining: 3m 55s\n",
      "191:\tlearn: 0.2373023\ttotal: 55.9s\tremaining: 3m 55s\n",
      "192:\tlearn: 0.2370996\ttotal: 56.2s\tremaining: 3m 54s\n",
      "193:\tlearn: 0.2368971\ttotal: 56.5s\tremaining: 3m 54s\n",
      "194:\tlearn: 0.2366944\ttotal: 56.7s\tremaining: 3m 53s\n",
      "195:\tlearn: 0.2365070\ttotal: 56.9s\tremaining: 3m 53s\n",
      "196:\tlearn: 0.2362937\ttotal: 57.2s\tremaining: 3m 52s\n",
      "197:\tlearn: 0.2361007\ttotal: 57.4s\tremaining: 3m 52s\n",
      "198:\tlearn: 0.2359212\ttotal: 57.6s\tremaining: 3m 51s\n",
      "199:\tlearn: 0.2357264\ttotal: 57.9s\tremaining: 3m 51s\n",
      "200:\tlearn: 0.2355129\ttotal: 58.2s\tremaining: 3m 51s\n",
      "201:\tlearn: 0.2352968\ttotal: 58.5s\tremaining: 3m 50s\n",
      "202:\tlearn: 0.2351323\ttotal: 58.7s\tremaining: 3m 50s\n",
      "203:\tlearn: 0.2349423\ttotal: 59s\tremaining: 3m 50s\n",
      "204:\tlearn: 0.2347740\ttotal: 59.2s\tremaining: 3m 49s\n",
      "205:\tlearn: 0.2346068\ttotal: 59.4s\tremaining: 3m 49s\n",
      "206:\tlearn: 0.2344090\ttotal: 59.7s\tremaining: 3m 48s\n",
      "207:\tlearn: 0.2342385\ttotal: 59.9s\tremaining: 3m 47s\n",
      "208:\tlearn: 0.2340563\ttotal: 1m\tremaining: 3m 47s\n",
      "209:\tlearn: 0.2338767\ttotal: 1m\tremaining: 3m 46s\n",
      "210:\tlearn: 0.2336942\ttotal: 1m\tremaining: 3m 46s\n",
      "211:\tlearn: 0.2334979\ttotal: 1m\tremaining: 3m 46s\n",
      "212:\tlearn: 0.2333203\ttotal: 1m 1s\tremaining: 3m 45s\n",
      "213:\tlearn: 0.2331456\ttotal: 1m 1s\tremaining: 3m 45s\n",
      "214:\tlearn: 0.2329705\ttotal: 1m 1s\tremaining: 3m 45s\n",
      "215:\tlearn: 0.2328148\ttotal: 1m 2s\tremaining: 3m 45s\n",
      "216:\tlearn: 0.2326219\ttotal: 1m 2s\tremaining: 3m 44s\n",
      "217:\tlearn: 0.2324359\ttotal: 1m 2s\tremaining: 3m 44s\n",
      "218:\tlearn: 0.2322583\ttotal: 1m 2s\tremaining: 3m 44s\n",
      "219:\tlearn: 0.2320997\ttotal: 1m 3s\tremaining: 3m 43s\n",
      "220:\tlearn: 0.2319182\ttotal: 1m 3s\tremaining: 3m 43s\n",
      "221:\tlearn: 0.2317533\ttotal: 1m 3s\tremaining: 3m 43s\n",
      "222:\tlearn: 0.2315793\ttotal: 1m 3s\tremaining: 3m 42s\n",
      "223:\tlearn: 0.2314045\ttotal: 1m 4s\tremaining: 3m 42s\n",
      "224:\tlearn: 0.2312069\ttotal: 1m 4s\tremaining: 3m 42s\n",
      "225:\tlearn: 0.2310171\ttotal: 1m 4s\tremaining: 3m 42s\n",
      "226:\tlearn: 0.2308386\ttotal: 1m 5s\tremaining: 3m 41s\n",
      "227:\tlearn: 0.2306925\ttotal: 1m 5s\tremaining: 3m 41s\n",
      "228:\tlearn: 0.2305337\ttotal: 1m 5s\tremaining: 3m 41s\n",
      "229:\tlearn: 0.2303667\ttotal: 1m 6s\tremaining: 3m 41s\n",
      "230:\tlearn: 0.2301857\ttotal: 1m 6s\tremaining: 3m 40s\n",
      "231:\tlearn: 0.2300203\ttotal: 1m 6s\tremaining: 3m 40s\n",
      "232:\tlearn: 0.2298374\ttotal: 1m 6s\tremaining: 3m 40s\n",
      "233:\tlearn: 0.2296626\ttotal: 1m 7s\tremaining: 3m 40s\n",
      "234:\tlearn: 0.2294795\ttotal: 1m 7s\tremaining: 3m 39s\n",
      "235:\tlearn: 0.2293231\ttotal: 1m 7s\tremaining: 3m 39s\n",
      "236:\tlearn: 0.2291303\ttotal: 1m 8s\tremaining: 3m 39s\n",
      "237:\tlearn: 0.2289674\ttotal: 1m 8s\tremaining: 3m 39s\n",
      "238:\tlearn: 0.2288117\ttotal: 1m 8s\tremaining: 3m 38s\n",
      "239:\tlearn: 0.2286350\ttotal: 1m 9s\tremaining: 3m 38s\n",
      "240:\tlearn: 0.2284844\ttotal: 1m 9s\tremaining: 3m 38s\n",
      "241:\tlearn: 0.2283166\ttotal: 1m 9s\tremaining: 3m 37s\n",
      "242:\tlearn: 0.2281648\ttotal: 1m 9s\tremaining: 3m 37s\n",
      "243:\tlearn: 0.2279945\ttotal: 1m 9s\tremaining: 3m 36s\n",
      "244:\tlearn: 0.2278310\ttotal: 1m 10s\tremaining: 3m 36s\n",
      "245:\tlearn: 0.2276841\ttotal: 1m 10s\tremaining: 3m 35s\n",
      "246:\tlearn: 0.2275222\ttotal: 1m 10s\tremaining: 3m 35s\n",
      "247:\tlearn: 0.2273614\ttotal: 1m 10s\tremaining: 3m 35s\n",
      "248:\tlearn: 0.2272011\ttotal: 1m 11s\tremaining: 3m 34s\n",
      "249:\tlearn: 0.2270563\ttotal: 1m 11s\tremaining: 3m 34s\n",
      "250:\tlearn: 0.2268855\ttotal: 1m 11s\tremaining: 3m 33s\n",
      "251:\tlearn: 0.2267367\ttotal: 1m 11s\tremaining: 3m 33s\n",
      "252:\tlearn: 0.2265790\ttotal: 1m 12s\tremaining: 3m 32s\n",
      "253:\tlearn: 0.2264340\ttotal: 1m 12s\tremaining: 3m 32s\n",
      "254:\tlearn: 0.2262731\ttotal: 1m 12s\tremaining: 3m 32s\n",
      "255:\tlearn: 0.2261279\ttotal: 1m 12s\tremaining: 3m 31s\n",
      "256:\tlearn: 0.2259768\ttotal: 1m 13s\tremaining: 3m 31s\n",
      "257:\tlearn: 0.2258323\ttotal: 1m 13s\tremaining: 3m 30s\n",
      "258:\tlearn: 0.2256999\ttotal: 1m 13s\tremaining: 3m 30s\n",
      "259:\tlearn: 0.2255681\ttotal: 1m 13s\tremaining: 3m 30s\n",
      "260:\tlearn: 0.2254039\ttotal: 1m 14s\tremaining: 3m 29s\n",
      "261:\tlearn: 0.2252404\ttotal: 1m 14s\tremaining: 3m 29s\n",
      "262:\tlearn: 0.2250845\ttotal: 1m 14s\tremaining: 3m 29s\n",
      "263:\tlearn: 0.2249382\ttotal: 1m 14s\tremaining: 3m 28s\n",
      "264:\tlearn: 0.2248030\ttotal: 1m 15s\tremaining: 3m 28s\n",
      "265:\tlearn: 0.2246416\ttotal: 1m 15s\tremaining: 3m 27s\n",
      "266:\tlearn: 0.2245026\ttotal: 1m 15s\tremaining: 3m 27s\n",
      "267:\tlearn: 0.2243603\ttotal: 1m 15s\tremaining: 3m 26s\n",
      "268:\tlearn: 0.2242324\ttotal: 1m 15s\tremaining: 3m 26s\n",
      "269:\tlearn: 0.2241188\ttotal: 1m 16s\tremaining: 3m 25s\n",
      "270:\tlearn: 0.2239842\ttotal: 1m 16s\tremaining: 3m 25s\n",
      "271:\tlearn: 0.2238402\ttotal: 1m 16s\tremaining: 3m 25s\n",
      "272:\tlearn: 0.2237002\ttotal: 1m 16s\tremaining: 3m 24s\n",
      "273:\tlearn: 0.2235796\ttotal: 1m 17s\tremaining: 3m 24s\n",
      "274:\tlearn: 0.2234385\ttotal: 1m 17s\tremaining: 3m 24s\n",
      "275:\tlearn: 0.2233154\ttotal: 1m 17s\tremaining: 3m 24s\n",
      "276:\tlearn: 0.2231660\ttotal: 1m 18s\tremaining: 3m 23s\n",
      "277:\tlearn: 0.2230106\ttotal: 1m 18s\tremaining: 3m 23s\n",
      "278:\tlearn: 0.2228664\ttotal: 1m 18s\tremaining: 3m 22s\n",
      "279:\tlearn: 0.2227116\ttotal: 1m 18s\tremaining: 3m 22s\n",
      "280:\tlearn: 0.2225850\ttotal: 1m 19s\tremaining: 3m 22s\n",
      "281:\tlearn: 0.2224416\ttotal: 1m 19s\tremaining: 3m 22s\n",
      "282:\tlearn: 0.2223080\ttotal: 1m 19s\tremaining: 3m 21s\n",
      "283:\tlearn: 0.2221629\ttotal: 1m 19s\tremaining: 3m 21s\n",
      "284:\tlearn: 0.2220279\ttotal: 1m 20s\tremaining: 3m 20s\n",
      "285:\tlearn: 0.2218860\ttotal: 1m 20s\tremaining: 3m 20s\n",
      "286:\tlearn: 0.2217596\ttotal: 1m 20s\tremaining: 3m 20s\n",
      "287:\tlearn: 0.2216147\ttotal: 1m 20s\tremaining: 3m 19s\n",
      "288:\tlearn: 0.2214912\ttotal: 1m 21s\tremaining: 3m 19s\n",
      "289:\tlearn: 0.2213540\ttotal: 1m 21s\tremaining: 3m 19s\n",
      "290:\tlearn: 0.2212332\ttotal: 1m 21s\tremaining: 3m 18s\n",
      "291:\tlearn: 0.2211172\ttotal: 1m 21s\tremaining: 3m 18s\n",
      "292:\tlearn: 0.2209977\ttotal: 1m 21s\tremaining: 3m 17s\n",
      "293:\tlearn: 0.2208683\ttotal: 1m 22s\tremaining: 3m 17s\n",
      "294:\tlearn: 0.2207305\ttotal: 1m 22s\tremaining: 3m 17s\n",
      "295:\tlearn: 0.2206034\ttotal: 1m 22s\tremaining: 3m 16s\n",
      "296:\tlearn: 0.2204718\ttotal: 1m 22s\tremaining: 3m 16s\n",
      "297:\tlearn: 0.2203420\ttotal: 1m 23s\tremaining: 3m 16s\n",
      "298:\tlearn: 0.2202234\ttotal: 1m 23s\tremaining: 3m 15s\n",
      "299:\tlearn: 0.2200835\ttotal: 1m 24s\tremaining: 3m 17s\n",
      "300:\tlearn: 0.2199558\ttotal: 1m 26s\tremaining: 3m 20s\n",
      "301:\tlearn: 0.2198261\ttotal: 1m 26s\tremaining: 3m 20s\n",
      "302:\tlearn: 0.2197049\ttotal: 1m 26s\tremaining: 3m 19s\n",
      "303:\tlearn: 0.2195710\ttotal: 1m 27s\tremaining: 3m 19s\n",
      "304:\tlearn: 0.2194459\ttotal: 1m 27s\tremaining: 3m 19s\n",
      "305:\tlearn: 0.2193296\ttotal: 1m 27s\tremaining: 3m 19s\n",
      "306:\tlearn: 0.2192177\ttotal: 1m 28s\tremaining: 3m 19s\n",
      "307:\tlearn: 0.2190968\ttotal: 1m 28s\tremaining: 3m 18s\n",
      "308:\tlearn: 0.2189610\ttotal: 1m 28s\tremaining: 3m 18s\n",
      "309:\tlearn: 0.2188295\ttotal: 1m 29s\tremaining: 3m 18s\n",
      "310:\tlearn: 0.2187163\ttotal: 1m 29s\tremaining: 3m 18s\n",
      "311:\tlearn: 0.2185813\ttotal: 1m 29s\tremaining: 3m 18s\n"
     ]
    },
    {
     "name": "stdout",
     "output_type": "stream",
     "text": [
      "312:\tlearn: 0.2184576\ttotal: 1m 30s\tremaining: 3m 17s\n",
      "313:\tlearn: 0.2183331\ttotal: 1m 30s\tremaining: 3m 17s\n",
      "314:\tlearn: 0.2182138\ttotal: 1m 30s\tremaining: 3m 17s\n",
      "315:\tlearn: 0.2180778\ttotal: 1m 31s\tremaining: 3m 17s\n",
      "316:\tlearn: 0.2179653\ttotal: 1m 31s\tremaining: 3m 17s\n",
      "317:\tlearn: 0.2178569\ttotal: 1m 31s\tremaining: 3m 16s\n",
      "318:\tlearn: 0.2177542\ttotal: 1m 32s\tremaining: 3m 16s\n",
      "319:\tlearn: 0.2176330\ttotal: 1m 32s\tremaining: 3m 16s\n",
      "320:\tlearn: 0.2175269\ttotal: 1m 32s\tremaining: 3m 16s\n",
      "321:\tlearn: 0.2173866\ttotal: 1m 33s\tremaining: 3m 15s\n",
      "322:\tlearn: 0.2172650\ttotal: 1m 33s\tremaining: 3m 15s\n",
      "323:\tlearn: 0.2171460\ttotal: 1m 33s\tremaining: 3m 15s\n",
      "324:\tlearn: 0.2170395\ttotal: 1m 33s\tremaining: 3m 15s\n",
      "325:\tlearn: 0.2169148\ttotal: 1m 34s\tremaining: 3m 14s\n",
      "326:\tlearn: 0.2167999\ttotal: 1m 34s\tremaining: 3m 14s\n",
      "327:\tlearn: 0.2166928\ttotal: 1m 34s\tremaining: 3m 14s\n",
      "328:\tlearn: 0.2165816\ttotal: 1m 35s\tremaining: 3m 14s\n",
      "329:\tlearn: 0.2164562\ttotal: 1m 35s\tremaining: 3m 14s\n",
      "330:\tlearn: 0.2163353\ttotal: 1m 35s\tremaining: 3m 13s\n",
      "331:\tlearn: 0.2162133\ttotal: 1m 36s\tremaining: 3m 13s\n",
      "332:\tlearn: 0.2161127\ttotal: 1m 36s\tremaining: 3m 13s\n",
      "333:\tlearn: 0.2160057\ttotal: 1m 36s\tremaining: 3m 13s\n",
      "334:\tlearn: 0.2158859\ttotal: 1m 37s\tremaining: 3m 12s\n",
      "335:\tlearn: 0.2157783\ttotal: 1m 37s\tremaining: 3m 12s\n",
      "336:\tlearn: 0.2156646\ttotal: 1m 37s\tremaining: 3m 12s\n",
      "337:\tlearn: 0.2155561\ttotal: 1m 38s\tremaining: 3m 12s\n",
      "338:\tlearn: 0.2154336\ttotal: 1m 38s\tremaining: 3m 12s\n",
      "339:\tlearn: 0.2153267\ttotal: 1m 38s\tremaining: 3m 12s\n",
      "340:\tlearn: 0.2152296\ttotal: 1m 39s\tremaining: 3m 11s\n",
      "341:\tlearn: 0.2151323\ttotal: 1m 39s\tremaining: 3m 11s\n",
      "342:\tlearn: 0.2150081\ttotal: 1m 39s\tremaining: 3m 11s\n",
      "343:\tlearn: 0.2148732\ttotal: 1m 40s\tremaining: 3m 11s\n",
      "344:\tlearn: 0.2147621\ttotal: 1m 40s\tremaining: 3m 11s\n",
      "345:\tlearn: 0.2146397\ttotal: 1m 41s\tremaining: 3m 10s\n",
      "346:\tlearn: 0.2145348\ttotal: 1m 41s\tremaining: 3m 10s\n",
      "347:\tlearn: 0.2144419\ttotal: 1m 41s\tremaining: 3m 10s\n",
      "348:\tlearn: 0.2143264\ttotal: 1m 42s\tremaining: 3m 10s\n",
      "349:\tlearn: 0.2142164\ttotal: 1m 42s\tremaining: 3m 10s\n",
      "350:\tlearn: 0.2141131\ttotal: 1m 42s\tremaining: 3m 9s\n",
      "351:\tlearn: 0.2139901\ttotal: 1m 42s\tremaining: 3m 9s\n",
      "352:\tlearn: 0.2138936\ttotal: 1m 43s\tremaining: 3m 9s\n",
      "353:\tlearn: 0.2137831\ttotal: 1m 43s\tremaining: 3m 8s\n",
      "354:\tlearn: 0.2136979\ttotal: 1m 43s\tremaining: 3m 8s\n",
      "355:\tlearn: 0.2135861\ttotal: 1m 43s\tremaining: 3m 7s\n",
      "356:\tlearn: 0.2134884\ttotal: 1m 44s\tremaining: 3m 7s\n",
      "357:\tlearn: 0.2133739\ttotal: 1m 44s\tremaining: 3m 7s\n",
      "358:\tlearn: 0.2132662\ttotal: 1m 44s\tremaining: 3m 6s\n",
      "359:\tlearn: 0.2131701\ttotal: 1m 44s\tremaining: 3m 6s\n",
      "360:\tlearn: 0.2130753\ttotal: 1m 45s\tremaining: 3m 6s\n",
      "361:\tlearn: 0.2129804\ttotal: 1m 45s\tremaining: 3m 5s\n",
      "362:\tlearn: 0.2128694\ttotal: 1m 45s\tremaining: 3m 5s\n",
      "363:\tlearn: 0.2127570\ttotal: 1m 46s\tremaining: 3m 5s\n",
      "364:\tlearn: 0.2126561\ttotal: 1m 46s\tremaining: 3m 4s\n",
      "365:\tlearn: 0.2125505\ttotal: 1m 46s\tremaining: 3m 4s\n",
      "366:\tlearn: 0.2124345\ttotal: 1m 46s\tremaining: 3m 4s\n",
      "367:\tlearn: 0.2123400\ttotal: 1m 47s\tremaining: 3m 3s\n",
      "368:\tlearn: 0.2122258\ttotal: 1m 47s\tremaining: 3m 3s\n",
      "369:\tlearn: 0.2121336\ttotal: 1m 47s\tremaining: 3m 3s\n",
      "370:\tlearn: 0.2120333\ttotal: 1m 47s\tremaining: 3m 2s\n",
      "371:\tlearn: 0.2119190\ttotal: 1m 48s\tremaining: 3m 2s\n",
      "372:\tlearn: 0.2118292\ttotal: 1m 48s\tremaining: 3m 2s\n",
      "373:\tlearn: 0.2117244\ttotal: 1m 48s\tremaining: 3m 1s\n",
      "374:\tlearn: 0.2116344\ttotal: 1m 48s\tremaining: 3m 1s\n",
      "375:\tlearn: 0.2115493\ttotal: 1m 49s\tremaining: 3m 1s\n",
      "376:\tlearn: 0.2114367\ttotal: 1m 49s\tremaining: 3m\n",
      "377:\tlearn: 0.2113329\ttotal: 1m 49s\tremaining: 3m\n",
      "378:\tlearn: 0.2112305\ttotal: 1m 49s\tremaining: 3m\n",
      "379:\tlearn: 0.2111283\ttotal: 1m 50s\tremaining: 2m 59s\n",
      "380:\tlearn: 0.2110259\ttotal: 1m 50s\tremaining: 2m 59s\n",
      "381:\tlearn: 0.2109215\ttotal: 1m 50s\tremaining: 2m 59s\n",
      "382:\tlearn: 0.2108356\ttotal: 1m 50s\tremaining: 2m 58s\n",
      "383:\tlearn: 0.2107619\ttotal: 1m 51s\tremaining: 2m 58s\n",
      "384:\tlearn: 0.2106764\ttotal: 1m 51s\tremaining: 2m 58s\n",
      "385:\tlearn: 0.2105668\ttotal: 1m 51s\tremaining: 2m 57s\n",
      "386:\tlearn: 0.2104678\ttotal: 1m 51s\tremaining: 2m 57s\n",
      "387:\tlearn: 0.2103927\ttotal: 1m 52s\tremaining: 2m 56s\n",
      "388:\tlearn: 0.2103000\ttotal: 1m 52s\tremaining: 2m 56s\n",
      "389:\tlearn: 0.2102140\ttotal: 1m 52s\tremaining: 2m 56s\n",
      "390:\tlearn: 0.2101096\ttotal: 1m 52s\tremaining: 2m 55s\n",
      "391:\tlearn: 0.2100059\ttotal: 1m 53s\tremaining: 2m 55s\n",
      "392:\tlearn: 0.2099020\ttotal: 1m 53s\tremaining: 2m 55s\n",
      "393:\tlearn: 0.2098042\ttotal: 1m 53s\tremaining: 2m 54s\n",
      "394:\tlearn: 0.2097136\ttotal: 1m 54s\tremaining: 2m 54s\n",
      "395:\tlearn: 0.2096300\ttotal: 1m 54s\tremaining: 2m 54s\n",
      "396:\tlearn: 0.2095316\ttotal: 1m 54s\tremaining: 2m 53s\n",
      "397:\tlearn: 0.2094355\ttotal: 1m 54s\tremaining: 2m 53s\n",
      "398:\tlearn: 0.2093434\ttotal: 1m 55s\tremaining: 2m 53s\n",
      "399:\tlearn: 0.2092393\ttotal: 1m 55s\tremaining: 2m 52s\n",
      "400:\tlearn: 0.2091553\ttotal: 1m 55s\tremaining: 2m 52s\n",
      "401:\tlearn: 0.2090535\ttotal: 1m 55s\tremaining: 2m 52s\n",
      "402:\tlearn: 0.2089543\ttotal: 1m 56s\tremaining: 2m 51s\n",
      "403:\tlearn: 0.2088630\ttotal: 1m 56s\tremaining: 2m 51s\n",
      "404:\tlearn: 0.2087629\ttotal: 1m 56s\tremaining: 2m 51s\n",
      "405:\tlearn: 0.2086745\ttotal: 1m 56s\tremaining: 2m 50s\n",
      "406:\tlearn: 0.2085607\ttotal: 1m 57s\tremaining: 2m 50s\n",
      "407:\tlearn: 0.2084725\ttotal: 1m 57s\tremaining: 2m 50s\n",
      "408:\tlearn: 0.2083820\ttotal: 1m 57s\tremaining: 2m 50s\n",
      "409:\tlearn: 0.2082815\ttotal: 1m 57s\tremaining: 2m 49s\n",
      "410:\tlearn: 0.2081837\ttotal: 1m 58s\tremaining: 2m 49s\n",
      "411:\tlearn: 0.2080885\ttotal: 1m 58s\tremaining: 2m 49s\n",
      "412:\tlearn: 0.2080006\ttotal: 1m 58s\tremaining: 2m 48s\n",
      "413:\tlearn: 0.2079127\ttotal: 1m 58s\tremaining: 2m 48s\n",
      "414:\tlearn: 0.2078200\ttotal: 1m 59s\tremaining: 2m 48s\n",
      "415:\tlearn: 0.2077277\ttotal: 1m 59s\tremaining: 2m 47s\n",
      "416:\tlearn: 0.2076404\ttotal: 1m 59s\tremaining: 2m 47s\n",
      "417:\tlearn: 0.2075586\ttotal: 2m\tremaining: 2m 47s\n",
      "418:\tlearn: 0.2074745\ttotal: 2m\tremaining: 2m 46s\n",
      "419:\tlearn: 0.2073846\ttotal: 2m\tremaining: 2m 46s\n",
      "420:\tlearn: 0.2072796\ttotal: 2m\tremaining: 2m 46s\n",
      "421:\tlearn: 0.2071905\ttotal: 2m 1s\tremaining: 2m 45s\n",
      "422:\tlearn: 0.2070994\ttotal: 2m 1s\tremaining: 2m 45s\n",
      "423:\tlearn: 0.2070110\ttotal: 2m 1s\tremaining: 2m 45s\n",
      "424:\tlearn: 0.2069172\ttotal: 2m 1s\tremaining: 2m 44s\n",
      "425:\tlearn: 0.2068374\ttotal: 2m 2s\tremaining: 2m 44s\n",
      "426:\tlearn: 0.2067393\ttotal: 2m 2s\tremaining: 2m 44s\n",
      "427:\tlearn: 0.2066583\ttotal: 2m 2s\tremaining: 2m 43s\n",
      "428:\tlearn: 0.2065662\ttotal: 2m 2s\tremaining: 2m 43s\n",
      "429:\tlearn: 0.2064761\ttotal: 2m 3s\tremaining: 2m 43s\n",
      "430:\tlearn: 0.2063929\ttotal: 2m 3s\tremaining: 2m 42s\n",
      "431:\tlearn: 0.2062955\ttotal: 2m 3s\tremaining: 2m 42s\n",
      "432:\tlearn: 0.2062091\ttotal: 2m 3s\tremaining: 2m 42s\n",
      "433:\tlearn: 0.2061214\ttotal: 2m 4s\tremaining: 2m 41s\n",
      "434:\tlearn: 0.2060339\ttotal: 2m 4s\tremaining: 2m 41s\n",
      "435:\tlearn: 0.2059548\ttotal: 2m 4s\tremaining: 2m 41s\n",
      "436:\tlearn: 0.2058775\ttotal: 2m 4s\tremaining: 2m 40s\n",
      "437:\tlearn: 0.2057744\ttotal: 2m 4s\tremaining: 2m 40s\n",
      "438:\tlearn: 0.2057002\ttotal: 2m 5s\tremaining: 2m 39s\n",
      "439:\tlearn: 0.2056198\ttotal: 2m 5s\tremaining: 2m 39s\n",
      "440:\tlearn: 0.2055279\ttotal: 2m 5s\tremaining: 2m 39s\n",
      "441:\tlearn: 0.2054405\ttotal: 2m 5s\tremaining: 2m 38s\n",
      "442:\tlearn: 0.2053504\ttotal: 2m 6s\tremaining: 2m 38s\n",
      "443:\tlearn: 0.2052516\ttotal: 2m 6s\tremaining: 2m 38s\n",
      "444:\tlearn: 0.2051792\ttotal: 2m 6s\tremaining: 2m 37s\n",
      "445:\tlearn: 0.2050931\ttotal: 2m 6s\tremaining: 2m 37s\n",
      "446:\tlearn: 0.2050130\ttotal: 2m 7s\tremaining: 2m 37s\n",
      "447:\tlearn: 0.2049156\ttotal: 2m 7s\tremaining: 2m 37s\n",
      "448:\tlearn: 0.2048360\ttotal: 2m 7s\tremaining: 2m 36s\n",
      "449:\tlearn: 0.2047615\ttotal: 2m 7s\tremaining: 2m 36s\n",
      "450:\tlearn: 0.2046402\ttotal: 2m 8s\tremaining: 2m 36s\n",
      "451:\tlearn: 0.2045728\ttotal: 2m 8s\tremaining: 2m 35s\n",
      "452:\tlearn: 0.2044926\ttotal: 2m 8s\tremaining: 2m 35s\n",
      "453:\tlearn: 0.2044058\ttotal: 2m 8s\tremaining: 2m 35s\n",
      "454:\tlearn: 0.2043263\ttotal: 2m 9s\tremaining: 2m 34s\n",
      "455:\tlearn: 0.2042449\ttotal: 2m 9s\tremaining: 2m 34s\n",
      "456:\tlearn: 0.2041584\ttotal: 2m 9s\tremaining: 2m 34s\n",
      "457:\tlearn: 0.2040807\ttotal: 2m 9s\tremaining: 2m 33s\n",
      "458:\tlearn: 0.2040072\ttotal: 2m 10s\tremaining: 2m 33s\n",
      "459:\tlearn: 0.2039287\ttotal: 2m 10s\tremaining: 2m 33s\n",
      "460:\tlearn: 0.2038361\ttotal: 2m 10s\tremaining: 2m 32s\n",
      "461:\tlearn: 0.2037484\ttotal: 2m 10s\tremaining: 2m 32s\n",
      "462:\tlearn: 0.2036710\ttotal: 2m 11s\tremaining: 2m 32s\n",
      "463:\tlearn: 0.2035971\ttotal: 2m 11s\tremaining: 2m 31s\n",
      "464:\tlearn: 0.2035278\ttotal: 2m 11s\tremaining: 2m 31s\n",
      "465:\tlearn: 0.2034493\ttotal: 2m 11s\tremaining: 2m 31s\n"
     ]
    },
    {
     "name": "stdout",
     "output_type": "stream",
     "text": [
      "466:\tlearn: 0.2033728\ttotal: 2m 12s\tremaining: 2m 30s\n",
      "467:\tlearn: 0.2032972\ttotal: 2m 12s\tremaining: 2m 30s\n",
      "468:\tlearn: 0.2032218\ttotal: 2m 12s\tremaining: 2m 30s\n",
      "469:\tlearn: 0.2031379\ttotal: 2m 12s\tremaining: 2m 29s\n",
      "470:\tlearn: 0.2030612\ttotal: 2m 13s\tremaining: 2m 29s\n",
      "471:\tlearn: 0.2029901\ttotal: 2m 13s\tremaining: 2m 29s\n",
      "472:\tlearn: 0.2029135\ttotal: 2m 13s\tremaining: 2m 28s\n",
      "473:\tlearn: 0.2028372\ttotal: 2m 13s\tremaining: 2m 28s\n",
      "474:\tlearn: 0.2027673\ttotal: 2m 13s\tremaining: 2m 28s\n",
      "475:\tlearn: 0.2026848\ttotal: 2m 14s\tremaining: 2m 27s\n",
      "476:\tlearn: 0.2026150\ttotal: 2m 14s\tremaining: 2m 27s\n",
      "477:\tlearn: 0.2025417\ttotal: 2m 14s\tremaining: 2m 27s\n",
      "478:\tlearn: 0.2024645\ttotal: 2m 14s\tremaining: 2m 26s\n",
      "479:\tlearn: 0.2023870\ttotal: 2m 15s\tremaining: 2m 26s\n",
      "480:\tlearn: 0.2022996\ttotal: 2m 15s\tremaining: 2m 26s\n",
      "481:\tlearn: 0.2022545\ttotal: 2m 15s\tremaining: 2m 25s\n",
      "482:\tlearn: 0.2021738\ttotal: 2m 15s\tremaining: 2m 25s\n",
      "483:\tlearn: 0.2020919\ttotal: 2m 16s\tremaining: 2m 25s\n",
      "484:\tlearn: 0.2020226\ttotal: 2m 16s\tremaining: 2m 24s\n",
      "485:\tlearn: 0.2019523\ttotal: 2m 16s\tremaining: 2m 24s\n",
      "486:\tlearn: 0.2018654\ttotal: 2m 16s\tremaining: 2m 24s\n",
      "487:\tlearn: 0.2017916\ttotal: 2m 17s\tremaining: 2m 23s\n",
      "488:\tlearn: 0.2017274\ttotal: 2m 17s\tremaining: 2m 23s\n",
      "489:\tlearn: 0.2016386\ttotal: 2m 17s\tremaining: 2m 23s\n",
      "490:\tlearn: 0.2015653\ttotal: 2m 17s\tremaining: 2m 22s\n",
      "491:\tlearn: 0.2014802\ttotal: 2m 17s\tremaining: 2m 22s\n",
      "492:\tlearn: 0.2013969\ttotal: 2m 18s\tremaining: 2m 22s\n",
      "493:\tlearn: 0.2013182\ttotal: 2m 18s\tremaining: 2m 21s\n",
      "494:\tlearn: 0.2012383\ttotal: 2m 18s\tremaining: 2m 21s\n",
      "495:\tlearn: 0.2011616\ttotal: 2m 18s\tremaining: 2m 21s\n",
      "496:\tlearn: 0.2010924\ttotal: 2m 19s\tremaining: 2m 20s\n",
      "497:\tlearn: 0.2010104\ttotal: 2m 19s\tremaining: 2m 20s\n",
      "498:\tlearn: 0.2009421\ttotal: 2m 19s\tremaining: 2m 20s\n",
      "499:\tlearn: 0.2008631\ttotal: 2m 20s\tremaining: 2m 20s\n",
      "500:\tlearn: 0.2007790\ttotal: 2m 20s\tremaining: 2m 19s\n",
      "501:\tlearn: 0.2007021\ttotal: 2m 20s\tremaining: 2m 19s\n",
      "502:\tlearn: 0.2006446\ttotal: 2m 20s\tremaining: 2m 19s\n",
      "503:\tlearn: 0.2005673\ttotal: 2m 21s\tremaining: 2m 18s\n",
      "504:\tlearn: 0.2004926\ttotal: 2m 21s\tremaining: 2m 18s\n",
      "505:\tlearn: 0.2004183\ttotal: 2m 21s\tremaining: 2m 18s\n",
      "506:\tlearn: 0.2003610\ttotal: 2m 21s\tremaining: 2m 17s\n",
      "507:\tlearn: 0.2002964\ttotal: 2m 22s\tremaining: 2m 17s\n",
      "508:\tlearn: 0.2002197\ttotal: 2m 22s\tremaining: 2m 17s\n",
      "509:\tlearn: 0.2001453\ttotal: 2m 22s\tremaining: 2m 17s\n",
      "510:\tlearn: 0.2000757\ttotal: 2m 22s\tremaining: 2m 16s\n",
      "511:\tlearn: 0.2000006\ttotal: 2m 23s\tremaining: 2m 16s\n",
      "512:\tlearn: 0.1999166\ttotal: 2m 23s\tremaining: 2m 16s\n",
      "513:\tlearn: 0.1998337\ttotal: 2m 23s\tremaining: 2m 15s\n",
      "514:\tlearn: 0.1997464\ttotal: 2m 23s\tremaining: 2m 15s\n",
      "515:\tlearn: 0.1996713\ttotal: 2m 24s\tremaining: 2m 15s\n",
      "516:\tlearn: 0.1996216\ttotal: 2m 24s\tremaining: 2m 14s\n",
      "517:\tlearn: 0.1995529\ttotal: 2m 24s\tremaining: 2m 14s\n",
      "518:\tlearn: 0.1994836\ttotal: 2m 24s\tremaining: 2m 14s\n",
      "519:\tlearn: 0.1994136\ttotal: 2m 25s\tremaining: 2m 13s\n",
      "520:\tlearn: 0.1993423\ttotal: 2m 25s\tremaining: 2m 13s\n",
      "521:\tlearn: 0.1992692\ttotal: 2m 25s\tremaining: 2m 13s\n",
      "522:\tlearn: 0.1992045\ttotal: 2m 25s\tremaining: 2m 13s\n",
      "523:\tlearn: 0.1991382\ttotal: 2m 26s\tremaining: 2m 12s\n",
      "524:\tlearn: 0.1990665\ttotal: 2m 26s\tremaining: 2m 12s\n",
      "525:\tlearn: 0.1989979\ttotal: 2m 26s\tremaining: 2m 12s\n",
      "526:\tlearn: 0.1989414\ttotal: 2m 26s\tremaining: 2m 11s\n",
      "527:\tlearn: 0.1988589\ttotal: 2m 27s\tremaining: 2m 11s\n",
      "528:\tlearn: 0.1987951\ttotal: 2m 27s\tremaining: 2m 11s\n",
      "529:\tlearn: 0.1987186\ttotal: 2m 27s\tremaining: 2m 10s\n",
      "530:\tlearn: 0.1986543\ttotal: 2m 27s\tremaining: 2m 10s\n",
      "531:\tlearn: 0.1985548\ttotal: 2m 28s\tremaining: 2m 10s\n",
      "532:\tlearn: 0.1984796\ttotal: 2m 28s\tremaining: 2m 10s\n",
      "533:\tlearn: 0.1984167\ttotal: 2m 28s\tremaining: 2m 9s\n",
      "534:\tlearn: 0.1983491\ttotal: 2m 28s\tremaining: 2m 9s\n",
      "535:\tlearn: 0.1982840\ttotal: 2m 29s\tremaining: 2m 9s\n",
      "536:\tlearn: 0.1982100\ttotal: 2m 29s\tremaining: 2m 8s\n",
      "537:\tlearn: 0.1981269\ttotal: 2m 29s\tremaining: 2m 8s\n",
      "538:\tlearn: 0.1980581\ttotal: 2m 29s\tremaining: 2m 8s\n",
      "539:\tlearn: 0.1979945\ttotal: 2m 30s\tremaining: 2m 7s\n",
      "540:\tlearn: 0.1979188\ttotal: 2m 30s\tremaining: 2m 7s\n",
      "541:\tlearn: 0.1978502\ttotal: 2m 30s\tremaining: 2m 7s\n",
      "542:\tlearn: 0.1977791\ttotal: 2m 30s\tremaining: 2m 7s\n",
      "543:\tlearn: 0.1977083\ttotal: 2m 31s\tremaining: 2m 6s\n",
      "544:\tlearn: 0.1976303\ttotal: 2m 31s\tremaining: 2m 6s\n",
      "545:\tlearn: 0.1975580\ttotal: 2m 31s\tremaining: 2m 6s\n",
      "546:\tlearn: 0.1974679\ttotal: 2m 31s\tremaining: 2m 5s\n",
      "547:\tlearn: 0.1974017\ttotal: 2m 32s\tremaining: 2m 5s\n",
      "548:\tlearn: 0.1973366\ttotal: 2m 32s\tremaining: 2m 5s\n",
      "549:\tlearn: 0.1972710\ttotal: 2m 32s\tremaining: 2m 4s\n",
      "550:\tlearn: 0.1972016\ttotal: 2m 32s\tremaining: 2m 4s\n",
      "551:\tlearn: 0.1971388\ttotal: 2m 33s\tremaining: 2m 4s\n",
      "552:\tlearn: 0.1970795\ttotal: 2m 33s\tremaining: 2m 4s\n",
      "553:\tlearn: 0.1970154\ttotal: 2m 33s\tremaining: 2m 3s\n",
      "554:\tlearn: 0.1969590\ttotal: 2m 34s\tremaining: 2m 3s\n",
      "555:\tlearn: 0.1968875\ttotal: 2m 34s\tremaining: 2m 3s\n",
      "556:\tlearn: 0.1968280\ttotal: 2m 34s\tremaining: 2m 3s\n",
      "557:\tlearn: 0.1967551\ttotal: 2m 35s\tremaining: 2m 2s\n",
      "558:\tlearn: 0.1966929\ttotal: 2m 35s\tremaining: 2m 2s\n",
      "559:\tlearn: 0.1966441\ttotal: 2m 35s\tremaining: 2m 2s\n",
      "560:\tlearn: 0.1965834\ttotal: 2m 35s\tremaining: 2m 1s\n",
      "561:\tlearn: 0.1965060\ttotal: 2m 36s\tremaining: 2m 1s\n",
      "562:\tlearn: 0.1964466\ttotal: 2m 36s\tremaining: 2m 1s\n",
      "563:\tlearn: 0.1963837\ttotal: 2m 36s\tremaining: 2m 1s\n",
      "564:\tlearn: 0.1963290\ttotal: 2m 37s\tremaining: 2m\n",
      "565:\tlearn: 0.1962864\ttotal: 2m 37s\tremaining: 2m\n",
      "566:\tlearn: 0.1962212\ttotal: 2m 37s\tremaining: 2m\n",
      "567:\tlearn: 0.1961523\ttotal: 2m 37s\tremaining: 2m\n",
      "568:\tlearn: 0.1960833\ttotal: 2m 38s\tremaining: 1m 59s\n",
      "569:\tlearn: 0.1960193\ttotal: 2m 38s\tremaining: 1m 59s\n",
      "570:\tlearn: 0.1959505\ttotal: 2m 38s\tremaining: 1m 59s\n",
      "571:\tlearn: 0.1958778\ttotal: 2m 39s\tremaining: 1m 58s\n",
      "572:\tlearn: 0.1958184\ttotal: 2m 39s\tremaining: 1m 58s\n",
      "573:\tlearn: 0.1957625\ttotal: 2m 39s\tremaining: 1m 58s\n",
      "574:\tlearn: 0.1956949\ttotal: 2m 39s\tremaining: 1m 58s\n",
      "575:\tlearn: 0.1956360\ttotal: 2m 40s\tremaining: 1m 57s\n",
      "576:\tlearn: 0.1955685\ttotal: 2m 40s\tremaining: 1m 57s\n",
      "577:\tlearn: 0.1954888\ttotal: 2m 40s\tremaining: 1m 57s\n",
      "578:\tlearn: 0.1954360\ttotal: 2m 40s\tremaining: 1m 56s\n",
      "579:\tlearn: 0.1953678\ttotal: 2m 41s\tremaining: 1m 56s\n",
      "580:\tlearn: 0.1953004\ttotal: 2m 41s\tremaining: 1m 56s\n",
      "581:\tlearn: 0.1952362\ttotal: 2m 41s\tremaining: 1m 56s\n",
      "582:\tlearn: 0.1951715\ttotal: 2m 41s\tremaining: 1m 55s\n",
      "583:\tlearn: 0.1951122\ttotal: 2m 42s\tremaining: 1m 55s\n",
      "584:\tlearn: 0.1950627\ttotal: 2m 42s\tremaining: 1m 55s\n",
      "585:\tlearn: 0.1950126\ttotal: 2m 42s\tremaining: 1m 54s\n",
      "586:\tlearn: 0.1949359\ttotal: 2m 42s\tremaining: 1m 54s\n",
      "587:\tlearn: 0.1948696\ttotal: 2m 43s\tremaining: 1m 54s\n",
      "588:\tlearn: 0.1948157\ttotal: 2m 43s\tremaining: 1m 53s\n",
      "589:\tlearn: 0.1947425\ttotal: 2m 43s\tremaining: 1m 53s\n",
      "590:\tlearn: 0.1946586\ttotal: 2m 43s\tremaining: 1m 53s\n",
      "591:\tlearn: 0.1945917\ttotal: 2m 44s\tremaining: 1m 53s\n",
      "592:\tlearn: 0.1945325\ttotal: 2m 44s\tremaining: 1m 52s\n",
      "593:\tlearn: 0.1944638\ttotal: 2m 44s\tremaining: 1m 52s\n",
      "594:\tlearn: 0.1944027\ttotal: 2m 44s\tremaining: 1m 52s\n",
      "595:\tlearn: 0.1943373\ttotal: 2m 45s\tremaining: 1m 51s\n",
      "596:\tlearn: 0.1942762\ttotal: 2m 45s\tremaining: 1m 51s\n",
      "597:\tlearn: 0.1942113\ttotal: 2m 45s\tremaining: 1m 51s\n",
      "598:\tlearn: 0.1941513\ttotal: 2m 45s\tremaining: 1m 50s\n",
      "599:\tlearn: 0.1940817\ttotal: 2m 45s\tremaining: 1m 50s\n",
      "600:\tlearn: 0.1940124\ttotal: 2m 46s\tremaining: 1m 50s\n",
      "601:\tlearn: 0.1939439\ttotal: 2m 46s\tremaining: 1m 50s\n",
      "602:\tlearn: 0.1938822\ttotal: 2m 46s\tremaining: 1m 49s\n",
      "603:\tlearn: 0.1938301\ttotal: 2m 46s\tremaining: 1m 49s\n",
      "604:\tlearn: 0.1937820\ttotal: 2m 47s\tremaining: 1m 49s\n",
      "605:\tlearn: 0.1937207\ttotal: 2m 47s\tremaining: 1m 48s\n",
      "606:\tlearn: 0.1936593\ttotal: 2m 47s\tremaining: 1m 48s\n",
      "607:\tlearn: 0.1935947\ttotal: 2m 47s\tremaining: 1m 48s\n",
      "608:\tlearn: 0.1935384\ttotal: 2m 48s\tremaining: 1m 47s\n",
      "609:\tlearn: 0.1934851\ttotal: 2m 48s\tremaining: 1m 47s\n",
      "610:\tlearn: 0.1934155\ttotal: 2m 48s\tremaining: 1m 47s\n",
      "611:\tlearn: 0.1933340\ttotal: 2m 48s\tremaining: 1m 47s\n",
      "612:\tlearn: 0.1932864\ttotal: 2m 49s\tremaining: 1m 46s\n",
      "613:\tlearn: 0.1932265\ttotal: 2m 49s\tremaining: 1m 46s\n",
      "614:\tlearn: 0.1931686\ttotal: 2m 49s\tremaining: 1m 46s\n",
      "615:\tlearn: 0.1931154\ttotal: 2m 49s\tremaining: 1m 45s\n",
      "616:\tlearn: 0.1930643\ttotal: 2m 50s\tremaining: 1m 45s\n",
      "617:\tlearn: 0.1930068\ttotal: 2m 50s\tremaining: 1m 45s\n",
      "618:\tlearn: 0.1929464\ttotal: 2m 50s\tremaining: 1m 44s\n"
     ]
    },
    {
     "name": "stdout",
     "output_type": "stream",
     "text": [
      "619:\tlearn: 0.1928781\ttotal: 2m 50s\tremaining: 1m 44s\n",
      "620:\tlearn: 0.1928377\ttotal: 2m 51s\tremaining: 1m 44s\n",
      "621:\tlearn: 0.1927879\ttotal: 2m 51s\tremaining: 1m 44s\n",
      "622:\tlearn: 0.1927286\ttotal: 2m 51s\tremaining: 1m 43s\n",
      "623:\tlearn: 0.1926770\ttotal: 2m 51s\tremaining: 1m 43s\n",
      "624:\tlearn: 0.1926174\ttotal: 2m 52s\tremaining: 1m 43s\n",
      "625:\tlearn: 0.1925505\ttotal: 2m 52s\tremaining: 1m 42s\n",
      "626:\tlearn: 0.1925002\ttotal: 2m 52s\tremaining: 1m 42s\n",
      "627:\tlearn: 0.1924432\ttotal: 2m 52s\tremaining: 1m 42s\n",
      "628:\tlearn: 0.1923646\ttotal: 2m 53s\tremaining: 1m 42s\n",
      "629:\tlearn: 0.1923108\ttotal: 2m 53s\tremaining: 1m 41s\n",
      "630:\tlearn: 0.1922489\ttotal: 2m 53s\tremaining: 1m 41s\n",
      "631:\tlearn: 0.1921903\ttotal: 2m 53s\tremaining: 1m 41s\n",
      "632:\tlearn: 0.1921360\ttotal: 2m 54s\tremaining: 1m 40s\n",
      "633:\tlearn: 0.1920782\ttotal: 2m 54s\tremaining: 1m 40s\n",
      "634:\tlearn: 0.1920314\ttotal: 2m 54s\tremaining: 1m 40s\n",
      "635:\tlearn: 0.1919724\ttotal: 2m 54s\tremaining: 1m 40s\n",
      "636:\tlearn: 0.1919244\ttotal: 2m 55s\tremaining: 1m 39s\n",
      "637:\tlearn: 0.1918622\ttotal: 2m 55s\tremaining: 1m 39s\n",
      "638:\tlearn: 0.1918129\ttotal: 2m 55s\tremaining: 1m 39s\n",
      "639:\tlearn: 0.1917475\ttotal: 2m 55s\tremaining: 1m 38s\n",
      "640:\tlearn: 0.1916938\ttotal: 2m 56s\tremaining: 1m 38s\n",
      "641:\tlearn: 0.1916467\ttotal: 2m 56s\tremaining: 1m 38s\n",
      "642:\tlearn: 0.1915881\ttotal: 2m 56s\tremaining: 1m 38s\n",
      "643:\tlearn: 0.1915193\ttotal: 2m 57s\tremaining: 1m 37s\n",
      "644:\tlearn: 0.1914429\ttotal: 2m 57s\tremaining: 1m 37s\n",
      "645:\tlearn: 0.1913854\ttotal: 2m 57s\tremaining: 1m 37s\n",
      "646:\tlearn: 0.1913247\ttotal: 2m 57s\tremaining: 1m 37s\n",
      "647:\tlearn: 0.1912641\ttotal: 2m 58s\tremaining: 1m 36s\n",
      "648:\tlearn: 0.1911992\ttotal: 2m 58s\tremaining: 1m 36s\n",
      "649:\tlearn: 0.1911419\ttotal: 2m 58s\tremaining: 1m 36s\n",
      "650:\tlearn: 0.1910844\ttotal: 2m 59s\tremaining: 1m 35s\n",
      "651:\tlearn: 0.1910227\ttotal: 2m 59s\tremaining: 1m 35s\n",
      "652:\tlearn: 0.1909609\ttotal: 2m 59s\tremaining: 1m 35s\n",
      "653:\tlearn: 0.1909144\ttotal: 2m 59s\tremaining: 1m 35s\n",
      "654:\tlearn: 0.1908491\ttotal: 3m\tremaining: 1m 34s\n",
      "655:\tlearn: 0.1907916\ttotal: 3m\tremaining: 1m 34s\n",
      "656:\tlearn: 0.1907259\ttotal: 3m\tremaining: 1m 34s\n",
      "657:\tlearn: 0.1906718\ttotal: 3m\tremaining: 1m 33s\n",
      "658:\tlearn: 0.1906043\ttotal: 3m 1s\tremaining: 1m 33s\n",
      "659:\tlearn: 0.1905620\ttotal: 3m 1s\tremaining: 1m 33s\n",
      "660:\tlearn: 0.1904983\ttotal: 3m 1s\tremaining: 1m 33s\n",
      "661:\tlearn: 0.1904376\ttotal: 3m 1s\tremaining: 1m 32s\n",
      "662:\tlearn: 0.1903750\ttotal: 3m 2s\tremaining: 1m 32s\n",
      "663:\tlearn: 0.1903150\ttotal: 3m 2s\tremaining: 1m 32s\n",
      "664:\tlearn: 0.1902548\ttotal: 3m 2s\tremaining: 1m 31s\n",
      "665:\tlearn: 0.1901892\ttotal: 3m 2s\tremaining: 1m 31s\n",
      "666:\tlearn: 0.1901380\ttotal: 3m 3s\tremaining: 1m 31s\n",
      "667:\tlearn: 0.1900888\ttotal: 3m 3s\tremaining: 1m 31s\n",
      "668:\tlearn: 0.1900381\ttotal: 3m 3s\tremaining: 1m 30s\n",
      "669:\tlearn: 0.1899750\ttotal: 3m 3s\tremaining: 1m 30s\n",
      "670:\tlearn: 0.1899177\ttotal: 3m 4s\tremaining: 1m 30s\n",
      "671:\tlearn: 0.1898612\ttotal: 3m 4s\tremaining: 1m 29s\n",
      "672:\tlearn: 0.1898045\ttotal: 3m 4s\tremaining: 1m 29s\n",
      "673:\tlearn: 0.1897488\ttotal: 3m 4s\tremaining: 1m 29s\n",
      "674:\tlearn: 0.1896920\ttotal: 3m 5s\tremaining: 1m 29s\n",
      "675:\tlearn: 0.1896328\ttotal: 3m 5s\tremaining: 1m 28s\n",
      "676:\tlearn: 0.1895813\ttotal: 3m 5s\tremaining: 1m 28s\n",
      "677:\tlearn: 0.1895229\ttotal: 3m 5s\tremaining: 1m 28s\n",
      "678:\tlearn: 0.1894650\ttotal: 3m 6s\tremaining: 1m 27s\n",
      "679:\tlearn: 0.1894151\ttotal: 3m 6s\tremaining: 1m 27s\n",
      "680:\tlearn: 0.1893560\ttotal: 3m 6s\tremaining: 1m 27s\n",
      "681:\tlearn: 0.1893000\ttotal: 3m 6s\tremaining: 1m 27s\n",
      "682:\tlearn: 0.1892348\ttotal: 3m 7s\tremaining: 1m 26s\n",
      "683:\tlearn: 0.1891972\ttotal: 3m 7s\tremaining: 1m 26s\n",
      "684:\tlearn: 0.1891372\ttotal: 3m 7s\tremaining: 1m 26s\n",
      "685:\tlearn: 0.1890961\ttotal: 3m 7s\tremaining: 1m 25s\n",
      "686:\tlearn: 0.1890413\ttotal: 3m 7s\tremaining: 1m 25s\n",
      "687:\tlearn: 0.1889818\ttotal: 3m 8s\tremaining: 1m 25s\n",
      "688:\tlearn: 0.1889221\ttotal: 3m 8s\tremaining: 1m 25s\n",
      "689:\tlearn: 0.1888740\ttotal: 3m 8s\tremaining: 1m 24s\n",
      "690:\tlearn: 0.1888163\ttotal: 3m 9s\tremaining: 1m 24s\n",
      "691:\tlearn: 0.1887543\ttotal: 3m 9s\tremaining: 1m 24s\n",
      "692:\tlearn: 0.1887026\ttotal: 3m 9s\tremaining: 1m 24s\n",
      "693:\tlearn: 0.1886500\ttotal: 3m 10s\tremaining: 1m 23s\n",
      "694:\tlearn: 0.1885882\ttotal: 3m 10s\tremaining: 1m 23s\n",
      "695:\tlearn: 0.1885349\ttotal: 3m 10s\tremaining: 1m 23s\n",
      "696:\tlearn: 0.1884723\ttotal: 3m 10s\tremaining: 1m 22s\n",
      "697:\tlearn: 0.1884131\ttotal: 3m 10s\tremaining: 1m 22s\n",
      "698:\tlearn: 0.1883660\ttotal: 3m 11s\tremaining: 1m 22s\n",
      "699:\tlearn: 0.1883063\ttotal: 3m 11s\tremaining: 1m 22s\n",
      "700:\tlearn: 0.1882430\ttotal: 3m 11s\tremaining: 1m 21s\n",
      "701:\tlearn: 0.1881889\ttotal: 3m 12s\tremaining: 1m 21s\n",
      "702:\tlearn: 0.1881355\ttotal: 3m 12s\tremaining: 1m 21s\n",
      "703:\tlearn: 0.1880811\ttotal: 3m 12s\tremaining: 1m 21s\n",
      "704:\tlearn: 0.1880272\ttotal: 3m 12s\tremaining: 1m 20s\n",
      "705:\tlearn: 0.1879722\ttotal: 3m 13s\tremaining: 1m 20s\n",
      "706:\tlearn: 0.1879089\ttotal: 3m 13s\tremaining: 1m 20s\n",
      "707:\tlearn: 0.1878495\ttotal: 3m 13s\tremaining: 1m 19s\n",
      "708:\tlearn: 0.1877947\ttotal: 3m 14s\tremaining: 1m 19s\n",
      "709:\tlearn: 0.1877310\ttotal: 3m 14s\tremaining: 1m 19s\n",
      "710:\tlearn: 0.1876576\ttotal: 3m 14s\tremaining: 1m 19s\n",
      "711:\tlearn: 0.1875972\ttotal: 3m 14s\tremaining: 1m 18s\n",
      "712:\tlearn: 0.1875322\ttotal: 3m 15s\tremaining: 1m 18s\n",
      "713:\tlearn: 0.1874768\ttotal: 3m 15s\tremaining: 1m 18s\n",
      "714:\tlearn: 0.1874153\ttotal: 3m 15s\tremaining: 1m 18s\n",
      "715:\tlearn: 0.1873653\ttotal: 3m 16s\tremaining: 1m 17s\n",
      "716:\tlearn: 0.1873122\ttotal: 3m 16s\tremaining: 1m 17s\n",
      "717:\tlearn: 0.1872573\ttotal: 3m 16s\tremaining: 1m 17s\n",
      "718:\tlearn: 0.1872025\ttotal: 3m 16s\tremaining: 1m 16s\n",
      "719:\tlearn: 0.1871531\ttotal: 3m 17s\tremaining: 1m 16s\n",
      "720:\tlearn: 0.1871030\ttotal: 3m 17s\tremaining: 1m 16s\n",
      "721:\tlearn: 0.1870467\ttotal: 3m 17s\tremaining: 1m 16s\n",
      "722:\tlearn: 0.1869848\ttotal: 3m 17s\tremaining: 1m 15s\n",
      "723:\tlearn: 0.1869506\ttotal: 3m 17s\tremaining: 1m 15s\n",
      "724:\tlearn: 0.1868924\ttotal: 3m 18s\tremaining: 1m 15s\n",
      "725:\tlearn: 0.1868339\ttotal: 3m 18s\tremaining: 1m 14s\n",
      "726:\tlearn: 0.1867670\ttotal: 3m 18s\tremaining: 1m 14s\n",
      "727:\tlearn: 0.1867229\ttotal: 3m 18s\tremaining: 1m 14s\n",
      "728:\tlearn: 0.1866813\ttotal: 3m 19s\tremaining: 1m 14s\n",
      "729:\tlearn: 0.1866288\ttotal: 3m 19s\tremaining: 1m 13s\n",
      "730:\tlearn: 0.1865877\ttotal: 3m 19s\tremaining: 1m 13s\n",
      "731:\tlearn: 0.1865431\ttotal: 3m 19s\tremaining: 1m 13s\n",
      "732:\tlearn: 0.1864896\ttotal: 3m 20s\tremaining: 1m 12s\n",
      "733:\tlearn: 0.1864263\ttotal: 3m 20s\tremaining: 1m 12s\n",
      "734:\tlearn: 0.1863828\ttotal: 3m 20s\tremaining: 1m 12s\n",
      "735:\tlearn: 0.1863222\ttotal: 3m 20s\tremaining: 1m 12s\n",
      "736:\tlearn: 0.1862788\ttotal: 3m 21s\tremaining: 1m 11s\n",
      "737:\tlearn: 0.1862205\ttotal: 3m 21s\tremaining: 1m 11s\n",
      "738:\tlearn: 0.1861720\ttotal: 3m 21s\tremaining: 1m 11s\n",
      "739:\tlearn: 0.1861287\ttotal: 3m 21s\tremaining: 1m 10s\n",
      "740:\tlearn: 0.1860742\ttotal: 3m 22s\tremaining: 1m 10s\n",
      "741:\tlearn: 0.1860162\ttotal: 3m 22s\tremaining: 1m 10s\n",
      "742:\tlearn: 0.1859812\ttotal: 3m 22s\tremaining: 1m 10s\n",
      "743:\tlearn: 0.1859253\ttotal: 3m 22s\tremaining: 1m 9s\n",
      "744:\tlearn: 0.1858757\ttotal: 3m 22s\tremaining: 1m 9s\n",
      "745:\tlearn: 0.1858293\ttotal: 3m 23s\tremaining: 1m 9s\n",
      "746:\tlearn: 0.1857854\ttotal: 3m 23s\tremaining: 1m 8s\n",
      "747:\tlearn: 0.1857394\ttotal: 3m 23s\tremaining: 1m 8s\n",
      "748:\tlearn: 0.1856900\ttotal: 3m 23s\tremaining: 1m 8s\n",
      "749:\tlearn: 0.1856382\ttotal: 3m 24s\tremaining: 1m 8s\n",
      "750:\tlearn: 0.1855966\ttotal: 3m 24s\tremaining: 1m 7s\n",
      "751:\tlearn: 0.1855399\ttotal: 3m 24s\tremaining: 1m 7s\n",
      "752:\tlearn: 0.1854910\ttotal: 3m 24s\tremaining: 1m 7s\n",
      "753:\tlearn: 0.1854445\ttotal: 3m 25s\tremaining: 1m 6s\n",
      "754:\tlearn: 0.1853944\ttotal: 3m 25s\tremaining: 1m 6s\n",
      "755:\tlearn: 0.1853597\ttotal: 3m 25s\tremaining: 1m 6s\n",
      "756:\tlearn: 0.1853056\ttotal: 3m 25s\tremaining: 1m 6s\n",
      "757:\tlearn: 0.1852536\ttotal: 3m 26s\tremaining: 1m 5s\n",
      "758:\tlearn: 0.1851968\ttotal: 3m 26s\tremaining: 1m 5s\n",
      "759:\tlearn: 0.1851352\ttotal: 3m 26s\tremaining: 1m 5s\n",
      "760:\tlearn: 0.1850977\ttotal: 3m 26s\tremaining: 1m 5s\n",
      "761:\tlearn: 0.1850351\ttotal: 3m 27s\tremaining: 1m 4s\n",
      "762:\tlearn: 0.1849869\ttotal: 3m 27s\tremaining: 1m 4s\n",
      "763:\tlearn: 0.1849343\ttotal: 3m 27s\tremaining: 1m 4s\n",
      "764:\tlearn: 0.1848813\ttotal: 3m 27s\tremaining: 1m 3s\n",
      "765:\tlearn: 0.1848201\ttotal: 3m 28s\tremaining: 1m 3s\n",
      "766:\tlearn: 0.1847797\ttotal: 3m 28s\tremaining: 1m 3s\n",
      "767:\tlearn: 0.1847324\ttotal: 3m 28s\tremaining: 1m 3s\n",
      "768:\tlearn: 0.1846913\ttotal: 3m 28s\tremaining: 1m 2s\n",
      "769:\tlearn: 0.1846403\ttotal: 3m 29s\tremaining: 1m 2s\n",
      "770:\tlearn: 0.1845894\ttotal: 3m 29s\tremaining: 1m 2s\n",
      "771:\tlearn: 0.1845370\ttotal: 3m 29s\tremaining: 1m 1s\n",
      "772:\tlearn: 0.1844776\ttotal: 3m 29s\tremaining: 1m 1s\n"
     ]
    },
    {
     "name": "stdout",
     "output_type": "stream",
     "text": [
      "773:\tlearn: 0.1844272\ttotal: 3m 30s\tremaining: 1m 1s\n",
      "774:\tlearn: 0.1843822\ttotal: 3m 30s\tremaining: 1m 1s\n",
      "775:\tlearn: 0.1843301\ttotal: 3m 30s\tremaining: 1m\n",
      "776:\tlearn: 0.1842918\ttotal: 3m 30s\tremaining: 1m\n",
      "777:\tlearn: 0.1842484\ttotal: 3m 30s\tremaining: 1m\n",
      "778:\tlearn: 0.1842079\ttotal: 3m 31s\tremaining: 59.9s\n",
      "779:\tlearn: 0.1841626\ttotal: 3m 31s\tremaining: 59.6s\n",
      "780:\tlearn: 0.1841110\ttotal: 3m 31s\tremaining: 59.4s\n",
      "781:\tlearn: 0.1840592\ttotal: 3m 31s\tremaining: 59.1s\n",
      "782:\tlearn: 0.1840151\ttotal: 3m 32s\tremaining: 58.8s\n",
      "783:\tlearn: 0.1839792\ttotal: 3m 32s\tremaining: 58.5s\n",
      "784:\tlearn: 0.1839332\ttotal: 3m 32s\tremaining: 58.2s\n",
      "785:\tlearn: 0.1838827\ttotal: 3m 32s\tremaining: 58s\n",
      "786:\tlearn: 0.1838320\ttotal: 3m 33s\tremaining: 57.7s\n",
      "787:\tlearn: 0.1837807\ttotal: 3m 33s\tremaining: 57.4s\n",
      "788:\tlearn: 0.1837409\ttotal: 3m 33s\tremaining: 57.1s\n",
      "789:\tlearn: 0.1836978\ttotal: 3m 34s\tremaining: 56.9s\n",
      "790:\tlearn: 0.1836485\ttotal: 3m 34s\tremaining: 56.6s\n",
      "791:\tlearn: 0.1836085\ttotal: 3m 34s\tremaining: 56.4s\n",
      "792:\tlearn: 0.1835515\ttotal: 3m 35s\tremaining: 56.2s\n",
      "793:\tlearn: 0.1835107\ttotal: 3m 35s\tremaining: 55.9s\n",
      "794:\tlearn: 0.1834651\ttotal: 3m 36s\tremaining: 55.7s\n",
      "795:\tlearn: 0.1834086\ttotal: 3m 36s\tremaining: 55.5s\n",
      "796:\tlearn: 0.1833580\ttotal: 3m 36s\tremaining: 55.2s\n",
      "797:\tlearn: 0.1833052\ttotal: 3m 37s\tremaining: 55s\n",
      "798:\tlearn: 0.1832553\ttotal: 3m 37s\tremaining: 54.8s\n",
      "799:\tlearn: 0.1832100\ttotal: 3m 38s\tremaining: 54.6s\n",
      "800:\tlearn: 0.1831703\ttotal: 3m 38s\tremaining: 54.3s\n",
      "801:\tlearn: 0.1831302\ttotal: 3m 39s\tremaining: 54.1s\n",
      "802:\tlearn: 0.1830837\ttotal: 3m 39s\tremaining: 53.8s\n",
      "803:\tlearn: 0.1830341\ttotal: 3m 39s\tremaining: 53.6s\n",
      "804:\tlearn: 0.1829932\ttotal: 3m 40s\tremaining: 53.4s\n",
      "805:\tlearn: 0.1829441\ttotal: 3m 40s\tremaining: 53.1s\n",
      "806:\tlearn: 0.1828930\ttotal: 3m 41s\tremaining: 52.9s\n",
      "807:\tlearn: 0.1828423\ttotal: 3m 41s\tremaining: 52.6s\n",
      "808:\tlearn: 0.1827978\ttotal: 3m 41s\tremaining: 52.4s\n",
      "809:\tlearn: 0.1827411\ttotal: 3m 42s\tremaining: 52.1s\n",
      "810:\tlearn: 0.1827058\ttotal: 3m 42s\tremaining: 51.9s\n",
      "811:\tlearn: 0.1826599\ttotal: 3m 42s\tremaining: 51.6s\n",
      "812:\tlearn: 0.1826055\ttotal: 3m 43s\tremaining: 51.3s\n",
      "813:\tlearn: 0.1825508\ttotal: 3m 43s\tremaining: 51s\n",
      "814:\tlearn: 0.1825027\ttotal: 3m 43s\tremaining: 50.8s\n",
      "815:\tlearn: 0.1824595\ttotal: 3m 43s\tremaining: 50.5s\n",
      "816:\tlearn: 0.1824128\ttotal: 3m 44s\tremaining: 50.2s\n",
      "817:\tlearn: 0.1823609\ttotal: 3m 44s\tremaining: 50s\n",
      "818:\tlearn: 0.1823255\ttotal: 3m 44s\tremaining: 49.7s\n",
      "819:\tlearn: 0.1822897\ttotal: 3m 45s\tremaining: 49.5s\n",
      "820:\tlearn: 0.1822378\ttotal: 3m 45s\tremaining: 49.2s\n",
      "821:\tlearn: 0.1822016\ttotal: 3m 46s\tremaining: 48.9s\n",
      "822:\tlearn: 0.1821720\ttotal: 3m 46s\tremaining: 48.7s\n",
      "823:\tlearn: 0.1821369\ttotal: 3m 46s\tremaining: 48.4s\n",
      "824:\tlearn: 0.1820931\ttotal: 3m 47s\tremaining: 48.2s\n",
      "825:\tlearn: 0.1820488\ttotal: 3m 47s\tremaining: 47.9s\n",
      "826:\tlearn: 0.1820091\ttotal: 3m 47s\tremaining: 47.7s\n",
      "827:\tlearn: 0.1819614\ttotal: 3m 48s\tremaining: 47.4s\n",
      "828:\tlearn: 0.1819323\ttotal: 3m 48s\tremaining: 47.2s\n",
      "829:\tlearn: 0.1818855\ttotal: 3m 48s\tremaining: 46.9s\n",
      "830:\tlearn: 0.1818380\ttotal: 3m 49s\tremaining: 46.6s\n",
      "831:\tlearn: 0.1817932\ttotal: 3m 49s\tremaining: 46.4s\n",
      "832:\tlearn: 0.1817434\ttotal: 3m 50s\tremaining: 46.1s\n",
      "833:\tlearn: 0.1817040\ttotal: 3m 50s\tremaining: 45.9s\n",
      "834:\tlearn: 0.1816651\ttotal: 3m 50s\tremaining: 45.6s\n",
      "835:\tlearn: 0.1816264\ttotal: 3m 50s\tremaining: 45.3s\n",
      "836:\tlearn: 0.1815935\ttotal: 3m 51s\tremaining: 45s\n",
      "837:\tlearn: 0.1815535\ttotal: 3m 51s\tremaining: 44.7s\n",
      "838:\tlearn: 0.1815084\ttotal: 3m 51s\tremaining: 44.4s\n",
      "839:\tlearn: 0.1814770\ttotal: 3m 51s\tremaining: 44.2s\n",
      "840:\tlearn: 0.1814338\ttotal: 3m 52s\tremaining: 43.9s\n",
      "841:\tlearn: 0.1813836\ttotal: 3m 52s\tremaining: 43.6s\n",
      "842:\tlearn: 0.1813353\ttotal: 3m 52s\tremaining: 43.3s\n",
      "843:\tlearn: 0.1812847\ttotal: 3m 52s\tremaining: 43s\n",
      "844:\tlearn: 0.1812464\ttotal: 3m 52s\tremaining: 42.7s\n",
      "845:\tlearn: 0.1812063\ttotal: 3m 53s\tremaining: 42.4s\n",
      "846:\tlearn: 0.1811722\ttotal: 3m 53s\tremaining: 42.2s\n",
      "847:\tlearn: 0.1811259\ttotal: 3m 53s\tremaining: 41.9s\n",
      "848:\tlearn: 0.1810808\ttotal: 3m 53s\tremaining: 41.6s\n",
      "849:\tlearn: 0.1810391\ttotal: 3m 54s\tremaining: 41.3s\n",
      "850:\tlearn: 0.1809937\ttotal: 3m 54s\tremaining: 41s\n",
      "851:\tlearn: 0.1809609\ttotal: 3m 54s\tremaining: 40.7s\n",
      "852:\tlearn: 0.1809131\ttotal: 3m 54s\tremaining: 40.4s\n",
      "853:\tlearn: 0.1808757\ttotal: 3m 54s\tremaining: 40.2s\n",
      "854:\tlearn: 0.1808309\ttotal: 3m 55s\tremaining: 39.9s\n",
      "855:\tlearn: 0.1807921\ttotal: 3m 55s\tremaining: 39.6s\n",
      "856:\tlearn: 0.1807607\ttotal: 3m 55s\tremaining: 39.3s\n",
      "857:\tlearn: 0.1807190\ttotal: 3m 55s\tremaining: 39s\n",
      "858:\tlearn: 0.1806630\ttotal: 3m 56s\tremaining: 38.7s\n",
      "859:\tlearn: 0.1806179\ttotal: 3m 56s\tremaining: 38.5s\n",
      "860:\tlearn: 0.1805742\ttotal: 3m 56s\tremaining: 38.2s\n",
      "861:\tlearn: 0.1805314\ttotal: 3m 56s\tremaining: 37.9s\n",
      "862:\tlearn: 0.1804910\ttotal: 3m 56s\tremaining: 37.6s\n",
      "863:\tlearn: 0.1804467\ttotal: 3m 57s\tremaining: 37.3s\n",
      "864:\tlearn: 0.1803921\ttotal: 3m 57s\tremaining: 37.1s\n",
      "865:\tlearn: 0.1803485\ttotal: 3m 57s\tremaining: 36.8s\n",
      "866:\tlearn: 0.1803105\ttotal: 3m 57s\tremaining: 36.5s\n",
      "867:\tlearn: 0.1802724\ttotal: 3m 58s\tremaining: 36.2s\n",
      "868:\tlearn: 0.1802199\ttotal: 3m 58s\tremaining: 35.9s\n",
      "869:\tlearn: 0.1801601\ttotal: 3m 58s\tremaining: 35.7s\n",
      "870:\tlearn: 0.1801153\ttotal: 3m 58s\tremaining: 35.4s\n",
      "871:\tlearn: 0.1800793\ttotal: 3m 59s\tremaining: 35.1s\n",
      "872:\tlearn: 0.1800488\ttotal: 3m 59s\tremaining: 34.9s\n",
      "873:\tlearn: 0.1800122\ttotal: 3m 59s\tremaining: 34.6s\n",
      "874:\tlearn: 0.1799619\ttotal: 4m\tremaining: 34.3s\n",
      "875:\tlearn: 0.1799163\ttotal: 4m\tremaining: 34.1s\n",
      "876:\tlearn: 0.1798781\ttotal: 4m\tremaining: 33.8s\n",
      "877:\tlearn: 0.1798356\ttotal: 4m 1s\tremaining: 33.5s\n",
      "878:\tlearn: 0.1797792\ttotal: 4m 1s\tremaining: 33.3s\n",
      "879:\tlearn: 0.1797369\ttotal: 4m 2s\tremaining: 33s\n",
      "880:\tlearn: 0.1796854\ttotal: 4m 2s\tremaining: 32.8s\n",
      "881:\tlearn: 0.1796530\ttotal: 4m 2s\tremaining: 32.5s\n",
      "882:\tlearn: 0.1796182\ttotal: 4m 3s\tremaining: 32.2s\n",
      "883:\tlearn: 0.1795657\ttotal: 4m 3s\tremaining: 32s\n",
      "884:\tlearn: 0.1795207\ttotal: 4m 3s\tremaining: 31.7s\n",
      "885:\tlearn: 0.1794753\ttotal: 4m 4s\tremaining: 31.4s\n",
      "886:\tlearn: 0.1794235\ttotal: 4m 4s\tremaining: 31.2s\n",
      "887:\tlearn: 0.1793803\ttotal: 4m 4s\tremaining: 30.9s\n",
      "888:\tlearn: 0.1793413\ttotal: 4m 5s\tremaining: 30.6s\n",
      "889:\tlearn: 0.1792964\ttotal: 4m 5s\tremaining: 30.4s\n",
      "890:\tlearn: 0.1792546\ttotal: 4m 6s\tremaining: 30.1s\n",
      "891:\tlearn: 0.1792171\ttotal: 4m 6s\tremaining: 29.8s\n",
      "892:\tlearn: 0.1791727\ttotal: 4m 6s\tremaining: 29.6s\n",
      "893:\tlearn: 0.1791397\ttotal: 4m 7s\tremaining: 29.3s\n",
      "894:\tlearn: 0.1791053\ttotal: 4m 7s\tremaining: 29s\n",
      "895:\tlearn: 0.1790634\ttotal: 4m 7s\tremaining: 28.8s\n",
      "896:\tlearn: 0.1790267\ttotal: 4m 8s\tremaining: 28.5s\n",
      "897:\tlearn: 0.1789904\ttotal: 4m 8s\tremaining: 28.2s\n",
      "898:\tlearn: 0.1789525\ttotal: 4m 8s\tremaining: 28s\n",
      "899:\tlearn: 0.1789098\ttotal: 4m 9s\tremaining: 27.7s\n",
      "900:\tlearn: 0.1788795\ttotal: 4m 9s\tremaining: 27.4s\n",
      "901:\tlearn: 0.1788367\ttotal: 4m 9s\tremaining: 27.1s\n",
      "902:\tlearn: 0.1787981\ttotal: 4m 10s\tremaining: 26.9s\n",
      "903:\tlearn: 0.1787586\ttotal: 4m 10s\tremaining: 26.6s\n",
      "904:\tlearn: 0.1787113\ttotal: 4m 10s\tremaining: 26.3s\n",
      "905:\tlearn: 0.1786753\ttotal: 4m 11s\tremaining: 26.1s\n",
      "906:\tlearn: 0.1786375\ttotal: 4m 11s\tremaining: 25.8s\n",
      "907:\tlearn: 0.1785945\ttotal: 4m 11s\tremaining: 25.5s\n",
      "908:\tlearn: 0.1785533\ttotal: 4m 12s\tremaining: 25.2s\n",
      "909:\tlearn: 0.1785084\ttotal: 4m 12s\tremaining: 25s\n",
      "910:\tlearn: 0.1784592\ttotal: 4m 12s\tremaining: 24.7s\n",
      "911:\tlearn: 0.1784136\ttotal: 4m 12s\tremaining: 24.4s\n",
      "912:\tlearn: 0.1783701\ttotal: 4m 13s\tremaining: 24.1s\n",
      "913:\tlearn: 0.1783287\ttotal: 4m 13s\tremaining: 23.9s\n",
      "914:\tlearn: 0.1782789\ttotal: 4m 14s\tremaining: 23.6s\n",
      "915:\tlearn: 0.1782226\ttotal: 4m 14s\tremaining: 23.3s\n",
      "916:\tlearn: 0.1781979\ttotal: 4m 14s\tremaining: 23s\n",
      "917:\tlearn: 0.1781616\ttotal: 4m 14s\tremaining: 22.8s\n",
      "918:\tlearn: 0.1781238\ttotal: 4m 15s\tremaining: 22.5s\n",
      "919:\tlearn: 0.1780785\ttotal: 4m 15s\tremaining: 22.2s\n",
      "920:\tlearn: 0.1780428\ttotal: 4m 15s\tremaining: 22s\n",
      "921:\tlearn: 0.1780064\ttotal: 4m 16s\tremaining: 21.7s\n",
      "922:\tlearn: 0.1779622\ttotal: 4m 16s\tremaining: 21.4s\n",
      "923:\tlearn: 0.1779078\ttotal: 4m 16s\tremaining: 21.1s\n",
      "924:\tlearn: 0.1778605\ttotal: 4m 16s\tremaining: 20.8s\n",
      "925:\tlearn: 0.1778147\ttotal: 4m 17s\tremaining: 20.6s\n",
      "926:\tlearn: 0.1777724\ttotal: 4m 17s\tremaining: 20.3s\n",
      "927:\tlearn: 0.1777350\ttotal: 4m 17s\tremaining: 20s\n",
      "928:\tlearn: 0.1776868\ttotal: 4m 17s\tremaining: 19.7s\n",
      "929:\tlearn: 0.1776496\ttotal: 4m 18s\tremaining: 19.4s\n"
     ]
    },
    {
     "name": "stdout",
     "output_type": "stream",
     "text": [
      "930:\tlearn: 0.1776113\ttotal: 4m 18s\tremaining: 19.1s\n",
      "931:\tlearn: 0.1775636\ttotal: 4m 18s\tremaining: 18.9s\n",
      "932:\tlearn: 0.1775185\ttotal: 4m 18s\tremaining: 18.6s\n",
      "933:\tlearn: 0.1774794\ttotal: 4m 19s\tremaining: 18.3s\n",
      "934:\tlearn: 0.1774422\ttotal: 4m 19s\tremaining: 18s\n",
      "935:\tlearn: 0.1773928\ttotal: 4m 20s\tremaining: 17.8s\n",
      "936:\tlearn: 0.1773562\ttotal: 4m 20s\tremaining: 17.5s\n",
      "937:\tlearn: 0.1773269\ttotal: 4m 20s\tremaining: 17.2s\n",
      "938:\tlearn: 0.1772871\ttotal: 4m 21s\tremaining: 17s\n",
      "939:\tlearn: 0.1772375\ttotal: 4m 21s\tremaining: 16.7s\n",
      "940:\tlearn: 0.1771994\ttotal: 4m 21s\tremaining: 16.4s\n",
      "941:\tlearn: 0.1771483\ttotal: 4m 22s\tremaining: 16.1s\n",
      "942:\tlearn: 0.1771122\ttotal: 4m 22s\tremaining: 15.9s\n",
      "943:\tlearn: 0.1770813\ttotal: 4m 22s\tremaining: 15.6s\n",
      "944:\tlearn: 0.1770316\ttotal: 4m 22s\tremaining: 15.3s\n",
      "945:\tlearn: 0.1769892\ttotal: 4m 23s\tremaining: 15s\n",
      "946:\tlearn: 0.1769571\ttotal: 4m 23s\tremaining: 14.8s\n",
      "947:\tlearn: 0.1769261\ttotal: 4m 24s\tremaining: 14.5s\n",
      "948:\tlearn: 0.1768847\ttotal: 4m 24s\tremaining: 14.2s\n",
      "949:\tlearn: 0.1768441\ttotal: 4m 24s\tremaining: 13.9s\n",
      "950:\tlearn: 0.1768172\ttotal: 4m 25s\tremaining: 13.7s\n",
      "951:\tlearn: 0.1767755\ttotal: 4m 25s\tremaining: 13.4s\n",
      "952:\tlearn: 0.1767279\ttotal: 4m 25s\tremaining: 13.1s\n",
      "953:\tlearn: 0.1766837\ttotal: 4m 25s\tremaining: 12.8s\n",
      "954:\tlearn: 0.1766402\ttotal: 4m 26s\tremaining: 12.6s\n",
      "955:\tlearn: 0.1765992\ttotal: 4m 26s\tremaining: 12.3s\n",
      "956:\tlearn: 0.1765508\ttotal: 4m 27s\tremaining: 12s\n",
      "957:\tlearn: 0.1765218\ttotal: 4m 27s\tremaining: 11.7s\n",
      "958:\tlearn: 0.1764761\ttotal: 4m 27s\tremaining: 11.5s\n",
      "959:\tlearn: 0.1764401\ttotal: 4m 28s\tremaining: 11.2s\n",
      "960:\tlearn: 0.1764000\ttotal: 4m 28s\tremaining: 10.9s\n",
      "961:\tlearn: 0.1763663\ttotal: 4m 28s\tremaining: 10.6s\n",
      "962:\tlearn: 0.1763275\ttotal: 4m 29s\tremaining: 10.3s\n",
      "963:\tlearn: 0.1762803\ttotal: 4m 29s\tremaining: 10.1s\n",
      "964:\tlearn: 0.1762497\ttotal: 4m 29s\tremaining: 9.78s\n",
      "965:\tlearn: 0.1762181\ttotal: 4m 29s\tremaining: 9.5s\n",
      "966:\tlearn: 0.1761761\ttotal: 4m 30s\tremaining: 9.22s\n",
      "967:\tlearn: 0.1761220\ttotal: 4m 30s\tremaining: 8.94s\n",
      "968:\tlearn: 0.1760796\ttotal: 4m 30s\tremaining: 8.66s\n",
      "969:\tlearn: 0.1760444\ttotal: 4m 30s\tremaining: 8.38s\n",
      "970:\tlearn: 0.1760001\ttotal: 4m 31s\tremaining: 8.1s\n",
      "971:\tlearn: 0.1759572\ttotal: 4m 31s\tremaining: 7.82s\n",
      "972:\tlearn: 0.1759104\ttotal: 4m 31s\tremaining: 7.54s\n",
      "973:\tlearn: 0.1758679\ttotal: 4m 31s\tremaining: 7.25s\n",
      "974:\tlearn: 0.1758281\ttotal: 4m 32s\tremaining: 6.97s\n",
      "975:\tlearn: 0.1757920\ttotal: 4m 32s\tremaining: 6.7s\n",
      "976:\tlearn: 0.1757633\ttotal: 4m 32s\tremaining: 6.41s\n",
      "977:\tlearn: 0.1757297\ttotal: 4m 32s\tremaining: 6.13s\n",
      "978:\tlearn: 0.1756884\ttotal: 4m 32s\tremaining: 5.86s\n",
      "979:\tlearn: 0.1756473\ttotal: 4m 33s\tremaining: 5.58s\n",
      "980:\tlearn: 0.1756118\ttotal: 4m 33s\tremaining: 5.29s\n",
      "981:\tlearn: 0.1755801\ttotal: 4m 33s\tremaining: 5.02s\n",
      "982:\tlearn: 0.1755455\ttotal: 4m 34s\tremaining: 4.74s\n",
      "983:\tlearn: 0.1754935\ttotal: 4m 34s\tremaining: 4.46s\n",
      "984:\tlearn: 0.1754437\ttotal: 4m 34s\tremaining: 4.18s\n",
      "985:\tlearn: 0.1754004\ttotal: 4m 34s\tremaining: 3.9s\n",
      "986:\tlearn: 0.1753587\ttotal: 4m 35s\tremaining: 3.63s\n",
      "987:\tlearn: 0.1753302\ttotal: 4m 35s\tremaining: 3.35s\n",
      "988:\tlearn: 0.1752789\ttotal: 4m 35s\tremaining: 3.07s\n",
      "989:\tlearn: 0.1752392\ttotal: 4m 36s\tremaining: 2.79s\n",
      "990:\tlearn: 0.1751918\ttotal: 4m 36s\tremaining: 2.51s\n",
      "991:\tlearn: 0.1751496\ttotal: 4m 36s\tremaining: 2.23s\n",
      "992:\tlearn: 0.1751072\ttotal: 4m 37s\tremaining: 1.95s\n",
      "993:\tlearn: 0.1750714\ttotal: 4m 37s\tremaining: 1.68s\n",
      "994:\tlearn: 0.1750444\ttotal: 4m 37s\tremaining: 1.4s\n",
      "995:\tlearn: 0.1750095\ttotal: 4m 38s\tremaining: 1.12s\n",
      "996:\tlearn: 0.1749573\ttotal: 4m 38s\tremaining: 838ms\n",
      "997:\tlearn: 0.1749209\ttotal: 4m 38s\tremaining: 558ms\n",
      "998:\tlearn: 0.1748794\ttotal: 4m 38s\tremaining: 279ms\n",
      "999:\tlearn: 0.1748299\ttotal: 4m 39s\tremaining: 0us\n"
     ]
    },
    {
     "data": {
      "text/plain": [
       "<catboost.core.CatBoostClassifier at 0x16182f4f2e8>"
      ]
     },
     "execution_count": 57,
     "metadata": {},
     "output_type": "execute_result"
    }
   ],
   "source": [
    "import catboost as cb\n",
    "cbo=cb.CatBoostClassifier()\n",
    "clf = cb.CatBoostClassifier()\n",
    "clf.fit(x_train,y_train)"
   ]
  },
  {
   "cell_type": "code",
   "execution_count": 58,
   "metadata": {},
   "outputs": [
    {
     "name": "stdout",
     "output_type": "stream",
     "text": [
      "AUC: 0.891\n"
     ]
    }
   ],
   "source": [
    "probs = clf.predict_proba(x_validate)\n",
    "probs = probs[:,1]\n",
    "# calculate AUC\n",
    "auc = roc_auc_score(y_validate, probs)\n",
    "print('AUC: %.3f' % auc)"
   ]
  },
  {
   "cell_type": "markdown",
   "metadata": {},
   "source": [
    "### Tuning"
   ]
  },
  {
   "cell_type": "code",
   "execution_count": null,
   "metadata": {},
   "outputs": [],
   "source": [
    "params = {'depth': [4, 7, 10],\n",
    "          'learning_rate' : [0.03, 0.1, 0.15],\n",
    "         'l2_leaf_reg': [1,4,9],\n",
    "         'iterations': [300]}\n",
    "cb = cb.CatBoostClassifier()\n",
    "cb_model = GridSearchCV(cb, params, scoring=\"roc_auc\", cv = 3)\n",
    "cb_model.fit(x_train, y_train)"
   ]
  },
  {
   "cell_type": "code",
   "execution_count": 59,
   "metadata": {},
   "outputs": [],
   "source": [
    "final_status = clf.predict_proba(x_test)\n",
    "df_test[\"target\"]=final_status[:,1]\n",
    "df_test.to_csv(\"clf.csv\",columns=['ID_code','target'])"
   ]
  },
  {
   "cell_type": "markdown",
   "metadata": {},
   "source": [
    "### H2O"
   ]
  },
  {
   "cell_type": "code",
   "execution_count": 51,
   "metadata": {},
   "outputs": [],
   "source": [
    "x_train=pd.DataFrame(x_train)\n",
    "y_train=pd.DataFrame(y_train)\n",
    "x_validate=pd.DataFrame(x_validate)\n",
    "y_validate=pd.DataFrame(y_validate)\n",
    "x_test=pd.DataFrame(x_test)"
   ]
  },
  {
   "cell_type": "code",
   "execution_count": 52,
   "metadata": {},
   "outputs": [],
   "source": [
    "df_train=pd.concat([x_train,y_train],axis=1)\n",
    "df_val=pd.concat([x_validate,y_validate],axis=1)\n"
   ]
  },
  {
   "cell_type": "code",
   "execution_count": 53,
   "metadata": {},
   "outputs": [],
   "source": [
    "df_train.to_csv(\"df_train.csv\")\n",
    "df_val.to_csv(\"df_val.csv\")"
   ]
  },
  {
   "cell_type": "code",
   "execution_count": 54,
   "metadata": {},
   "outputs": [
    {
     "name": "stdout",
     "output_type": "stream",
     "text": [
      "Checking whether there is an H2O instance running at http://localhost:54321. connected.\n"
     ]
    },
    {
     "data": {
      "text/html": [
       "<div style=\"overflow:auto\"><table style=\"width:50%\"><tr><td>H2O cluster uptime:</td>\n",
       "<td>34 mins 45 secs</td></tr>\n",
       "<tr><td>H2O cluster timezone:</td>\n",
       "<td>Asia/Kolkata</td></tr>\n",
       "<tr><td>H2O data parsing timezone:</td>\n",
       "<td>UTC</td></tr>\n",
       "<tr><td>H2O cluster version:</td>\n",
       "<td>3.22.1.4</td></tr>\n",
       "<tr><td>H2O cluster version age:</td>\n",
       "<td>1 month and 17 days </td></tr>\n",
       "<tr><td>H2O cluster name:</td>\n",
       "<td>H2O_from_python_AJIT_gxc13r</td></tr>\n",
       "<tr><td>H2O cluster total nodes:</td>\n",
       "<td>1</td></tr>\n",
       "<tr><td>H2O cluster free memory:</td>\n",
       "<td>532 Mb</td></tr>\n",
       "<tr><td>H2O cluster total cores:</td>\n",
       "<td>4</td></tr>\n",
       "<tr><td>H2O cluster allowed cores:</td>\n",
       "<td>4</td></tr>\n",
       "<tr><td>H2O cluster status:</td>\n",
       "<td>locked, healthy</td></tr>\n",
       "<tr><td>H2O connection url:</td>\n",
       "<td>http://localhost:54321</td></tr>\n",
       "<tr><td>H2O connection proxy:</td>\n",
       "<td>None</td></tr>\n",
       "<tr><td>H2O internal security:</td>\n",
       "<td>False</td></tr>\n",
       "<tr><td>H2O API Extensions:</td>\n",
       "<td>Amazon S3, Algos, AutoML, Core V3, Core V4</td></tr>\n",
       "<tr><td>Python version:</td>\n",
       "<td>3.6.5 final</td></tr></table></div>"
      ],
      "text/plain": [
       "--------------------------  ------------------------------------------\n",
       "H2O cluster uptime:         34 mins 45 secs\n",
       "H2O cluster timezone:       Asia/Kolkata\n",
       "H2O data parsing timezone:  UTC\n",
       "H2O cluster version:        3.22.1.4\n",
       "H2O cluster version age:    1 month and 17 days\n",
       "H2O cluster name:           H2O_from_python_AJIT_gxc13r\n",
       "H2O cluster total nodes:    1\n",
       "H2O cluster free memory:    532 Mb\n",
       "H2O cluster total cores:    4\n",
       "H2O cluster allowed cores:  4\n",
       "H2O cluster status:         locked, healthy\n",
       "H2O connection url:         http://localhost:54321\n",
       "H2O connection proxy:\n",
       "H2O internal security:      False\n",
       "H2O API Extensions:         Amazon S3, Algos, AutoML, Core V3, Core V4\n",
       "Python version:             3.6.5 final\n",
       "--------------------------  ------------------------------------------"
      ]
     },
     "metadata": {},
     "output_type": "display_data"
    }
   ],
   "source": [
    "import h2o\n",
    "import numpy as np\n",
    "import math\n",
    "from h2o.estimators.gbm import H2OGradientBoostingEstimator\n",
    "from h2o.grid.grid_search import H2OGridSearch\n",
    "h2o.init(nthreads=-1, strict_version_check=True)\n",
    "## optional: connect to a running H2O cluster\n",
    "#h2o.init(ip=\"mycluster\", port=55555)"
   ]
  },
  {
   "cell_type": "code",
   "execution_count": 55,
   "metadata": {},
   "outputs": [
    {
     "name": "stdout",
     "output_type": "stream",
     "text": [
      "Parse progress: |█████████████████████████████████████████████████████████| 100%\n",
      "Parse progress: |█████████████████████████████████████████████████████████| 100%\n"
     ]
    }
   ],
   "source": [
    "## 'path' can point to a local file, hdfs, s3, nfs, Hive, directories, etc.\n",
    "df = h2o.import_file(path = \"C:\\\\Users\\\\AJIT\\\\Desktop\\\\df_train.csv\")\n",
    "df_val = h2o.import_file(path =\"C:\\\\Users\\\\AJIT\\\\Desktop\\\\df_val.csv\")"
   ]
  },
  {
   "cell_type": "code",
   "execution_count": 56,
   "metadata": {},
   "outputs": [
    {
     "data": {
      "text/html": [
       "<table>\n",
       "<thead>\n",
       "<tr><th style=\"text-align: right;\">  C1</th><th style=\"text-align: right;\">     C2</th><th style=\"text-align: right;\">    C3</th><th style=\"text-align: right;\">    C4</th><th style=\"text-align: right;\">     C5</th><th style=\"text-align: right;\">      C6</th><th style=\"text-align: right;\">     C7</th><th style=\"text-align: right;\">    C8</th><th style=\"text-align: right;\">     C9</th><th style=\"text-align: right;\">     C10</th><th style=\"text-align: right;\">    C11</th><th style=\"text-align: right;\">    C12</th><th style=\"text-align: right;\">    C13</th><th style=\"text-align: right;\">    C14</th><th style=\"text-align: right;\">     C15</th><th style=\"text-align: right;\">    C16</th><th style=\"text-align: right;\">    C17</th><th style=\"text-align: right;\">    C18</th><th style=\"text-align: right;\">    C19</th><th style=\"text-align: right;\">    C20</th><th style=\"text-align: right;\">    C21</th><th style=\"text-align: right;\">    C22</th><th style=\"text-align: right;\">    C23</th><th style=\"text-align: right;\">    C24</th><th style=\"text-align: right;\">    C25</th><th style=\"text-align: right;\">    C26</th><th style=\"text-align: right;\">    C27</th><th style=\"text-align: right;\">    C28</th><th style=\"text-align: right;\">     C29</th><th style=\"text-align: right;\">    C30</th><th style=\"text-align: right;\">     C31</th><th style=\"text-align: right;\">    C32</th><th style=\"text-align: right;\">    C33</th><th style=\"text-align: right;\">    C34</th><th style=\"text-align: right;\">    C35</th><th style=\"text-align: right;\">    C36</th><th style=\"text-align: right;\">    C37</th><th style=\"text-align: right;\">     C38</th><th style=\"text-align: right;\">    C39</th><th style=\"text-align: right;\">    C40</th><th style=\"text-align: right;\">    C41</th><th style=\"text-align: right;\">    C42</th><th style=\"text-align: right;\">    C43</th><th style=\"text-align: right;\">    C44</th><th style=\"text-align: right;\">    C45</th><th style=\"text-align: right;\">    C46</th><th style=\"text-align: right;\">    C47</th><th style=\"text-align: right;\">    C48</th><th style=\"text-align: right;\">    C49</th><th style=\"text-align: right;\">    C50</th><th style=\"text-align: right;\">    C51</th><th style=\"text-align: right;\">    C52</th><th style=\"text-align: right;\">    C53</th><th style=\"text-align: right;\">    C54</th><th style=\"text-align: right;\">    C55</th><th style=\"text-align: right;\">    C56</th><th style=\"text-align: right;\">    C57</th><th style=\"text-align: right;\">    C58</th><th style=\"text-align: right;\">    C59</th><th style=\"text-align: right;\">    C60</th><th style=\"text-align: right;\">    C61</th><th style=\"text-align: right;\">    C62</th><th style=\"text-align: right;\">     C63</th><th style=\"text-align: right;\">    C64</th><th style=\"text-align: right;\">    C65</th><th style=\"text-align: right;\">     C66</th><th style=\"text-align: right;\">    C67</th><th style=\"text-align: right;\">    C68</th><th style=\"text-align: right;\">     C69</th><th style=\"text-align: right;\">    C70</th><th style=\"text-align: right;\">    C71</th><th style=\"text-align: right;\">    C72</th><th style=\"text-align: right;\">    C73</th><th style=\"text-align: right;\">    C74</th><th style=\"text-align: right;\">    C75</th><th style=\"text-align: right;\">    C76</th><th style=\"text-align: right;\">    C77</th><th style=\"text-align: right;\">    C78</th><th style=\"text-align: right;\">    C79</th><th style=\"text-align: right;\">    C80</th><th style=\"text-align: right;\">    C81</th><th style=\"text-align: right;\">    C82</th><th style=\"text-align: right;\">    C83</th><th style=\"text-align: right;\">    C84</th><th style=\"text-align: right;\">    C85</th><th style=\"text-align: right;\">    C86</th><th style=\"text-align: right;\">    C87</th><th style=\"text-align: right;\">    C88</th><th style=\"text-align: right;\">     C89</th><th style=\"text-align: right;\">    C90</th><th style=\"text-align: right;\">    C91</th><th style=\"text-align: right;\">    C92</th><th style=\"text-align: right;\">     C93</th><th style=\"text-align: right;\">    C94</th><th style=\"text-align: right;\">    C95</th><th style=\"text-align: right;\">     C96</th><th style=\"text-align: right;\">    C97</th><th style=\"text-align: right;\">     C98</th><th style=\"text-align: right;\">     C99</th><th style=\"text-align: right;\">   C100</th><th style=\"text-align: right;\">   C101</th><th style=\"text-align: right;\">    C102</th><th style=\"text-align: right;\">    C103</th><th style=\"text-align: right;\">    C104</th><th style=\"text-align: right;\">    C105</th><th style=\"text-align: right;\">    C106</th><th style=\"text-align: right;\">    C107</th><th style=\"text-align: right;\">    C108</th><th style=\"text-align: right;\">    C109</th><th style=\"text-align: right;\">    C110</th><th style=\"text-align: right;\">    C111</th><th style=\"text-align: right;\">    C112</th><th style=\"text-align: right;\">    C113</th><th style=\"text-align: right;\">    C114</th><th style=\"text-align: right;\">    C115</th><th style=\"text-align: right;\">    C116</th><th style=\"text-align: right;\">    C117</th><th style=\"text-align: right;\">    C118</th><th style=\"text-align: right;\">    C119</th><th style=\"text-align: right;\">    C120</th><th style=\"text-align: right;\">    C121</th><th style=\"text-align: right;\">    C122</th><th style=\"text-align: right;\">    C123</th><th style=\"text-align: right;\">    C124</th><th style=\"text-align: right;\">    C125</th><th style=\"text-align: right;\">    C126</th><th style=\"text-align: right;\">    C127</th><th style=\"text-align: right;\">    C128</th><th style=\"text-align: right;\">    C129</th><th style=\"text-align: right;\">    C130</th><th style=\"text-align: right;\">    C131</th><th style=\"text-align: right;\">    C132</th><th style=\"text-align: right;\">    C133</th><th style=\"text-align: right;\">    C134</th><th style=\"text-align: right;\">    C135</th><th style=\"text-align: right;\">    C136</th><th style=\"text-align: right;\">    C137</th><th style=\"text-align: right;\">    C138</th><th style=\"text-align: right;\">    C139</th><th style=\"text-align: right;\">    C140</th><th style=\"text-align: right;\">    C141</th><th style=\"text-align: right;\">    C142</th><th style=\"text-align: right;\">    C143</th><th style=\"text-align: right;\">    C144</th><th style=\"text-align: right;\">    C145</th><th style=\"text-align: right;\">    C146</th><th style=\"text-align: right;\">    C147</th><th style=\"text-align: right;\">    C148</th><th style=\"text-align: right;\">    C149</th><th style=\"text-align: right;\">    C150</th><th style=\"text-align: right;\">    C151</th><th style=\"text-align: right;\">    C152</th><th style=\"text-align: right;\">    C153</th><th style=\"text-align: right;\">    C154</th><th style=\"text-align: right;\">    C155</th><th style=\"text-align: right;\">    C156</th><th style=\"text-align: right;\">    C157</th><th style=\"text-align: right;\">    C158</th><th style=\"text-align: right;\">    C159</th><th style=\"text-align: right;\">    C160</th><th style=\"text-align: right;\">    C161</th><th style=\"text-align: right;\">    C162</th><th style=\"text-align: right;\">    C163</th><th style=\"text-align: right;\">    C164</th><th style=\"text-align: right;\">    C165</th><th style=\"text-align: right;\">    C166</th><th style=\"text-align: right;\">    C167</th><th style=\"text-align: right;\">    C168</th><th style=\"text-align: right;\">    C169</th><th style=\"text-align: right;\">    C170</th><th style=\"text-align: right;\">    C171</th><th style=\"text-align: right;\">    C172</th><th style=\"text-align: right;\">    C173</th><th style=\"text-align: right;\">    C174</th><th style=\"text-align: right;\">    C175</th><th style=\"text-align: right;\">    C176</th><th style=\"text-align: right;\">    C177</th><th style=\"text-align: right;\">    C178</th><th style=\"text-align: right;\">    C179</th><th style=\"text-align: right;\">    C180</th><th style=\"text-align: right;\">    C181</th><th style=\"text-align: right;\">    C182</th><th style=\"text-align: right;\">    C183</th><th style=\"text-align: right;\">    C184</th><th style=\"text-align: right;\">    C185</th><th style=\"text-align: right;\">    C186</th><th style=\"text-align: right;\">    C187</th><th style=\"text-align: right;\">    C188</th><th style=\"text-align: right;\">    C189</th><th style=\"text-align: right;\">    C190</th><th style=\"text-align: right;\">    C191</th><th style=\"text-align: right;\">    C192</th><th style=\"text-align: right;\">    C193</th><th style=\"text-align: right;\">    C194</th><th style=\"text-align: right;\">    C195</th><th style=\"text-align: right;\">    C196</th><th style=\"text-align: right;\">    C197</th><th style=\"text-align: right;\">    C198</th><th style=\"text-align: right;\">    C199</th><th style=\"text-align: right;\">    C200</th></tr>\n",
       "</thead>\n",
       "<tbody>\n",
       "<tr><td style=\"text-align: right;\"> nan</td><td style=\"text-align: right;\"> 0     </td><td style=\"text-align: right;\">1     </td><td style=\"text-align: right;\">2     </td><td style=\"text-align: right;\"> 3     </td><td style=\"text-align: right;\">  4     </td><td style=\"text-align: right;\"> 5     </td><td style=\"text-align: right;\">6     </td><td style=\"text-align: right;\"> 7     </td><td style=\"text-align: right;\">  8     </td><td style=\"text-align: right;\"> 9     </td><td style=\"text-align: right;\">10     </td><td style=\"text-align: right;\">11     </td><td style=\"text-align: right;\">12     </td><td style=\"text-align: right;\"> 13     </td><td style=\"text-align: right;\">14     </td><td style=\"text-align: right;\">15     </td><td style=\"text-align: right;\">16     </td><td style=\"text-align: right;\">17     </td><td style=\"text-align: right;\">18     </td><td style=\"text-align: right;\">19     </td><td style=\"text-align: right;\">20     </td><td style=\"text-align: right;\">21     </td><td style=\"text-align: right;\">22     </td><td style=\"text-align: right;\">23     </td><td style=\"text-align: right;\">24     </td><td style=\"text-align: right;\">25     </td><td style=\"text-align: right;\">26     </td><td style=\"text-align: right;\"> 27     </td><td style=\"text-align: right;\">28     </td><td style=\"text-align: right;\"> 29     </td><td style=\"text-align: right;\">30     </td><td style=\"text-align: right;\">31     </td><td style=\"text-align: right;\">32     </td><td style=\"text-align: right;\">33     </td><td style=\"text-align: right;\">34     </td><td style=\"text-align: right;\">35     </td><td style=\"text-align: right;\"> 36     </td><td style=\"text-align: right;\">37     </td><td style=\"text-align: right;\">38     </td><td style=\"text-align: right;\">39     </td><td style=\"text-align: right;\">40     </td><td style=\"text-align: right;\">41     </td><td style=\"text-align: right;\">42     </td><td style=\"text-align: right;\">43     </td><td style=\"text-align: right;\">44     </td><td style=\"text-align: right;\">45     </td><td style=\"text-align: right;\">46     </td><td style=\"text-align: right;\">47     </td><td style=\"text-align: right;\">48     </td><td style=\"text-align: right;\">49     </td><td style=\"text-align: right;\">50     </td><td style=\"text-align: right;\">51     </td><td style=\"text-align: right;\">52     </td><td style=\"text-align: right;\">53     </td><td style=\"text-align: right;\">54     </td><td style=\"text-align: right;\">55     </td><td style=\"text-align: right;\">56     </td><td style=\"text-align: right;\">57     </td><td style=\"text-align: right;\">58     </td><td style=\"text-align: right;\">59     </td><td style=\"text-align: right;\">60     </td><td style=\"text-align: right;\"> 61     </td><td style=\"text-align: right;\">62     </td><td style=\"text-align: right;\">63     </td><td style=\"text-align: right;\"> 64     </td><td style=\"text-align: right;\">65     </td><td style=\"text-align: right;\">66     </td><td style=\"text-align: right;\"> 67     </td><td style=\"text-align: right;\">68     </td><td style=\"text-align: right;\">69     </td><td style=\"text-align: right;\">70     </td><td style=\"text-align: right;\">71     </td><td style=\"text-align: right;\">72     </td><td style=\"text-align: right;\">73     </td><td style=\"text-align: right;\">74     </td><td style=\"text-align: right;\">75     </td><td style=\"text-align: right;\">76     </td><td style=\"text-align: right;\">77     </td><td style=\"text-align: right;\">78     </td><td style=\"text-align: right;\">79     </td><td style=\"text-align: right;\">80     </td><td style=\"text-align: right;\">81     </td><td style=\"text-align: right;\">82     </td><td style=\"text-align: right;\">83     </td><td style=\"text-align: right;\">84     </td><td style=\"text-align: right;\">85     </td><td style=\"text-align: right;\">86     </td><td style=\"text-align: right;\"> 87     </td><td style=\"text-align: right;\">88     </td><td style=\"text-align: right;\">89     </td><td style=\"text-align: right;\">90     </td><td style=\"text-align: right;\"> 91     </td><td style=\"text-align: right;\">92     </td><td style=\"text-align: right;\">93     </td><td style=\"text-align: right;\"> 94     </td><td style=\"text-align: right;\">95     </td><td style=\"text-align: right;\"> 96     </td><td style=\"text-align: right;\"> 97     </td><td style=\"text-align: right;\">98     </td><td style=\"text-align: right;\">99     </td><td style=\"text-align: right;\">100     </td><td style=\"text-align: right;\">101     </td><td style=\"text-align: right;\">102     </td><td style=\"text-align: right;\">103     </td><td style=\"text-align: right;\">104     </td><td style=\"text-align: right;\">105     </td><td style=\"text-align: right;\">106     </td><td style=\"text-align: right;\">107     </td><td style=\"text-align: right;\">108     </td><td style=\"text-align: right;\">109     </td><td style=\"text-align: right;\">110     </td><td style=\"text-align: right;\">111     </td><td style=\"text-align: right;\">112     </td><td style=\"text-align: right;\">113     </td><td style=\"text-align: right;\">114     </td><td style=\"text-align: right;\">115     </td><td style=\"text-align: right;\">116     </td><td style=\"text-align: right;\">117     </td><td style=\"text-align: right;\">118     </td><td style=\"text-align: right;\">119     </td><td style=\"text-align: right;\">120     </td><td style=\"text-align: right;\">121     </td><td style=\"text-align: right;\">122     </td><td style=\"text-align: right;\">123     </td><td style=\"text-align: right;\">124     </td><td style=\"text-align: right;\">125     </td><td style=\"text-align: right;\">126     </td><td style=\"text-align: right;\">127     </td><td style=\"text-align: right;\">128     </td><td style=\"text-align: right;\">129     </td><td style=\"text-align: right;\">130     </td><td style=\"text-align: right;\">131     </td><td style=\"text-align: right;\">132     </td><td style=\"text-align: right;\">133     </td><td style=\"text-align: right;\">134     </td><td style=\"text-align: right;\">135     </td><td style=\"text-align: right;\">136     </td><td style=\"text-align: right;\">137     </td><td style=\"text-align: right;\">138     </td><td style=\"text-align: right;\">139     </td><td style=\"text-align: right;\">140     </td><td style=\"text-align: right;\">141     </td><td style=\"text-align: right;\">142     </td><td style=\"text-align: right;\">143     </td><td style=\"text-align: right;\">144     </td><td style=\"text-align: right;\">145     </td><td style=\"text-align: right;\">146     </td><td style=\"text-align: right;\">147     </td><td style=\"text-align: right;\">148     </td><td style=\"text-align: right;\">149     </td><td style=\"text-align: right;\">150     </td><td style=\"text-align: right;\">151     </td><td style=\"text-align: right;\">152     </td><td style=\"text-align: right;\">153     </td><td style=\"text-align: right;\">154     </td><td style=\"text-align: right;\">155     </td><td style=\"text-align: right;\">156     </td><td style=\"text-align: right;\">157     </td><td style=\"text-align: right;\">158     </td><td style=\"text-align: right;\">159     </td><td style=\"text-align: right;\">160     </td><td style=\"text-align: right;\">161     </td><td style=\"text-align: right;\">162     </td><td style=\"text-align: right;\">163     </td><td style=\"text-align: right;\">164     </td><td style=\"text-align: right;\">165     </td><td style=\"text-align: right;\">166     </td><td style=\"text-align: right;\">167     </td><td style=\"text-align: right;\">168     </td><td style=\"text-align: right;\">169     </td><td style=\"text-align: right;\">170     </td><td style=\"text-align: right;\">171     </td><td style=\"text-align: right;\">172     </td><td style=\"text-align: right;\">173     </td><td style=\"text-align: right;\">174     </td><td style=\"text-align: right;\">175     </td><td style=\"text-align: right;\">176     </td><td style=\"text-align: right;\">177     </td><td style=\"text-align: right;\">178     </td><td style=\"text-align: right;\">179     </td><td style=\"text-align: right;\">180     </td><td style=\"text-align: right;\">181     </td><td style=\"text-align: right;\">182     </td><td style=\"text-align: right;\">183     </td><td style=\"text-align: right;\">184     </td><td style=\"text-align: right;\">185     </td><td style=\"text-align: right;\">186     </td><td style=\"text-align: right;\">187     </td><td style=\"text-align: right;\">188     </td><td style=\"text-align: right;\">189     </td><td style=\"text-align: right;\">190     </td><td style=\"text-align: right;\">191     </td><td style=\"text-align: right;\">192     </td><td style=\"text-align: right;\">193     </td><td style=\"text-align: right;\">194     </td><td style=\"text-align: right;\">195     </td><td style=\"text-align: right;\">196     </td><td style=\"text-align: right;\">197     </td><td style=\"text-align: right;\">198     </td></tr>\n",
       "<tr><td style=\"text-align: right;\">   0</td><td style=\"text-align: right;\">31.4045</td><td style=\"text-align: right;\">8.6989</td><td style=\"text-align: right;\">6.7806</td><td style=\"text-align: right;\">18.3816</td><td style=\"text-align: right;\">-19.7159</td><td style=\"text-align: right;\">12.9041</td><td style=\"text-align: right;\">5.8056</td><td style=\"text-align: right;\">17.9244</td><td style=\"text-align: right;\"> -3.5189</td><td style=\"text-align: right;\">12.1749</td><td style=\"text-align: right;\"> 3.8743</td><td style=\"text-align: right;\">-0.2154</td><td style=\"text-align: right;\"> 0.5857</td><td style=\"text-align: right;\">  9.3225</td><td style=\"text-align: right;\"> 3.9642</td><td style=\"text-align: right;\">15.4462</td><td style=\"text-align: right;\">16.1828</td><td style=\"text-align: right;\">-4.5213</td><td style=\"text-align: right;\"> 1.691 </td><td style=\"text-align: right;\"> 9.6508</td><td style=\"text-align: right;\">11.2668</td><td style=\"text-align: right;\"> 9.7268</td><td style=\"text-align: right;\">17.1554</td><td style=\"text-align: right;\">11.9081</td><td style=\"text-align: right;\">-1.9245</td><td style=\"text-align: right;\">-1.0914</td><td style=\"text-align: right;\"> 7.8784</td><td style=\"text-align: right;\">-13.4221</td><td style=\"text-align: right;\">24.3627</td><td style=\"text-align: right;\">  1.3675</td><td style=\"text-align: right;\">-3.4132</td><td style=\"text-align: right;\">13.6468</td><td style=\"text-align: right;\"> 3.1364</td><td style=\"text-align: right;\"> 0.8897</td><td style=\"text-align: right;\">14.0137</td><td style=\"text-align: right;\"> 9.9913</td><td style=\"text-align: right;\"> -5.1488</td><td style=\"text-align: right;\"> 8.3694</td><td style=\"text-align: right;\">14.71  </td><td style=\"text-align: right;\">12.0039</td><td style=\"text-align: right;\"> 5.7487</td><td style=\"text-align: right;\"> 8.7989</td><td style=\"text-align: right;\">29.046 </td><td style=\"text-align: right;\">-0.694 </td><td style=\"text-align: right;\"> 8.9255</td><td style=\"text-align: right;\"> 3.6159</td><td style=\"text-align: right;\">13.4325</td><td style=\"text-align: right;\">12.9194</td><td style=\"text-align: right;\"> 5.1187</td><td style=\"text-align: right;\"> 8.86  </td><td style=\"text-align: right;\"> 2.8279</td><td style=\"text-align: right;\"> 4.6667</td><td style=\"text-align: right;\"> 4.9306</td><td style=\"text-align: right;\">14.3831</td><td style=\"text-align: right;\"> 2.524 </td><td style=\"text-align: right;\">-6.7863</td><td style=\"text-align: right;\">11.2663</td><td style=\"text-align: right;\"> 9.5981</td><td style=\"text-align: right;\"> 8.3307</td><td style=\"text-align: right;\"> 0.6764</td><td style=\"text-align: right;\">12.0446</td><td style=\"text-align: right;\"> 16.2572</td><td style=\"text-align: right;\">18.5177</td><td style=\"text-align: right;\">16.0094</td><td style=\"text-align: right;\">  3.1345</td><td style=\"text-align: right;\">-4.7645</td><td style=\"text-align: right;\">-4.92  </td><td style=\"text-align: right;\"> -0.3085</td><td style=\"text-align: right;\">21.6374</td><td style=\"text-align: right;\"> 0.5663</td><td style=\"text-align: right;\">-1.7069</td><td style=\"text-align: right;\">12.1983</td><td style=\"text-align: right;\"> 0.1812</td><td style=\"text-align: right;\"> 1.4403</td><td style=\"text-align: right;\">10.5785</td><td style=\"text-align: right;\">-4.701 </td><td style=\"text-align: right;\">10.535 </td><td style=\"text-align: right;\"> 6.7602</td><td style=\"text-align: right;\">16.0283</td><td style=\"text-align: right;\"> 4.0288</td><td style=\"text-align: right;\">16.8911</td><td style=\"text-align: right;\"> 2.7004</td><td style=\"text-align: right;\">11.5423</td><td style=\"text-align: right;\"> 5.3822</td><td style=\"text-align: right;\"> 1.7202</td><td style=\"text-align: right;\">15.6599</td><td style=\"text-align: right;\"> 9.5319</td><td style=\"text-align: right;\">-13.1324</td><td style=\"text-align: right;\"> 7.7423</td><td style=\"text-align: right;\">11.0924</td><td style=\"text-align: right;\"> 2.9423</td><td style=\"text-align: right;\">  6.676 </td><td style=\"text-align: right;\"> 5.3133</td><td style=\"text-align: right;\">22.4321</td><td style=\"text-align: right;\"> -0.7474</td><td style=\"text-align: right;\"> 4.284 </td><td style=\"text-align: right;\">  3.0657</td><td style=\"text-align: right;\"> -9.2834</td><td style=\"text-align: right;\"> 5.4879</td><td style=\"text-align: right;\">43.1127</td><td style=\"text-align: right;\">  0.5745</td><td style=\"text-align: right;\"> 11.5767</td><td style=\"text-align: right;\"> 29.4547</td><td style=\"text-align: right;\">  2.0771</td><td style=\"text-align: right;\"> 18.6266</td><td style=\"text-align: right;\">  3.9141</td><td style=\"text-align: right;\"> -0.6975</td><td style=\"text-align: right;\"> 25.8398</td><td style=\"text-align: right;\"> -8.4051</td><td style=\"text-align: right;\">  9.0056</td><td style=\"text-align: right;\"> 11.5659</td><td style=\"text-align: right;\">  6.5674</td><td style=\"text-align: right;\"> 11.8411</td><td style=\"text-align: right;\">  4.959 </td><td style=\"text-align: right;\">  5.1726</td><td style=\"text-align: right;\">  9.4763</td><td style=\"text-align: right;\"> -0.4073</td><td style=\"text-align: right;\"> 30.7133</td><td style=\"text-align: right;\"> -5.2387</td><td style=\"text-align: right;\"> -0.4851</td><td style=\"text-align: right;\"> 13.7241</td><td style=\"text-align: right;\"> 11.192 </td><td style=\"text-align: right;\"> 14.8421</td><td style=\"text-align: right;\"> 18.5227</td><td style=\"text-align: right;\">  6.5199</td><td style=\"text-align: right;\"> 16.4597</td><td style=\"text-align: right;\"> 19.0614</td><td style=\"text-align: right;\"> 14.5691</td><td style=\"text-align: right;\">-16.4727</td><td style=\"text-align: right;\">  5.0384</td><td style=\"text-align: right;\"> 13.8571</td><td style=\"text-align: right;\">  8.9642</td><td style=\"text-align: right;\"> -3.8766</td><td style=\"text-align: right;\"> 15.4576</td><td style=\"text-align: right;\">  2.1743</td><td style=\"text-align: right;\"> 17.5743</td><td style=\"text-align: right;\">  2.9252</td><td style=\"text-align: right;\"> 10.78  </td><td style=\"text-align: right;\">  4.4354</td><td style=\"text-align: right;\">-14.2136</td><td style=\"text-align: right;\">  4.2218</td><td style=\"text-align: right;\">  0.3587</td><td style=\"text-align: right;\">  2.5516</td><td style=\"text-align: right;\">  2.4716</td><td style=\"text-align: right;\">-10.1245</td><td style=\"text-align: right;\"> 13.8372</td><td style=\"text-align: right;\"> 23.4104</td><td style=\"text-align: right;\"> 14.1104</td><td style=\"text-align: right;\"> 10.4838</td><td style=\"text-align: right;\">  5.9226</td><td style=\"text-align: right;\">-21.4494</td><td style=\"text-align: right;\"> 12.6644</td><td style=\"text-align: right;\"> 26.5376</td><td style=\"text-align: right;\"> 14.8322</td><td style=\"text-align: right;\">  5.1999</td><td style=\"text-align: right;\">  2.0323</td><td style=\"text-align: right;\">  1.5093</td><td style=\"text-align: right;\"> 12.8287</td><td style=\"text-align: right;\"> 17.6054</td><td style=\"text-align: right;\">  7.8871</td><td style=\"text-align: right;\"> 21.4669</td><td style=\"text-align: right;\">  5.1736</td><td style=\"text-align: right;\">  2.0183</td><td style=\"text-align: right;\"> -0.7338</td><td style=\"text-align: right;\">  5.0109</td><td style=\"text-align: right;\"> -8.4254</td><td style=\"text-align: right;\"> -2.3978</td><td style=\"text-align: right;\">  8.5635</td><td style=\"text-align: right;\">  1.6573</td><td style=\"text-align: right;\">  5.3253</td><td style=\"text-align: right;\">  5.747 </td><td style=\"text-align: right;\"> 18.5618</td><td style=\"text-align: right;\">  6.0454</td><td style=\"text-align: right;\">  0.7754</td><td style=\"text-align: right;\">  5.8764</td><td style=\"text-align: right;\"> -5.6011</td><td style=\"text-align: right;\">  8.6748</td><td style=\"text-align: right;\"> -7.2393</td><td style=\"text-align: right;\"> -7.017 </td><td style=\"text-align: right;\"> -2.344 </td><td style=\"text-align: right;\">  7.9984</td><td style=\"text-align: right;\"> 20.8773</td><td style=\"text-align: right;\"> 16.6964</td><td style=\"text-align: right;\">  3.1531</td><td style=\"text-align: right;\"> 14.3691</td><td style=\"text-align: right;\">  9.0164</td><td style=\"text-align: right;\"> 12.7803</td><td style=\"text-align: right;\"> 16.2191</td><td style=\"text-align: right;\">  5.093 </td><td style=\"text-align: right;\"> 10.1166</td><td style=\"text-align: right;\">  5.9965</td><td style=\"text-align: right;\">  2.5791</td><td style=\"text-align: right;\">  9.5426</td><td style=\"text-align: right;\"> 13.3102</td><td style=\"text-align: right;\"> 15.5752</td><td style=\"text-align: right;\"> 11.4607</td><td style=\"text-align: right;\">  7.3746</td><td style=\"text-align: right;\"> 11.6418</td><td style=\"text-align: right;\">  3.1821</td></tr>\n",
       "<tr><td style=\"text-align: right;\">   1</td><td style=\"text-align: right;\">18.1577</td><td style=\"text-align: right;\">8.6086</td><td style=\"text-align: right;\">6.8852</td><td style=\"text-align: right;\"> 7.0529</td><td style=\"text-align: right;\">-15.9319</td><td style=\"text-align: right;\"> 7.8755</td><td style=\"text-align: right;\">5.4007</td><td style=\"text-align: right;\">-4.4223</td><td style=\"text-align: right;\"> -7.3477</td><td style=\"text-align: right;\">12.2419</td><td style=\"text-align: right;\"> 3.6783</td><td style=\"text-align: right;\">-1.3147</td><td style=\"text-align: right;\">-0.3566</td><td style=\"text-align: right;\">-13.5901</td><td style=\"text-align: right;\"> 7.7214</td><td style=\"text-align: right;\">16.5346</td><td style=\"text-align: right;\"> 8.0109</td><td style=\"text-align: right;\">-5.485 </td><td style=\"text-align: right;\">10.9516</td><td style=\"text-align: right;\"> 5.7582</td><td style=\"text-align: right;\">19.3219</td><td style=\"text-align: right;\"> 9.5018</td><td style=\"text-align: right;\">32.0888</td><td style=\"text-align: right;\">13.8588</td><td style=\"text-align: right;\"> 0.8194</td><td style=\"text-align: right;\"> 1.9518</td><td style=\"text-align: right;\"> 8.1267</td><td style=\"text-align: right;\">-11.51  </td><td style=\"text-align: right;\">13.0858</td><td style=\"text-align: right;\">  0.3683</td><td style=\"text-align: right;\"> 0.6939</td><td style=\"text-align: right;\"> 2.5462</td><td style=\"text-align: right;\"> 2.5837</td><td style=\"text-align: right;\"> 8.2736</td><td style=\"text-align: right;\">14.0239</td><td style=\"text-align: right;\">10.9631</td><td style=\"text-align: right;\">-11.7684</td><td style=\"text-align: right;\">11.0738</td><td style=\"text-align: right;\">15.1866</td><td style=\"text-align: right;\">12.5942</td><td style=\"text-align: right;\">13.8275</td><td style=\"text-align: right;\"> 5.4345</td><td style=\"text-align: right;\">13.2256</td><td style=\"text-align: right;\">-4.1083</td><td style=\"text-align: right;\">11.5006</td><td style=\"text-align: right;\"> 3.8208</td><td style=\"text-align: right;\">13.891 </td><td style=\"text-align: right;\">11.8343</td><td style=\"text-align: right;\"> 5.6208</td><td style=\"text-align: right;\">20.1068</td><td style=\"text-align: right;\">-1.9721</td><td style=\"text-align: right;\">10.816 </td><td style=\"text-align: right;\"> 5.0464</td><td style=\"text-align: right;\"> 6.9779</td><td style=\"text-align: right;\"> 3.6159</td><td style=\"text-align: right;\">-4.1473</td><td style=\"text-align: right;\">12.2806</td><td style=\"text-align: right;\"> 3.8821</td><td style=\"text-align: right;\"> 3.6937</td><td style=\"text-align: right;\"> 2.7995</td><td style=\"text-align: right;\">11.7842</td><td style=\"text-align: right;\"> 26.6881</td><td style=\"text-align: right;\">20.6294</td><td style=\"text-align: right;\">31.5899</td><td style=\"text-align: right;\"> -8.9921</td><td style=\"text-align: right;\"> 5.5378</td><td style=\"text-align: right;\"> 3.1468</td><td style=\"text-align: right;\"> -9.2987</td><td style=\"text-align: right;\">40.5632</td><td style=\"text-align: right;\"> 0.5134</td><td style=\"text-align: right;\">12.2301</td><td style=\"text-align: right;\">13.7814</td><td style=\"text-align: right;\">-1.2722</td><td style=\"text-align: right;\"> 1.7093</td><td style=\"text-align: right;\"> 0.7399</td><td style=\"text-align: right;\"> 2.2302</td><td style=\"text-align: right;\"> 3.4287</td><td style=\"text-align: right;\"> 7.1051</td><td style=\"text-align: right;\">34.4014</td><td style=\"text-align: right;\"> 4.2578</td><td style=\"text-align: right;\">19.371 </td><td style=\"text-align: right;\"> 3.2003</td><td style=\"text-align: right;\">10.6261</td><td style=\"text-align: right;\"> 7.0118</td><td style=\"text-align: right;\">11.0752</td><td style=\"text-align: right;\">16.1622</td><td style=\"text-align: right;\"> 1.5365</td><td style=\"text-align: right;\"> -9.6953</td><td style=\"text-align: right;\">10.4968</td><td style=\"text-align: right;\"> 8.0905</td><td style=\"text-align: right;\">-4.821 </td><td style=\"text-align: right;\"> -5.0121</td><td style=\"text-align: right;\"> 5.8683</td><td style=\"text-align: right;\"> 7.9344</td><td style=\"text-align: right;\"> -8.0946</td><td style=\"text-align: right;\"> 7.8   </td><td style=\"text-align: right;\">-14.91  </td><td style=\"text-align: right;\">  7.0433</td><td style=\"text-align: right;\"> 5.7999</td><td style=\"text-align: right;\"> 7.7841</td><td style=\"text-align: right;\">  8.4135</td><td style=\"text-align: right;\">  9.8775</td><td style=\"text-align: right;\">  9.7797</td><td style=\"text-align: right;\">  1.7944</td><td style=\"text-align: right;\"> 16.5338</td><td style=\"text-align: right;\">  5.3523</td><td style=\"text-align: right;\">  9.3192</td><td style=\"text-align: right;\"> 22.5441</td><td style=\"text-align: right;\"> -5.5937</td><td style=\"text-align: right;\">  9.4317</td><td style=\"text-align: right;\">  8.9231</td><td style=\"text-align: right;\">  7.0513</td><td style=\"text-align: right;\">  7.6543</td><td style=\"text-align: right;\"> -7.2417</td><td style=\"text-align: right;\">  1.9568</td><td style=\"text-align: right;\">-13.695 </td><td style=\"text-align: right;\"> -2.5586</td><td style=\"text-align: right;\"> 28.5708</td><td style=\"text-align: right;\">-11.1147</td><td style=\"text-align: right;\">  8.5426</td><td style=\"text-align: right;\"> 16.5721</td><td style=\"text-align: right;\"> 11.3702</td><td style=\"text-align: right;\"> 11.7569</td><td style=\"text-align: right;\"> 15.4305</td><td style=\"text-align: right;\">  5.5075</td><td style=\"text-align: right;\"> 11.0993</td><td style=\"text-align: right;\"> -0.3243</td><td style=\"text-align: right;\"> 13.7003</td><td style=\"text-align: right;\"> 11.77  </td><td style=\"text-align: right;\"> 15.8348</td><td style=\"text-align: right;\"> 14.5697</td><td style=\"text-align: right;\"> 24.7876</td><td style=\"text-align: right;\">  1.2859</td><td style=\"text-align: right;\"> 29.4846</td><td style=\"text-align: right;\">  1.8944</td><td style=\"text-align: right;\"> 13.3175</td><td style=\"text-align: right;\"> -0.4032</td><td style=\"text-align: right;\"> 14.8743</td><td style=\"text-align: right;\">  7.6421</td><td style=\"text-align: right;\">  0.1948</td><td style=\"text-align: right;\">  0.1225</td><td style=\"text-align: right;\"> -0.178 </td><td style=\"text-align: right;\">  3.0454</td><td style=\"text-align: right;\">  3.3716</td><td style=\"text-align: right;\"> -7.2352</td><td style=\"text-align: right;\"> 18.1782</td><td style=\"text-align: right;\"> 23.4822</td><td style=\"text-align: right;\"> 13.955 </td><td style=\"text-align: right;\"> -0.5687</td><td style=\"text-align: right;\">  7.3718</td><td style=\"text-align: right;\">  0.4768</td><td style=\"text-align: right;\"> 15.1345</td><td style=\"text-align: right;\"> 35.4734</td><td style=\"text-align: right;\"> 18.5995</td><td style=\"text-align: right;\">  3.1701</td><td style=\"text-align: right;\">  6.6203</td><td style=\"text-align: right;\">  4.1569</td><td style=\"text-align: right;\"> 12.4205</td><td style=\"text-align: right;\"> 22.3949</td><td style=\"text-align: right;\">  5.8434</td><td style=\"text-align: right;\"> 13.7867</td><td style=\"text-align: right;\">  6.6885</td><td style=\"text-align: right;\">  1.921 </td><td style=\"text-align: right;\">  2.4354</td><td style=\"text-align: right;\">  5.022 </td><td style=\"text-align: right;\">  5.0988</td><td style=\"text-align: right;\">  2.0339</td><td style=\"text-align: right;\">  8.7889</td><td style=\"text-align: right;\">  0.1898</td><td style=\"text-align: right;\"> 25.7037</td><td style=\"text-align: right;\">  8.0851</td><td style=\"text-align: right;\"> 30.2645</td><td style=\"text-align: right;\">  2.6227</td><td style=\"text-align: right;\"> 10.1633</td><td style=\"text-align: right;\"> -4.8622</td><td style=\"text-align: right;\">  6.6803</td><td style=\"text-align: right;\">  8.1042</td><td style=\"text-align: right;\">-15.5849</td><td style=\"text-align: right;\">-47.3797</td><td style=\"text-align: right;\">  3.2709</td><td style=\"text-align: right;\">  7.9022</td><td style=\"text-align: right;\"> 22.033 </td><td style=\"text-align: right;\"> 16.7242</td><td style=\"text-align: right;\">  5.5134</td><td style=\"text-align: right;\">  9.4245</td><td style=\"text-align: right;\">  9.4878</td><td style=\"text-align: right;\"> 18.356 </td><td style=\"text-align: right;\">  2.7407</td><td style=\"text-align: right;\">  5.389 </td><td style=\"text-align: right;\">  8.8682</td><td style=\"text-align: right;\">  0.5481</td><td style=\"text-align: right;\">  8.5524</td><td style=\"text-align: right;\">  7.3412</td><td style=\"text-align: right;\">  8.4068</td><td style=\"text-align: right;\">  7.8522</td><td style=\"text-align: right;\"> 12.3622</td><td style=\"text-align: right;\">  1.873 </td><td style=\"text-align: right;\">  1.2444</td><td style=\"text-align: right;\">  8.0585</td></tr>\n",
       "<tr><td style=\"text-align: right;\">   2</td><td style=\"text-align: right;\">15.5827</td><td style=\"text-align: right;\">9.1104</td><td style=\"text-align: right;\">7.0883</td><td style=\"text-align: right;\">19.4465</td><td style=\"text-align: right;\"> -6.266 </td><td style=\"text-align: right;\">12.4858</td><td style=\"text-align: right;\">7.3667</td><td style=\"text-align: right;\">-1.2681</td><td style=\"text-align: right;\"> -9.7009</td><td style=\"text-align: right;\">14.5362</td><td style=\"text-align: right;\"> 0.9003</td><td style=\"text-align: right;\"> 5.8042</td><td style=\"text-align: right;\">-0.8417</td><td style=\"text-align: right;\"> -4.4577</td><td style=\"text-align: right;\"> 9.7905</td><td style=\"text-align: right;\">17.1092</td><td style=\"text-align: right;\">12.5963</td><td style=\"text-align: right;\"> 5.4604</td><td style=\"text-align: right;\"> 1.6858</td><td style=\"text-align: right;\"> 8.8186</td><td style=\"text-align: right;\">15.6372</td><td style=\"text-align: right;\"> 8.9573</td><td style=\"text-align: right;\"> 8.6273</td><td style=\"text-align: right;\">12.0805</td><td style=\"text-align: right;\">-0.9479</td><td style=\"text-align: right;\"> 0.3965</td><td style=\"text-align: right;\">-6.5213</td><td style=\"text-align: right;\">-17.2738</td><td style=\"text-align: right;\">20.3882</td><td style=\"text-align: right;\"> 13.3529</td><td style=\"text-align: right;\">-0.0269</td><td style=\"text-align: right;\"> 7.4729</td><td style=\"text-align: right;\"> 1.6704</td><td style=\"text-align: right;\"> 2.7768</td><td style=\"text-align: right;\">14.1929</td><td style=\"text-align: right;\">10.508 </td><td style=\"text-align: right;\"> -7.994 </td><td style=\"text-align: right;\"> 4.3649</td><td style=\"text-align: right;\">15.0284</td><td style=\"text-align: right;\">12.4653</td><td style=\"text-align: right;\"> 7.6782</td><td style=\"text-align: right;\"> 7.5244</td><td style=\"text-align: right;\">19.5856</td><td style=\"text-align: right;\"> 0.7268</td><td style=\"text-align: right;\"> 8.6093</td><td style=\"text-align: right;\"> 4.7086</td><td style=\"text-align: right;\">13.2177</td><td style=\"text-align: right;\">12.9143</td><td style=\"text-align: right;\"> 6.9427</td><td style=\"text-align: right;\">12.1719</td><td style=\"text-align: right;\"> 3.8212</td><td style=\"text-align: right;\">10.8917</td><td style=\"text-align: right;\"> 5.8463</td><td style=\"text-align: right;\"> 5.6777</td><td style=\"text-align: right;\"> 3.129 </td><td style=\"text-align: right;\">-2.7457</td><td style=\"text-align: right;\"> 7.4844</td><td style=\"text-align: right;\"> 7.3176</td><td style=\"text-align: right;\"> 7.3834</td><td style=\"text-align: right;\"> 4.6974</td><td style=\"text-align: right;\">12.0406</td><td style=\"text-align: right;\"> 17.036 </td><td style=\"text-align: right;\">14.333 </td><td style=\"text-align: right;\">21.1613</td><td style=\"text-align: right;\">-11.7218</td><td style=\"text-align: right;\">-7.0927</td><td style=\"text-align: right;\">-4.9193</td><td style=\"text-align: right;\">-11.1025</td><td style=\"text-align: right;\"> 2.3612</td><td style=\"text-align: right;\"> 0.852 </td><td style=\"text-align: right;\"> 2.1447</td><td style=\"text-align: right;\">12.8046</td><td style=\"text-align: right;\"> 0.2647</td><td style=\"text-align: right;\"> 1.3854</td><td style=\"text-align: right;\"> 4.1087</td><td style=\"text-align: right;\">-5.7828</td><td style=\"text-align: right;\">17.7559</td><td style=\"text-align: right;\"> 5.7033</td><td style=\"text-align: right;\">20.7477</td><td style=\"text-align: right;\"> 4.0714</td><td style=\"text-align: right;\">19.0422</td><td style=\"text-align: right;\"> 3.279 </td><td style=\"text-align: right;\">11.6041</td><td style=\"text-align: right;\"> 5.82  </td><td style=\"text-align: right;\"> 2.4013</td><td style=\"text-align: right;\"> 8.6674</td><td style=\"text-align: right;\">-1.1016</td><td style=\"text-align: right;\"> -1.7624</td><td style=\"text-align: right;\">10.9202</td><td style=\"text-align: right;\">14.1613</td><td style=\"text-align: right;\">10.1852</td><td style=\"text-align: right;\"> -1.041 </td><td style=\"text-align: right;\"> 5.8442</td><td style=\"text-align: right;\"> 9.8565</td><td style=\"text-align: right;\">  9.3124</td><td style=\"text-align: right;\"> 4.7011</td><td style=\"text-align: right;\">-13.2648</td><td style=\"text-align: right;\"> -9.0837</td><td style=\"text-align: right;\"> 5.769 </td><td style=\"text-align: right;\">19.7312</td><td style=\"text-align: right;\">  7.3124</td><td style=\"text-align: right;\"> 11.5283</td><td style=\"text-align: right;\"> 24.5437</td><td style=\"text-align: right;\">  0.8748</td><td style=\"text-align: right;\"> 14.6155</td><td style=\"text-align: right;\">  4.5255</td><td style=\"text-align: right;\"> -5.5952</td><td style=\"text-align: right;\"> 23.0866</td><td style=\"text-align: right;\"> -4.2935</td><td style=\"text-align: right;\">  4.4015</td><td style=\"text-align: right;\"> 11.4934</td><td style=\"text-align: right;\">  6.6231</td><td style=\"text-align: right;\">  5.3745</td><td style=\"text-align: right;\">-10.3734</td><td style=\"text-align: right;\">  3.9358</td><td style=\"text-align: right;\"> -0.3939</td><td style=\"text-align: right;\"> -2.9029</td><td style=\"text-align: right;\"> 20.4775</td><td style=\"text-align: right;\">-13.5174</td><td style=\"text-align: right;\">  2.1929</td><td style=\"text-align: right;\">  8.8438</td><td style=\"text-align: right;\"> 11.0449</td><td style=\"text-align: right;\"> 14.2621</td><td style=\"text-align: right;\"> 21.6042</td><td style=\"text-align: right;\">  6.3191</td><td style=\"text-align: right;\">  9.5413</td><td style=\"text-align: right;\"> 10.2158</td><td style=\"text-align: right;\"> 14.6472</td><td style=\"text-align: right;\">  1.7624</td><td style=\"text-align: right;\">  5.7141</td><td style=\"text-align: right;\"> 14.1978</td><td style=\"text-align: right;\"> 20.4031</td><td style=\"text-align: right;\"> -2.2871</td><td style=\"text-align: right;\"> 13.207 </td><td style=\"text-align: right;\">  1.6981</td><td style=\"text-align: right;\"> 10.1934</td><td style=\"text-align: right;\"> -0.3249</td><td style=\"text-align: right;\">  8.0088</td><td style=\"text-align: right;\">  2.9057</td><td style=\"text-align: right;\"> -5.7864</td><td style=\"text-align: right;\">  3.6932</td><td style=\"text-align: right;\">  0.0975</td><td style=\"text-align: right;\">  1.1696</td><td style=\"text-align: right;\">  3.5137</td><td style=\"text-align: right;\"> -0.3104</td><td style=\"text-align: right;\"> 15.7811</td><td style=\"text-align: right;\"> 23.2378</td><td style=\"text-align: right;\"> 14.1963</td><td style=\"text-align: right;\"> -5.1747</td><td style=\"text-align: right;\"> 11.1405</td><td style=\"text-align: right;\">-22.4038</td><td style=\"text-align: right;\"> 20.5092</td><td style=\"text-align: right;\"> 14.8863</td><td style=\"text-align: right;\">  6.2846</td><td style=\"text-align: right;\">  6.3577</td><td style=\"text-align: right;\">  3.2304</td><td style=\"text-align: right;\">  2.9044</td><td style=\"text-align: right;\"> 11.5419</td><td style=\"text-align: right;\"> 33.882 </td><td style=\"text-align: right;\">  6.9346</td><td style=\"text-align: right;\"> 19.0773</td><td style=\"text-align: right;\">  6.4059</td><td style=\"text-align: right;\">  1.1   </td><td style=\"text-align: right;\"> -2.5511</td><td style=\"text-align: right;\">  5.0228</td><td style=\"text-align: right;\"> -3.9116</td><td style=\"text-align: right;\">  3.1417</td><td style=\"text-align: right;\">  8.2675</td><td style=\"text-align: right;\">  0.5778</td><td style=\"text-align: right;\">  6.8874</td><td style=\"text-align: right;\">  5.9525</td><td style=\"text-align: right;\"> 25.682 </td><td style=\"text-align: right;\">  3.9995</td><td style=\"text-align: right;\"> -2.1746</td><td style=\"text-align: right;\"> -5.3   </td><td style=\"text-align: right;\"> -2.4438</td><td style=\"text-align: right;\">  3.7163</td><td style=\"text-align: right;\"> -1.7395</td><td style=\"text-align: right;\"> -7.9078</td><td style=\"text-align: right;\">  4.5048</td><td style=\"text-align: right;\"> 11.9052</td><td style=\"text-align: right;\">  7.2569</td><td style=\"text-align: right;\"> 14.1479</td><td style=\"text-align: right;\"> -5.8234</td><td style=\"text-align: right;\">  3.1545</td><td style=\"text-align: right;\">  9.3908</td><td style=\"text-align: right;\"> 14.7222</td><td style=\"text-align: right;\"> 18.1377</td><td style=\"text-align: right;\">  7.8928</td><td style=\"text-align: right;\">  9.1854</td><td style=\"text-align: right;\">  6.1439</td><td style=\"text-align: right;\">  1.2145</td><td style=\"text-align: right;\">  5.3683</td><td style=\"text-align: right;\"> 12.6317</td><td style=\"text-align: right;\"> 28.7632</td><td style=\"text-align: right;\"> 10.5825</td><td style=\"text-align: right;\">  2.2439</td><td style=\"text-align: right;\">  4.1006</td><td style=\"text-align: right;\">-11.2648</td></tr>\n",
       "<tr><td style=\"text-align: right;\">   3</td><td style=\"text-align: right;\">24.6065</td><td style=\"text-align: right;\">9.9718</td><td style=\"text-align: right;\">7.0364</td><td style=\"text-align: right;\">15.4235</td><td style=\"text-align: right;\">-12.8279</td><td style=\"text-align: right;\">10.4407</td><td style=\"text-align: right;\">5.6221</td><td style=\"text-align: right;\"> 2.3701</td><td style=\"text-align: right;\">-10.4701</td><td style=\"text-align: right;\">12.05  </td><td style=\"text-align: right;\"> 0.6665</td><td style=\"text-align: right;\">-4.3923</td><td style=\"text-align: right;\"> 1.8489</td><td style=\"text-align: right;\"> -2.3174</td><td style=\"text-align: right;\"> 4.7433</td><td style=\"text-align: right;\">13.9761</td><td style=\"text-align: right;\">15.782 </td><td style=\"text-align: right;\"> 1.6027</td><td style=\"text-align: right;\"> 1.4214</td><td style=\"text-align: right;\"> 8.95  </td><td style=\"text-align: right;\">14.4698</td><td style=\"text-align: right;\">11.3025</td><td style=\"text-align: right;\"> 7.0874</td><td style=\"text-align: right;\"> 8.9522</td><td style=\"text-align: right;\"> 3.5974</td><td style=\"text-align: right;\">-8.9996</td><td style=\"text-align: right;\">-2.9275</td><td style=\"text-align: right;\">  3.5732</td><td style=\"text-align: right;\">14.4135</td><td style=\"text-align: right;\">  1.6212</td><td style=\"text-align: right;\"> 1.948 </td><td style=\"text-align: right;\"> 0.7839</td><td style=\"text-align: right;\"> 0.7178</td><td style=\"text-align: right;\"> 3.9618</td><td style=\"text-align: right;\">13.8463</td><td style=\"text-align: right;\">10.7795</td><td style=\"text-align: right;\">  0.8135</td><td style=\"text-align: right;\"> 2.9253</td><td style=\"text-align: right;\"> 9.3291</td><td style=\"text-align: right;\">12.3441</td><td style=\"text-align: right;\">10.743 </td><td style=\"text-align: right;\"> 6.4569</td><td style=\"text-align: right;\"> 9.5503</td><td style=\"text-align: right;\"> 1.7895</td><td style=\"text-align: right;\">11.0604</td><td style=\"text-align: right;\"> 7.2084</td><td style=\"text-align: right;\">13.7367</td><td style=\"text-align: right;\">12.6832</td><td style=\"text-align: right;\"> 5.8428</td><td style=\"text-align: right;\">24.4187</td><td style=\"text-align: right;\">-2.8233</td><td style=\"text-align: right;\"> 9.1738</td><td style=\"text-align: right;\"> 5.907 </td><td style=\"text-align: right;\">12.1354</td><td style=\"text-align: right;\"> 2.5762</td><td style=\"text-align: right;\">-2.1518</td><td style=\"text-align: right;\"> 7.8388</td><td style=\"text-align: right;\"> 0.5641</td><td style=\"text-align: right;\"> 3.8873</td><td style=\"text-align: right;\"> 8.1723</td><td style=\"text-align: right;\">11.2834</td><td style=\"text-align: right;\"> 18.1486</td><td style=\"text-align: right;\">18.0984</td><td style=\"text-align: right;\">30.5644</td><td style=\"text-align: right;\">  1.9586</td><td style=\"text-align: right;\">-7.1541</td><td style=\"text-align: right;\">-5.8609</td><td style=\"text-align: right;\">-15.2398</td><td style=\"text-align: right;\"> 4.0462</td><td style=\"text-align: right;\"> 0.25  </td><td style=\"text-align: right;\"> 7.5509</td><td style=\"text-align: right;\">15.2733</td><td style=\"text-align: right;\">-1.093 </td><td style=\"text-align: right;\"> 1.3512</td><td style=\"text-align: right;\">-5.9158</td><td style=\"text-align: right;\">-3.9989</td><td style=\"text-align: right;\">20.301 </td><td style=\"text-align: right;\"> 6.975 </td><td style=\"text-align: right;\"> 0.7613</td><td style=\"text-align: right;\"> 3.7613</td><td style=\"text-align: right;\"> 6.1796</td><td style=\"text-align: right;\"> 2.5881</td><td style=\"text-align: right;\">12.3892</td><td style=\"text-align: right;\"> 6.585 </td><td style=\"text-align: right;\"> 5.6961</td><td style=\"text-align: right;\"> 8.9821</td><td style=\"text-align: right;\"> 6.3072</td><td style=\"text-align: right;\"> -1.2155</td><td style=\"text-align: right;\"> 8.1013</td><td style=\"text-align: right;\">14.4027</td><td style=\"text-align: right;\">-5.2896</td><td style=\"text-align: right;\">-11.0882</td><td style=\"text-align: right;\"> 5.9684</td><td style=\"text-align: right;\">23.6143</td><td style=\"text-align: right;\">  8.0913</td><td style=\"text-align: right;\">15.9426</td><td style=\"text-align: right;\">  1.8986</td><td style=\"text-align: right;\"> -1.8361</td><td style=\"text-align: right;\"> 5.343 </td><td style=\"text-align: right;\"> 4.529 </td><td style=\"text-align: right;\"> 11.9704</td><td style=\"text-align: right;\"> 11.777 </td><td style=\"text-align: right;\"> 27.5609</td><td style=\"text-align: right;\">  3.4418</td><td style=\"text-align: right;\"> 14.925 </td><td style=\"text-align: right;\">  1.648 </td><td style=\"text-align: right;\"> -2.7018</td><td style=\"text-align: right;\"> -0.4639</td><td style=\"text-align: right;\"> -3.7546</td><td style=\"text-align: right;\">  7.6508</td><td style=\"text-align: right;\"> 10.4994</td><td style=\"text-align: right;\">  7.1954</td><td style=\"text-align: right;\">  7.9336</td><td style=\"text-align: right;\">-25.0222</td><td style=\"text-align: right;\"> -1.1984</td><td style=\"text-align: right;\">-19.8592</td><td style=\"text-align: right;\"> -0.9059</td><td style=\"text-align: right;\"> 13.7257</td><td style=\"text-align: right;\"> -3.8294</td><td style=\"text-align: right;\"> 11.6896</td><td style=\"text-align: right;\"> 13.9552</td><td style=\"text-align: right;\"> 10.6093</td><td style=\"text-align: right;\">  7.2887</td><td style=\"text-align: right;\"> 23.0347</td><td style=\"text-align: right;\">  4.0806</td><td style=\"text-align: right;\"> 15.6298</td><td style=\"text-align: right;\"> 10.0142</td><td style=\"text-align: right;\"> 14.8372</td><td style=\"text-align: right;\">  4.1622</td><td style=\"text-align: right;\">  3.8899</td><td style=\"text-align: right;\"> 12.5431</td><td style=\"text-align: right;\"> 11.3596</td><td style=\"text-align: right;\"> -2.5731</td><td style=\"text-align: right;\"> 31.8833</td><td style=\"text-align: right;\">  2.8344</td><td style=\"text-align: right;\"> 12.4124</td><td style=\"text-align: right;\">  2.3061</td><td style=\"text-align: right;\"> 17.1765</td><td style=\"text-align: right;\">  4.4666</td><td style=\"text-align: right;\">-35.1659</td><td style=\"text-align: right;\">  2.7038</td><td style=\"text-align: right;\">  1.0486</td><td style=\"text-align: right;\">  5.3446</td><td style=\"text-align: right;\">  2.7229</td><td style=\"text-align: right;\"> 11.8771</td><td style=\"text-align: right;\"> 10.5404</td><td style=\"text-align: right;\"> 23.6273</td><td style=\"text-align: right;\"> 14.3256</td><td style=\"text-align: right;\"> 17.0336</td><td style=\"text-align: right;\"> 12.7404</td><td style=\"text-align: right;\"> -7.5866</td><td style=\"text-align: right;\"> 17.2502</td><td style=\"text-align: right;\"> 18.6129</td><td style=\"text-align: right;\"> 12.3972</td><td style=\"text-align: right;\">  1.2516</td><td style=\"text-align: right;\">  4.2827</td><td style=\"text-align: right;\"> -2.5459</td><td style=\"text-align: right;\"> 14.3003</td><td style=\"text-align: right;\"> 19.975 </td><td style=\"text-align: right;\">  2.8521</td><td style=\"text-align: right;\"> 17.9762</td><td style=\"text-align: right;\">  5.2091</td><td style=\"text-align: right;\">  3.3164</td><td style=\"text-align: right;\"> -1.3683</td><td style=\"text-align: right;\">  5.022 </td><td style=\"text-align: right;\"> -6.192 </td><td style=\"text-align: right;\"> -1.2706</td><td style=\"text-align: right;\"> 10.2922</td><td style=\"text-align: right;\">-10.937 </td><td style=\"text-align: right;\">  8.3838</td><td style=\"text-align: right;\">  8.245 </td><td style=\"text-align: right;\"> 14.7483</td><td style=\"text-align: right;\">  4.2835</td><td style=\"text-align: right;\"> -8.2464</td><td style=\"text-align: right;\"> -0.0498</td><td style=\"text-align: right;\"> 15.9638</td><td style=\"text-align: right;\">  8.6464</td><td style=\"text-align: right;\"> -0.4299</td><td style=\"text-align: right;\">-24.684 </td><td style=\"text-align: right;\"> 11.6875</td><td style=\"text-align: right;\">  4.5474</td><td style=\"text-align: right;\"> 18.2366</td><td style=\"text-align: right;\"> 18.2452</td><td style=\"text-align: right;\"> 11.7134</td><td style=\"text-align: right;\">  7.2601</td><td style=\"text-align: right;\">  8.4117</td><td style=\"text-align: right;\"> 17.9697</td><td style=\"text-align: right;\"> 12.5579</td><td style=\"text-align: right;\">  7.1957</td><td style=\"text-align: right;\">  9.4638</td><td style=\"text-align: right;\">  2.8407</td><td style=\"text-align: right;\">  6.8202</td><td style=\"text-align: right;\"> 10.3907</td><td style=\"text-align: right;\"> 22.5316</td><td style=\"text-align: right;\"> 38.1015</td><td style=\"text-align: right;\"> 12.5846</td><td style=\"text-align: right;\"> -1.037 </td><td style=\"text-align: right;\">  8.0485</td><td style=\"text-align: right;\">  2.8102</td></tr>\n",
       "<tr><td style=\"text-align: right;\">   4</td><td style=\"text-align: right;\">25.8128</td><td style=\"text-align: right;\">7.6874</td><td style=\"text-align: right;\">7.0065</td><td style=\"text-align: right;\">23.3521</td><td style=\"text-align: right;\">  5.927 </td><td style=\"text-align: right;\"> 9.4668</td><td style=\"text-align: right;\">6.986 </td><td style=\"text-align: right;\"> 9.911 </td><td style=\"text-align: right;\">  1.7189</td><td style=\"text-align: right;\">13.0021</td><td style=\"text-align: right;\"> 1.445 </td><td style=\"text-align: right;\">-1.7839</td><td style=\"text-align: right;\">-0.2829</td><td style=\"text-align: right;\">  7.0799</td><td style=\"text-align: right;\"> 9.5214</td><td style=\"text-align: right;\">10.9346</td><td style=\"text-align: right;\"> 8.6591</td><td style=\"text-align: right;\"> 7.8984</td><td style=\"text-align: right;\"> 9.1942</td><td style=\"text-align: right;\"> 7.7532</td><td style=\"text-align: right;\">16.984 </td><td style=\"text-align: right;\">12.714 </td><td style=\"text-align: right;\">10.6617</td><td style=\"text-align: right;\">12.8746</td><td style=\"text-align: right;\"> 5.6518</td><td style=\"text-align: right;\">-8.8104</td><td style=\"text-align: right;\"> 3.9267</td><td style=\"text-align: right;\"> 13.8224</td><td style=\"text-align: right;\">28.2749</td><td style=\"text-align: right;\"> -9.2587</td><td style=\"text-align: right;\"> 0.6715</td><td style=\"text-align: right;\"> 2.9598</td><td style=\"text-align: right;\">-0.1508</td><td style=\"text-align: right;\"> 5.2964</td><td style=\"text-align: right;\">13.8481</td><td style=\"text-align: right;\">10.4316</td><td style=\"text-align: right;\">  3.1736</td><td style=\"text-align: right;\"> 9.157 </td><td style=\"text-align: right;\"> 7.1179</td><td style=\"text-align: right;\">12.1316</td><td style=\"text-align: right;\"> 8.4871</td><td style=\"text-align: right;\"> 7.7894</td><td style=\"text-align: right;\">10.4857</td><td style=\"text-align: right;\">-1.4367</td><td style=\"text-align: right;\"> 9.8369</td><td style=\"text-align: right;\"> 5.4663</td><td style=\"text-align: right;\">13.5433</td><td style=\"text-align: right;\">13.3273</td><td style=\"text-align: right;\"> 5.9405</td><td style=\"text-align: right;\"> 4.5886</td><td style=\"text-align: right;\"> 2.6791</td><td style=\"text-align: right;\">19.3038</td><td style=\"text-align: right;\"> 5.9015</td><td style=\"text-align: right;\">14.208 </td><td style=\"text-align: right;\"> 2.9138</td><td style=\"text-align: right;\">-1.4834</td><td style=\"text-align: right;\">16.108 </td><td style=\"text-align: right;\"> 3.1283</td><td style=\"text-align: right;\"> 6.6289</td><td style=\"text-align: right;\"> 2.7922</td><td style=\"text-align: right;\">11.5111</td><td style=\"text-align: right;\"> 35.2988</td><td style=\"text-align: right;\">20.1461</td><td style=\"text-align: right;\">41.1037</td><td style=\"text-align: right;\">  6.473 </td><td style=\"text-align: right;\"> 1.4493</td><td style=\"text-align: right;\"> 6.2654</td><td style=\"text-align: right;\"> -3.1582</td><td style=\"text-align: right;\">40.1236</td><td style=\"text-align: right;\"> 0.7737</td><td style=\"text-align: right;\"> 3.7954</td><td style=\"text-align: right;\">14.3937</td><td style=\"text-align: right;\"> 0.0213</td><td style=\"text-align: right;\"> 1.694 </td><td style=\"text-align: right;\"> 0.6329</td><td style=\"text-align: right;\">-3.2431</td><td style=\"text-align: right;\">21.4246</td><td style=\"text-align: right;\"> 5.9654</td><td style=\"text-align: right;\">-0.1346</td><td style=\"text-align: right;\"> 3.7574</td><td style=\"text-align: right;\">19.3239</td><td style=\"text-align: right;\"> 3.2304</td><td style=\"text-align: right;\"> 8.0913</td><td style=\"text-align: right;\"> 6.1812</td><td style=\"text-align: right;\"> 5.1743</td><td style=\"text-align: right;\">13.9547</td><td style=\"text-align: right;\">-4.3205</td><td style=\"text-align: right;\">-12.6068</td><td style=\"text-align: right;\">16.3309</td><td style=\"text-align: right;\"> 9.3627</td><td style=\"text-align: right;\">-6.7075</td><td style=\"text-align: right;\">  6.5769</td><td style=\"text-align: right;\"> 5.6953</td><td style=\"text-align: right;\"> 1.6184</td><td style=\"text-align: right;\"> -8.5414</td><td style=\"text-align: right;\"> 6.5263</td><td style=\"text-align: right;\">  4.891 </td><td style=\"text-align: right;\">  2.4486</td><td style=\"text-align: right;\"> 5.5518</td><td style=\"text-align: right;\">-4.5346</td><td style=\"text-align: right;\">  7.8895</td><td style=\"text-align: right;\"> 11.9171</td><td style=\"text-align: right;\"> 17.1728</td><td style=\"text-align: right;\"> -0.4952</td><td style=\"text-align: right;\"> 19.2514</td><td style=\"text-align: right;\">  1.0719</td><td style=\"text-align: right;\"> -1.7759</td><td style=\"text-align: right;\"> 11.8503</td><td style=\"text-align: right;\"> -7.6938</td><td style=\"text-align: right;\">  5.8493</td><td style=\"text-align: right;\"> 11.567 </td><td style=\"text-align: right;\">  6.6173</td><td style=\"text-align: right;\">  6.4209</td><td style=\"text-align: right;\">-27.7439</td><td style=\"text-align: right;\"> -6.8304</td><td style=\"text-align: right;\">-22.9264</td><td style=\"text-align: right;\"> -3.3423</td><td style=\"text-align: right;\"> 11.3152</td><td style=\"text-align: right;\"> -5.5963</td><td style=\"text-align: right;\">  7.9923</td><td style=\"text-align: right;\"> 13.5261</td><td style=\"text-align: right;\"> 12.4057</td><td style=\"text-align: right;\"> 14.0553</td><td style=\"text-align: right;\"> 13.2876</td><td style=\"text-align: right;\">  7.1734</td><td style=\"text-align: right;\"> 20.167 </td><td style=\"text-align: right;\"> 11.7159</td><td style=\"text-align: right;\"> 15.0553</td><td style=\"text-align: right;\">-12.7047</td><td style=\"text-align: right;\"> 18.2201</td><td style=\"text-align: right;\"> 12.5815</td><td style=\"text-align: right;\"> 14.7246</td><td style=\"text-align: right;\"> -0.0083</td><td style=\"text-align: right;\"> 33.5107</td><td style=\"text-align: right;\">  1.6844</td><td style=\"text-align: right;\"> 16.0201</td><td style=\"text-align: right;\"> -9.4458</td><td style=\"text-align: right;\">  1.2995</td><td style=\"text-align: right;\"> -1.4905</td><td style=\"text-align: right;\">  0.0444</td><td style=\"text-align: right;\">  3.937 </td><td style=\"text-align: right;\">  0.9442</td><td style=\"text-align: right;\">  1.4684</td><td style=\"text-align: right;\">  2.7142</td><td style=\"text-align: right;\"> -3.3456</td><td style=\"text-align: right;\"> 13.3317</td><td style=\"text-align: right;\"> 19.16  </td><td style=\"text-align: right;\"> 14.0837</td><td style=\"text-align: right;\">  4.7022</td><td style=\"text-align: right;\"> 13.8657</td><td style=\"text-align: right;\">-39.7997</td><td style=\"text-align: right;\"> 21.2607</td><td style=\"text-align: right;\"> 17.341 </td><td style=\"text-align: right;\"> 14.1482</td><td style=\"text-align: right;\"> -0.7264</td><td style=\"text-align: right;\"> -0.1937</td><td style=\"text-align: right;\"> -3.6135</td><td style=\"text-align: right;\"> 11.4266</td><td style=\"text-align: right;\"> 27.0846</td><td style=\"text-align: right;\">  5.8184</td><td style=\"text-align: right;\"> 14.5265</td><td style=\"text-align: right;\">  5.7555</td><td style=\"text-align: right;\">  1.9548</td><td style=\"text-align: right;\">  7.0642</td><td style=\"text-align: right;\">  5.0301</td><td style=\"text-align: right;\"> -2.6627</td><td style=\"text-align: right;\"> -1.5121</td><td style=\"text-align: right;\">  9.5031</td><td style=\"text-align: right;\"> 10.6101</td><td style=\"text-align: right;\"> 14.4268</td><td style=\"text-align: right;\">  7.6784</td><td style=\"text-align: right;\"> 18.4685</td><td style=\"text-align: right;\">  5.1934</td><td style=\"text-align: right;\">  9.7289</td><td style=\"text-align: right;\"> -7.8931</td><td style=\"text-align: right;\"> -4.3965</td><td style=\"text-align: right;\">  5.267 </td><td style=\"text-align: right;\"> -3.068 </td><td style=\"text-align: right;\">-65.4863</td><td style=\"text-align: right;\">  1.0273</td><td style=\"text-align: right;\">  8.0053</td><td style=\"text-align: right;\"> 19.8056</td><td style=\"text-align: right;\"> 19.8234</td><td style=\"text-align: right;\">  2.3705</td><td style=\"text-align: right;\"> 12.2198</td><td style=\"text-align: right;\">  9.7685</td><td style=\"text-align: right;\"> 17.9974</td><td style=\"text-align: right;\"> 18.9608</td><td style=\"text-align: right;\">  6.6375</td><td style=\"text-align: right;\">  9.2048</td><td style=\"text-align: right;\">  7.9352</td><td style=\"text-align: right;\"> 10.1102</td><td style=\"text-align: right;\">  8.823 </td><td style=\"text-align: right;\"> 12.3562</td><td style=\"text-align: right;\"> 25.6795</td><td style=\"text-align: right;\"> 12.2772</td><td style=\"text-align: right;\"> 14.0685</td><td style=\"text-align: right;\">  6.9087</td><td style=\"text-align: right;\">-12.1419</td></tr>\n",
       "<tr><td style=\"text-align: right;\">   5</td><td style=\"text-align: right;\">11.9963</td><td style=\"text-align: right;\">9.6607</td><td style=\"text-align: right;\">6.9204</td><td style=\"text-align: right;\">14.4814</td><td style=\"text-align: right;\"> -8.9114</td><td style=\"text-align: right;\"> 4.901 </td><td style=\"text-align: right;\">4.9098</td><td style=\"text-align: right;\"> 1.4462</td><td style=\"text-align: right;\"> -7.6283</td><td style=\"text-align: right;\">12.4068</td><td style=\"text-align: right;\"> 2.2308</td><td style=\"text-align: right;\"> 6.0702</td><td style=\"text-align: right;\"> 2.4286</td><td style=\"text-align: right;\">  2.6433</td><td style=\"text-align: right;\"> 6.6025</td><td style=\"text-align: right;\">15.0534</td><td style=\"text-align: right;\">11.1254</td><td style=\"text-align: right;\">-8.3058</td><td style=\"text-align: right;\"> 0.4403</td><td style=\"text-align: right;\"> 7.0965</td><td style=\"text-align: right;\">11.8258</td><td style=\"text-align: right;\"> 9.0465</td><td style=\"text-align: right;\">16.4164</td><td style=\"text-align: right;\">12.608 </td><td style=\"text-align: right;\">-5.8702</td><td style=\"text-align: right;\">-4.7602</td><td style=\"text-align: right;\">-3.6241</td><td style=\"text-align: right;\">  8.6835</td><td style=\"text-align: right;\">23.9731</td><td style=\"text-align: right;\">  1.8135</td><td style=\"text-align: right;\"> 0.0886</td><td style=\"text-align: right;\">-5.4905</td><td style=\"text-align: right;\"> 5.2912</td><td style=\"text-align: right;\">-1.5511</td><td style=\"text-align: right;\">13.638 </td><td style=\"text-align: right;\">10.5375</td><td style=\"text-align: right;\"> -1.2796</td><td style=\"text-align: right;\"> 2.6134</td><td style=\"text-align: right;\">15.409 </td><td style=\"text-align: right;\">12.3697</td><td style=\"text-align: right;\">12.0763</td><td style=\"text-align: right;\"> 8.1939</td><td style=\"text-align: right;\"> 5.5513</td><td style=\"text-align: right;\">-7.7762</td><td style=\"text-align: right;\">11.4763</td><td style=\"text-align: right;\"> 6.4487</td><td style=\"text-align: right;\">13.9427</td><td style=\"text-align: right;\">13.2355</td><td style=\"text-align: right;\"> 4.5322</td><td style=\"text-align: right;\"> 9.9031</td><td style=\"text-align: right;\">-5.9018</td><td style=\"text-align: right;\"> 5.5317</td><td style=\"text-align: right;\"> 5.1494</td><td style=\"text-align: right;\"> 4.7252</td><td style=\"text-align: right;\"> 3.6737</td><td style=\"text-align: right;\">-2.3182</td><td style=\"text-align: right;\">14.1586</td><td style=\"text-align: right;\"> 3.8278</td><td style=\"text-align: right;\"> 4.4419</td><td style=\"text-align: right;\"> 1.8685</td><td style=\"text-align: right;\">11.6891</td><td style=\"text-align: right;\"> 17.91  </td><td style=\"text-align: right;\">19.5171</td><td style=\"text-align: right;\">11.2701</td><td style=\"text-align: right;\"> -0.9844</td><td style=\"text-align: right;\">-6.1449</td><td style=\"text-align: right;\"> 3.5855</td><td style=\"text-align: right;\"> -5.0732</td><td style=\"text-align: right;\">35.2664</td><td style=\"text-align: right;\"> 0.678 </td><td style=\"text-align: right;\">-3.5982</td><td style=\"text-align: right;\">16.0082</td><td style=\"text-align: right;\"> 1.1735</td><td style=\"text-align: right;\"> 1.6012</td><td style=\"text-align: right;\">15.1886</td><td style=\"text-align: right;\">-5.6684</td><td style=\"text-align: right;\">19.7172</td><td style=\"text-align: right;\"> 7.1879</td><td style=\"text-align: right;\">29.9912</td><td style=\"text-align: right;\"> 3.9799</td><td style=\"text-align: right;\">15.6423</td><td style=\"text-align: right;\"> 2.8455</td><td style=\"text-align: right;\"> 4.9455</td><td style=\"text-align: right;\"> 5.9587</td><td style=\"text-align: right;\"> 1.0208</td><td style=\"text-align: right;\">13.3065</td><td style=\"text-align: right;\"> 5.4693</td><td style=\"text-align: right;\">-16.8151</td><td style=\"text-align: right;\"> 9.2654</td><td style=\"text-align: right;\"> 8.8093</td><td style=\"text-align: right;\">-1.9153</td><td style=\"text-align: right;\">  1.3847</td><td style=\"text-align: right;\"> 5.3739</td><td style=\"text-align: right;\">14.116 </td><td style=\"text-align: right;\">  7.0189</td><td style=\"text-align: right;\"> 6.7341</td><td style=\"text-align: right;\">  2.2257</td><td style=\"text-align: right;\">  3.5609</td><td style=\"text-align: right;\"> 5.9714</td><td style=\"text-align: right;\">10.5392</td><td style=\"text-align: right;\">  1.2589</td><td style=\"text-align: right;\"> 11.5015</td><td style=\"text-align: right;\"> 26.1603</td><td style=\"text-align: right;\"> -1.6063</td><td style=\"text-align: right;\"> 15.2255</td><td style=\"text-align: right;\">  3.9414</td><td style=\"text-align: right;\"> -9.0953</td><td style=\"text-align: right;\"> 21.055 </td><td style=\"text-align: right;\">  7.1968</td><td style=\"text-align: right;\">  5.7223</td><td style=\"text-align: right;\"> 12.965 </td><td style=\"text-align: right;\">  6.6143</td><td style=\"text-align: right;\">  4.7691</td><td style=\"text-align: right;\"> -0.7472</td><td style=\"text-align: right;\"> -8.8256</td><td style=\"text-align: right;\"> -8.3794</td><td style=\"text-align: right;\"> -4.3763</td><td style=\"text-align: right;\"> 14.8241</td><td style=\"text-align: right;\">  2.6553</td><td style=\"text-align: right;\">  9.9727</td><td style=\"text-align: right;\"> 10.7687</td><td style=\"text-align: right;\"> 10.7209</td><td style=\"text-align: right;\"> 10.2029</td><td style=\"text-align: right;\"> 14.9452</td><td style=\"text-align: right;\">  3.3793</td><td style=\"text-align: right;\"> 19.9457</td><td style=\"text-align: right;\"> 18.7239</td><td style=\"text-align: right;\"> 14.9894</td><td style=\"text-align: right;\">  4.728 </td><td style=\"text-align: right;\"> 11.5631</td><td style=\"text-align: right;\"> 13.0031</td><td style=\"text-align: right;\"> 14.0648</td><td style=\"text-align: right;\">  1.5459</td><td style=\"text-align: right;\"> 16.5552</td><td style=\"text-align: right;\">  0.9217</td><td style=\"text-align: right;\"> 15.1007</td><td style=\"text-align: right;\">  0.801 </td><td style=\"text-align: right;\">  7.5903</td><td style=\"text-align: right;\"> -6.3068</td><td style=\"text-align: right;\">-24.6935</td><td style=\"text-align: right;\">  4.3756</td><td style=\"text-align: right;\">  0.5762</td><td style=\"text-align: right;\">  2.2988</td><td style=\"text-align: right;\">  3.8663</td><td style=\"text-align: right;\"> -6.5247</td><td style=\"text-align: right;\"> 15.3766</td><td style=\"text-align: right;\"> 17.4977</td><td style=\"text-align: right;\"> 14.1434</td><td style=\"text-align: right;\"> 15.4401</td><td style=\"text-align: right;\"> 10.647 </td><td style=\"text-align: right;\"> -1.1717</td><td style=\"text-align: right;\"> 14.9638</td><td style=\"text-align: right;\"> 12.278 </td><td style=\"text-align: right;\"> 15.2849</td><td style=\"text-align: right;\">  8.1653</td><td style=\"text-align: right;\">  7.004 </td><td style=\"text-align: right;\">  0.897 </td><td style=\"text-align: right;\"> 12.7212</td><td style=\"text-align: right;\"> 24.2054</td><td style=\"text-align: right;\">  7.7223</td><td style=\"text-align: right;\"> 20.169 </td><td style=\"text-align: right;\">  5.2399</td><td style=\"text-align: right;\">  4.7676</td><td style=\"text-align: right;\">  5.0993</td><td style=\"text-align: right;\">  5.011 </td><td style=\"text-align: right;\"> -2.0285</td><td style=\"text-align: right;\">  1.0314</td><td style=\"text-align: right;\">  9.767 </td><td style=\"text-align: right;\"> -2.0738</td><td style=\"text-align: right;\"> 13.5894</td><td style=\"text-align: right;\">  5.979 </td><td style=\"text-align: right;\"> 21.8853</td><td style=\"text-align: right;\">  4.2972</td><td style=\"text-align: right;\">  9.9305</td><td style=\"text-align: right;\">-13.6509</td><td style=\"text-align: right;\"> -0.0496</td><td style=\"text-align: right;\">  6.0604</td><td style=\"text-align: right;\"> -1.471 </td><td style=\"text-align: right;\">-44.7257</td><td style=\"text-align: right;\"> 12.7784</td><td style=\"text-align: right;\">  9.4972</td><td style=\"text-align: right;\"> 18.4106</td><td style=\"text-align: right;\"> 15.2331</td><td style=\"text-align: right;\">  1.4457</td><td style=\"text-align: right;\">  6.4056</td><td style=\"text-align: right;\"> 11.1227</td><td style=\"text-align: right;\"> 12.5809</td><td style=\"text-align: right;\"> 11.9882</td><td style=\"text-align: right;\">  8.6264</td><td style=\"text-align: right;\">  8.2253</td><td style=\"text-align: right;\">  0.4124</td><td style=\"text-align: right;\">  1.0468</td><td style=\"text-align: right;\"> 10.5131</td><td style=\"text-align: right;\"> 19.8236</td><td style=\"text-align: right;\">-18.1194</td><td style=\"text-align: right;\"> 10.9621</td><td style=\"text-align: right;\"> 13.973 </td><td style=\"text-align: right;\"> 14.1062</td><td style=\"text-align: right;\"> -0.6192</td></tr>\n",
       "<tr><td style=\"text-align: right;\">   6</td><td style=\"text-align: right;\">28.9405</td><td style=\"text-align: right;\">9.745 </td><td style=\"text-align: right;\">6.8082</td><td style=\"text-align: right;\">10.2128</td><td style=\"text-align: right;\"> -5.9076</td><td style=\"text-align: right;\">14.5609</td><td style=\"text-align: right;\">5.2078</td><td style=\"text-align: right;\">26.7837</td><td style=\"text-align: right;\"> -0.6535</td><td style=\"text-align: right;\">11.2587</td><td style=\"text-align: right;\"> 1.2659</td><td style=\"text-align: right;\"> 4.2888</td><td style=\"text-align: right;\"> 1.9731</td><td style=\"text-align: right;\">  6.986 </td><td style=\"text-align: right;\"> 6.5491</td><td style=\"text-align: right;\">13.4471</td><td style=\"text-align: right;\">13.5775</td><td style=\"text-align: right;\">-0.3443</td><td style=\"text-align: right;\"> 5.8061</td><td style=\"text-align: right;\"> 9.8819</td><td style=\"text-align: right;\">18.6279</td><td style=\"text-align: right;\">12.7068</td><td style=\"text-align: right;\">16.4147</td><td style=\"text-align: right;\">13.8776</td><td style=\"text-align: right;\"> 1.7439</td><td style=\"text-align: right;\"> 3.4806</td><td style=\"text-align: right;\"> 4.2178</td><td style=\"text-align: right;\">  0.2901</td><td style=\"text-align: right;\">15.1642</td><td style=\"text-align: right;\">-10.5909</td><td style=\"text-align: right;\"> 2.2442</td><td style=\"text-align: right;\">-3.813 </td><td style=\"text-align: right;\"> 3.9906</td><td style=\"text-align: right;\"> 1.6484</td><td style=\"text-align: right;\">14.2919</td><td style=\"text-align: right;\">11.2303</td><td style=\"text-align: right;\">  3.3883</td><td style=\"text-align: right;\">12.1132</td><td style=\"text-align: right;\">14.1148</td><td style=\"text-align: right;\">11.9988</td><td style=\"text-align: right;\"> 9.5376</td><td style=\"text-align: right;\"> 6.919 </td><td style=\"text-align: right;\">11.0741</td><td style=\"text-align: right;\">-8.4732</td><td style=\"text-align: right;\">13.558 </td><td style=\"text-align: right;\"> 5.1402</td><td style=\"text-align: right;\">13.325 </td><td style=\"text-align: right;\">13.7538</td><td style=\"text-align: right;\"> 5.689 </td><td style=\"text-align: right;\">16.4133</td><td style=\"text-align: right;\">-0.0447</td><td style=\"text-align: right;\"> 9.0294</td><td style=\"text-align: right;\"> 5.4501</td><td style=\"text-align: right;\"> 9.1258</td><td style=\"text-align: right;\"> 2.8527</td><td style=\"text-align: right;\">-7.9881</td><td style=\"text-align: right;\">16.1918</td><td style=\"text-align: right;\"> 8.7362</td><td style=\"text-align: right;\"> 1.0003</td><td style=\"text-align: right;\"> 2.8303</td><td style=\"text-align: right;\">11.2407</td><td style=\"text-align: right;\"> 27.5106</td><td style=\"text-align: right;\">14.055 </td><td style=\"text-align: right;\">31.9043</td><td style=\"text-align: right;\"> -1.9968</td><td style=\"text-align: right;\"> 8.9519</td><td style=\"text-align: right;\"> 5.0647</td><td style=\"text-align: right;\"> -0.9976</td><td style=\"text-align: right;\">27.0016</td><td style=\"text-align: right;\"> 1.0085</td><td style=\"text-align: right;\"> 6.7745</td><td style=\"text-align: right;\">14.5571</td><td style=\"text-align: right;\">-0.6602</td><td style=\"text-align: right;\"> 1.4998</td><td style=\"text-align: right;\">-0.499 </td><td style=\"text-align: right;\">-7.411 </td><td style=\"text-align: right;\">13.7326</td><td style=\"text-align: right;\"> 7.1014</td><td style=\"text-align: right;\">13.1139</td><td style=\"text-align: right;\"> 4.1435</td><td style=\"text-align: right;\">16.9717</td><td style=\"text-align: right;\"> 2.6085</td><td style=\"text-align: right;\">19.2246</td><td style=\"text-align: right;\"> 6.5482</td><td style=\"text-align: right;\"> 0.0592</td><td style=\"text-align: right;\">17.2586</td><td style=\"text-align: right;\">-8.4758</td><td style=\"text-align: right;\"> -0.0072</td><td style=\"text-align: right;\">13.2008</td><td style=\"text-align: right;\"> 9.1942</td><td style=\"text-align: right;\"> 6.7943</td><td style=\"text-align: right;\"> -8.2583</td><td style=\"text-align: right;\"> 5.4098</td><td style=\"text-align: right;\"> 8.772 </td><td style=\"text-align: right;\">-14.4815</td><td style=\"text-align: right;\"> 5.1548</td><td style=\"text-align: right;\">  6.9736</td><td style=\"text-align: right;\">  0.831 </td><td style=\"text-align: right;\"> 5.2273</td><td style=\"text-align: right;\">20     </td><td style=\"text-align: right;\"> 10.9699</td><td style=\"text-align: right;\"> 11.2721</td><td style=\"text-align: right;\"> 21.5241</td><td style=\"text-align: right;\">  0.1582</td><td style=\"text-align: right;\"> 22.3262</td><td style=\"text-align: right;\">  3.3046</td><td style=\"text-align: right;\">-10.9163</td><td style=\"text-align: right;\"> 24.0369</td><td style=\"text-align: right;\">  5.114 </td><td style=\"text-align: right;\">  7.2698</td><td style=\"text-align: right;\">  9.1689</td><td style=\"text-align: right;\">  7.0754</td><td style=\"text-align: right;\">  8.4947</td><td style=\"text-align: right;\"> -3.7978</td><td style=\"text-align: right;\"> -1.8253</td><td style=\"text-align: right;\"> -0.6013</td><td style=\"text-align: right;\"> -0.4418</td><td style=\"text-align: right;\"> 17.1535</td><td style=\"text-align: right;\">-12.0219</td><td style=\"text-align: right;\">  5.7495</td><td style=\"text-align: right;\"> 17.3041</td><td style=\"text-align: right;\"> 11.5257</td><td style=\"text-align: right;\"> 11.8245</td><td style=\"text-align: right;\"> 23.1407</td><td style=\"text-align: right;\">  6.7311</td><td style=\"text-align: right;\">  6.0584</td><td style=\"text-align: right;\"> 18.4261</td><td style=\"text-align: right;\"> 14.2459</td><td style=\"text-align: right;\">-10.6657</td><td style=\"text-align: right;\"> 10.7013</td><td style=\"text-align: right;\"> 13.4588</td><td style=\"text-align: right;\"> 18.3689</td><td style=\"text-align: right;\"> -2.0712</td><td style=\"text-align: right;\"> 23.7765</td><td style=\"text-align: right;\">  2.0848</td><td style=\"text-align: right;\"> 18.8663</td><td style=\"text-align: right;\">  1.4532</td><td style=\"text-align: right;\"> 14.582 </td><td style=\"text-align: right;\"> 13.17  </td><td style=\"text-align: right;\">  0.8217</td><td style=\"text-align: right;\">  3.0002</td><td style=\"text-align: right;\">  0.4158</td><td style=\"text-align: right;\">  4.9895</td><td style=\"text-align: right;\">  3.1711</td><td style=\"text-align: right;\">-11.1786</td><td style=\"text-align: right;\"> 13.3314</td><td style=\"text-align: right;\"> 20.7298</td><td style=\"text-align: right;\"> 14.2331</td><td style=\"text-align: right;\"> 13.2217</td><td style=\"text-align: right;\"> 14.0908</td><td style=\"text-align: right;\">-24.7167</td><td style=\"text-align: right;\"> 26.3286</td><td style=\"text-align: right;\"> 16.5885</td><td style=\"text-align: right;\">  9.6728</td><td style=\"text-align: right;\">  3.7054</td><td style=\"text-align: right;\">  2.5181</td><td style=\"text-align: right;\">  4.1954</td><td style=\"text-align: right;\"> 11.3924</td><td style=\"text-align: right;\">  8.6696</td><td style=\"text-align: right;\">  7.5772</td><td style=\"text-align: right;\"> 23.553 </td><td style=\"text-align: right;\">  6.6503</td><td style=\"text-align: right;\">  3.8325</td><td style=\"text-align: right;\">  0.7693</td><td style=\"text-align: right;\">  5.0128</td><td style=\"text-align: right;\"> -2.3522</td><td style=\"text-align: right;\"> -0.3776</td><td style=\"text-align: right;\">  9.4237</td><td style=\"text-align: right;\"> -1.5242</td><td style=\"text-align: right;\">  9.3627</td><td style=\"text-align: right;\">  7.1971</td><td style=\"text-align: right;\"> 19.5642</td><td style=\"text-align: right;\">  4.1641</td><td style=\"text-align: right;\"> -1.7767</td><td style=\"text-align: right;\"> -4.822 </td><td style=\"text-align: right;\"> -8.4069</td><td style=\"text-align: right;\">  4.4444</td><td style=\"text-align: right;\"> -0.7226</td><td style=\"text-align: right;\">-27.2543</td><td style=\"text-align: right;\">  0.7557</td><td style=\"text-align: right;\">  6.3539</td><td style=\"text-align: right;\">  6.1335</td><td style=\"text-align: right;\"> 13.8387</td><td style=\"text-align: right;\">  0.0876</td><td style=\"text-align: right;\">  6.9724</td><td style=\"text-align: right;\"> 10.5478</td><td style=\"text-align: right;\">  8.6624</td><td style=\"text-align: right;\"> 14.4195</td><td style=\"text-align: right;\">  7.5985</td><td style=\"text-align: right;\">  8.0006</td><td style=\"text-align: right;\">  7.9894</td><td style=\"text-align: right;\">  1.2375</td><td style=\"text-align: right;\">  8.5132</td><td style=\"text-align: right;\"> 20.9117</td><td style=\"text-align: right;\"> 19.4388</td><td style=\"text-align: right;\">  8.6543</td><td style=\"text-align: right;\"> 14.1991</td><td style=\"text-align: right;\"> 13.5776</td><td style=\"text-align: right;\"> -6.7033</td></tr>\n",
       "<tr><td style=\"text-align: right;\">   7</td><td style=\"text-align: right;\">17.1042</td><td style=\"text-align: right;\">9.4738</td><td style=\"text-align: right;\">7.1458</td><td style=\"text-align: right;\">21.7572</td><td style=\"text-align: right;\">-21.607 </td><td style=\"text-align: right;\"> 9.127 </td><td style=\"text-align: right;\">6.125 </td><td style=\"text-align: right;\"> 3.2398</td><td style=\"text-align: right;\">-13.896 </td><td style=\"text-align: right;\">13.5117</td><td style=\"text-align: right;\">-0.5429</td><td style=\"text-align: right;\"> 2.8807</td><td style=\"text-align: right;\">-0.1873</td><td style=\"text-align: right;\"> -1.641 </td><td style=\"text-align: right;\"> 6.316 </td><td style=\"text-align: right;\">14.7554</td><td style=\"text-align: right;\">13.5216</td><td style=\"text-align: right;\">-5.2838</td><td style=\"text-align: right;\"> 3.6885</td><td style=\"text-align: right;\"> 9.4819</td><td style=\"text-align: right;\">18.2968</td><td style=\"text-align: right;\">10.8598</td><td style=\"text-align: right;\">25.5165</td><td style=\"text-align: right;\"> 8.896 </td><td style=\"text-align: right;\"> 2.0829</td><td style=\"text-align: right;\">14.2514</td><td style=\"text-align: right;\">14.1287</td><td style=\"text-align: right;\"> -4.4909</td><td style=\"text-align: right;\">15.6704</td><td style=\"text-align: right;\"> -4.6693</td><td style=\"text-align: right;\">-3.1096</td><td style=\"text-align: right;\"> 0.3744</td><td style=\"text-align: right;\"> 1.0371</td><td style=\"text-align: right;\"> 5.2196</td><td style=\"text-align: right;\">13.9639</td><td style=\"text-align: right;\"> 9.9112</td><td style=\"text-align: right;\"> -3.22  </td><td style=\"text-align: right;\"> 5.9444</td><td style=\"text-align: right;\"> 7.561 </td><td style=\"text-align: right;\">12.4578</td><td style=\"text-align: right;\">11.39  </td><td style=\"text-align: right;\"> 9.924 </td><td style=\"text-align: right;\">14.8416</td><td style=\"text-align: right;\"> 4.023 </td><td style=\"text-align: right;\">12.5088</td><td style=\"text-align: right;\"> 6.2403</td><td style=\"text-align: right;\">13.3778</td><td style=\"text-align: right;\">12.726 </td><td style=\"text-align: right;\"> 6.0637</td><td style=\"text-align: right;\">24.3013</td><td style=\"text-align: right;\">-7.958 </td><td style=\"text-align: right;\">11.5906</td><td style=\"text-align: right;\"> 6.112 </td><td style=\"text-align: right;\"> 4.5923</td><td style=\"text-align: right;\"> 3.0773</td><td style=\"text-align: right;\"> 1.9743</td><td style=\"text-align: right;\"> 9.2758</td><td style=\"text-align: right;\"> 2.6859</td><td style=\"text-align: right;\">-2.0864</td><td style=\"text-align: right;\"> 7.2948</td><td style=\"text-align: right;\">11.9698</td><td style=\"text-align: right;\">-10.6731</td><td style=\"text-align: right;\">15.0413</td><td style=\"text-align: right;\">25.1828</td><td style=\"text-align: right;\"> 10.1502</td><td style=\"text-align: right;\">-3.0868</td><td style=\"text-align: right;\"> 0.1287</td><td style=\"text-align: right;\">-13.1141</td><td style=\"text-align: right;\">34.464 </td><td style=\"text-align: right;\"> 0.9713</td><td style=\"text-align: right;\"> 1.1525</td><td style=\"text-align: right;\">17.2993</td><td style=\"text-align: right;\">-0.3913</td><td style=\"text-align: right;\"> 1.4879</td><td style=\"text-align: right;\"> 2.4796</td><td style=\"text-align: right;\">-1.4481</td><td style=\"text-align: right;\">23.7806</td><td style=\"text-align: right;\"> 6.6049</td><td style=\"text-align: right;\">10.31  </td><td style=\"text-align: right;\"> 3.84  </td><td style=\"text-align: right;\">19.845 </td><td style=\"text-align: right;\"> 2.4139</td><td style=\"text-align: right;\"> 7.3503</td><td style=\"text-align: right;\"> 7.3065</td><td style=\"text-align: right;\"> 2.391 </td><td style=\"text-align: right;\"> 3.3289</td><td style=\"text-align: right;\">-6.7308</td><td style=\"text-align: right;\"> -1.3546</td><td style=\"text-align: right;\"> 7.5652</td><td style=\"text-align: right;\">18.3243</td><td style=\"text-align: right;\">-4.1518</td><td style=\"text-align: right;\"> -5.3527</td><td style=\"text-align: right;\"> 5.4536</td><td style=\"text-align: right;\">21.6131</td><td style=\"text-align: right;\"> 10.4479</td><td style=\"text-align: right;\"> 5.4649</td><td style=\"text-align: right;\"> -9.6774</td><td style=\"text-align: right;\">-16.2859</td><td style=\"text-align: right;\"> 5.854 </td><td style=\"text-align: right;\">22.3524</td><td style=\"text-align: right;\">  0.8071</td><td style=\"text-align: right;\"> 11.9304</td><td style=\"text-align: right;\"> 27.6996</td><td style=\"text-align: right;\"> -0.3455</td><td style=\"text-align: right;\"> 16.841 </td><td style=\"text-align: right;\">  3.168 </td><td style=\"text-align: right;\"> -9.1925</td><td style=\"text-align: right;\"> 19.0645</td><td style=\"text-align: right;\">  2.7878</td><td style=\"text-align: right;\"> 12.2268</td><td style=\"text-align: right;\">  8.4279</td><td style=\"text-align: right;\">  6.9338</td><td style=\"text-align: right;\">  6.758 </td><td style=\"text-align: right;\">-27.7693</td><td style=\"text-align: right;\">  1.8246</td><td style=\"text-align: right;\">-12.3881</td><td style=\"text-align: right;\"> -2.3302</td><td style=\"text-align: right;\"> 13.6196</td><td style=\"text-align: right;\">-17.9593</td><td style=\"text-align: right;\">  9.655 </td><td style=\"text-align: right;\"> 14.6223</td><td style=\"text-align: right;\"> 10.9237</td><td style=\"text-align: right;\"> 11.5548</td><td style=\"text-align: right;\"> 14.8344</td><td style=\"text-align: right;\">  6.824 </td><td style=\"text-align: right;\"> 11.9991</td><td style=\"text-align: right;\"> 15.2416</td><td style=\"text-align: right;\"> 15.2659</td><td style=\"text-align: right;\">-10.5564</td><td style=\"text-align: right;\"> 17.1668</td><td style=\"text-align: right;\"> 14.1408</td><td style=\"text-align: right;\">  8.9374</td><td style=\"text-align: right;\">  2.258 </td><td style=\"text-align: right;\"> 13.7379</td><td style=\"text-align: right;\">  2.2221</td><td style=\"text-align: right;\"> 20.8112</td><td style=\"text-align: right;\">  0.8787</td><td style=\"text-align: right;\">  2.5438</td><td style=\"text-align: right;\">  0.5543</td><td style=\"text-align: right;\"> -9.1752</td><td style=\"text-align: right;\">  7.2126</td><td style=\"text-align: right;\">  0.3322</td><td style=\"text-align: right;\">  5.8506</td><td style=\"text-align: right;\">  3.2978</td><td style=\"text-align: right;\">  6.3377</td><td style=\"text-align: right;\"> 16.6244</td><td style=\"text-align: right;\"> 14.9513</td><td style=\"text-align: right;\"> 14.0859</td><td style=\"text-align: right;\"> -0.3764</td><td style=\"text-align: right;\"> 14.4194</td><td style=\"text-align: right;\"> -1.7442</td><td style=\"text-align: right;\"> 14.378 </td><td style=\"text-align: right;\"> 27.1285</td><td style=\"text-align: right;\"> 12.5368</td><td style=\"text-align: right;\">  7.1164</td><td style=\"text-align: right;\"> -0.2992</td><td style=\"text-align: right;\">  3.4336</td><td style=\"text-align: right;\"> 10.8094</td><td style=\"text-align: right;\"> 14.1058</td><td style=\"text-align: right;\">  5.1347</td><td style=\"text-align: right;\"> 20.9641</td><td style=\"text-align: right;\">  5.9517</td><td style=\"text-align: right;\"> 10.1983</td><td style=\"text-align: right;\">  5.6843</td><td style=\"text-align: right;\">  5.0257</td><td style=\"text-align: right;\"> -1.2558</td><td style=\"text-align: right;\">  0.4467</td><td style=\"text-align: right;\">  7.9133</td><td style=\"text-align: right;\">  0.1317</td><td style=\"text-align: right;\"> 15.1636</td><td style=\"text-align: right;\">  7.9682</td><td style=\"text-align: right;\"> 18.2209</td><td style=\"text-align: right;\">  4.8005</td><td style=\"text-align: right;\">  0.0266</td><td style=\"text-align: right;\"> -7.6785</td><td style=\"text-align: right;\">  6.9251</td><td style=\"text-align: right;\">  4.7154</td><td style=\"text-align: right;\">  1.5367</td><td style=\"text-align: right;\">-39.3042</td><td style=\"text-align: right;\"> 18.6539</td><td style=\"text-align: right;\">  6.8734</td><td style=\"text-align: right;\"> 24.2683</td><td style=\"text-align: right;\"> 15.2896</td><td style=\"text-align: right;\"> -4.5382</td><td style=\"text-align: right;\"> 10.3382</td><td style=\"text-align: right;\"> 11.3457</td><td style=\"text-align: right;\"> 16.2375</td><td style=\"text-align: right;\">  4.4221</td><td style=\"text-align: right;\">  5.4508</td><td style=\"text-align: right;\">  8.3434</td><td style=\"text-align: right;\"> -0.0289</td><td style=\"text-align: right;\">  6.1695</td><td style=\"text-align: right;\">  6.3887</td><td style=\"text-align: right;\"> 14.6142</td><td style=\"text-align: right;\"> 28.3111</td><td style=\"text-align: right;\"> 13.6043</td><td style=\"text-align: right;\">  3.847 </td><td style=\"text-align: right;\">  3.4963</td><td style=\"text-align: right;\">  3.0537</td></tr>\n",
       "<tr><td style=\"text-align: right;\">   8</td><td style=\"text-align: right;\">10.2728</td><td style=\"text-align: right;\">9.2293</td><td style=\"text-align: right;\">6.771 </td><td style=\"text-align: right;\"> 2.576 </td><td style=\"text-align: right;\"> -0.1458</td><td style=\"text-align: right;\">11.9451</td><td style=\"text-align: right;\">6.9901</td><td style=\"text-align: right;\">-4.7269</td><td style=\"text-align: right;\"> -5.3953</td><td style=\"text-align: right;\">14.3239</td><td style=\"text-align: right;\"> 4.6174</td><td style=\"text-align: right;\"> 0.6655</td><td style=\"text-align: right;\">-0.1857</td><td style=\"text-align: right;\"> -1.9897</td><td style=\"text-align: right;\"> 2.6559</td><td style=\"text-align: right;\">12.7623</td><td style=\"text-align: right;\"> 9.51  </td><td style=\"text-align: right;\">-2.8363</td><td style=\"text-align: right;\"> 5.5946</td><td style=\"text-align: right;\"> 8.1213</td><td style=\"text-align: right;\">23.914 </td><td style=\"text-align: right;\"> 8.6251</td><td style=\"text-align: right;\">19.6394</td><td style=\"text-align: right;\">10.3757</td><td style=\"text-align: right;\">-3.1777</td><td style=\"text-align: right;\">-3.9728</td><td style=\"text-align: right;\">-1.7183</td><td style=\"text-align: right;\"> -8.969 </td><td style=\"text-align: right;\">20.4826</td><td style=\"text-align: right;\"> -3.1348</td><td style=\"text-align: right;\"> 1.1981</td><td style=\"text-align: right;\"> 9.3734</td><td style=\"text-align: right;\">-0.0503</td><td style=\"text-align: right;\"> 3.7845</td><td style=\"text-align: right;\">13.6713</td><td style=\"text-align: right;\">10.0539</td><td style=\"text-align: right;\"> -8.0681</td><td style=\"text-align: right;\"> 1.9994</td><td style=\"text-align: right;\">10.1841</td><td style=\"text-align: right;\">12.2092</td><td style=\"text-align: right;\"> 6.8414</td><td style=\"text-align: right;\"> 4.823 </td><td style=\"text-align: right;\">13.6991</td><td style=\"text-align: right;\"> 6.9002</td><td style=\"text-align: right;\">12.7188</td><td style=\"text-align: right;\"> 3.0756</td><td style=\"text-align: right;\">13.3506</td><td style=\"text-align: right;\">12.8416</td><td style=\"text-align: right;\"> 5.6464</td><td style=\"text-align: right;\">26.1904</td><td style=\"text-align: right;\">-1.5431</td><td style=\"text-align: right;\"> 8.7495</td><td style=\"text-align: right;\"> 3.9651</td><td style=\"text-align: right;\"> 6.9099</td><td style=\"text-align: right;\"> 2.5849</td><td style=\"text-align: right;\">-7.975 </td><td style=\"text-align: right;\">10.9945</td><td style=\"text-align: right;\"> 3.4261</td><td style=\"text-align: right;\"> 6.42  </td><td style=\"text-align: right;\">-0.2503</td><td style=\"text-align: right;\">11.632 </td><td style=\"text-align: right;\"> 15.5037</td><td style=\"text-align: right;\">15.2428</td><td style=\"text-align: right;\">15.8098</td><td style=\"text-align: right;\"> -7.6193</td><td style=\"text-align: right;\"> 2.7449</td><td style=\"text-align: right;\"> 1.2953</td><td style=\"text-align: right;\"> -6.7792</td><td style=\"text-align: right;\">19.8306</td><td style=\"text-align: right;\"> 0.6094</td><td style=\"text-align: right;\"> 3.0245</td><td style=\"text-align: right;\">14.0546</td><td style=\"text-align: right;\">-0.8879</td><td style=\"text-align: right;\"> 1.447 </td><td style=\"text-align: right;\">-5.8872</td><td style=\"text-align: right;\">-0.0277</td><td style=\"text-align: right;\"> 6.076 </td><td style=\"text-align: right;\"> 7.7284</td><td style=\"text-align: right;\">19.0609</td><td style=\"text-align: right;\"> 4.0637</td><td style=\"text-align: right;\">10.7779</td><td style=\"text-align: right;\"> 3.6452</td><td style=\"text-align: right;\">12.5755</td><td style=\"text-align: right;\"> 7.6549</td><td style=\"text-align: right;\"> 6.3811</td><td style=\"text-align: right;\">-0.3827</td><td style=\"text-align: right;\"> 0.6703</td><td style=\"text-align: right;\">-17.8819</td><td style=\"text-align: right;\">10.8169</td><td style=\"text-align: right;\">16.9051</td><td style=\"text-align: right;\">-5.6557</td><td style=\"text-align: right;\">  1.5809</td><td style=\"text-align: right;\"> 5.4122</td><td style=\"text-align: right;\">15.9448</td><td style=\"text-align: right;\">  6.4658</td><td style=\"text-align: right;\">17.5407</td><td style=\"text-align: right;\">  3.9031</td><td style=\"text-align: right;\">-12.0852</td><td style=\"text-align: right;\"> 5.7226</td><td style=\"text-align: right;\">13.288 </td><td style=\"text-align: right;\">  9.5331</td><td style=\"text-align: right;\"> 10.8857</td><td style=\"text-align: right;\"> 32.2827</td><td style=\"text-align: right;\">  0.672 </td><td style=\"text-align: right;\"> 11.837 </td><td style=\"text-align: right;\">  1.5806</td><td style=\"text-align: right;\"> -3.6111</td><td style=\"text-align: right;\"> 14.7535</td><td style=\"text-align: right;\"> -0.2817</td><td style=\"text-align: right;\">  5.7331</td><td style=\"text-align: right;\"> 11.8306</td><td style=\"text-align: right;\">  6.5528</td><td style=\"text-align: right;\">  6.8885</td><td style=\"text-align: right;\">  3.3572</td><td style=\"text-align: right;\">-12.9403</td><td style=\"text-align: right;\">  5.665 </td><td style=\"text-align: right;\"> -3.947 </td><td style=\"text-align: right;\"> 17.1926</td><td style=\"text-align: right;\">-14.3565</td><td style=\"text-align: right;\">  3.2407</td><td style=\"text-align: right;\"> 13.8536</td><td style=\"text-align: right;\"> 10.8248</td><td style=\"text-align: right;\"> 13.0801</td><td style=\"text-align: right;\"> 13.6152</td><td style=\"text-align: right;\">  9.029 </td><td style=\"text-align: right;\"> 22.097 </td><td style=\"text-align: right;\"> 16.313 </td><td style=\"text-align: right;\"> 14.7383</td><td style=\"text-align: right;\">-20.9052</td><td style=\"text-align: right;\"> 12.5066</td><td style=\"text-align: right;\"> 13.2655</td><td style=\"text-align: right;\">  7.1533</td><td style=\"text-align: right;\"> -3.2295</td><td style=\"text-align: right;\">  5.9874</td><td style=\"text-align: right;\">  2.6233</td><td style=\"text-align: right;\"> 21.8375</td><td style=\"text-align: right;\"> -6.1501</td><td style=\"text-align: right;\">  9.6205</td><td style=\"text-align: right;\"> -0.8901</td><td style=\"text-align: right;\">-19.057 </td><td style=\"text-align: right;\">  4.5264</td><td style=\"text-align: right;\">  0.8558</td><td style=\"text-align: right;\">  3.4398</td><td style=\"text-align: right;\">  3.98  </td><td style=\"text-align: right;\"> -7.086 </td><td style=\"text-align: right;\"> 14.46  </td><td style=\"text-align: right;\"> 21.5541</td><td style=\"text-align: right;\"> 14.0483</td><td style=\"text-align: right;\">  1.7685</td><td style=\"text-align: right;\">  7.9732</td><td style=\"text-align: right;\">-14.9165</td><td style=\"text-align: right;\"> 18.242 </td><td style=\"text-align: right;\"> 23.2232</td><td style=\"text-align: right;\"> 17.5672</td><td style=\"text-align: right;\">  3.1525</td><td style=\"text-align: right;\">  1.0573</td><td style=\"text-align: right;\">  2.3573</td><td style=\"text-align: right;\"> 11.3442</td><td style=\"text-align: right;\"> 28.0748</td><td style=\"text-align: right;\">  6.7759</td><td style=\"text-align: right;\"> 16.9832</td><td style=\"text-align: right;\">  6.0329</td><td style=\"text-align: right;\">  4.5344</td><td style=\"text-align: right;\"> -4.3756</td><td style=\"text-align: right;\">  5.0253</td><td style=\"text-align: right;\"> -0.3629</td><td style=\"text-align: right;\">  2.4058</td><td style=\"text-align: right;\">  9.6745</td><td style=\"text-align: right;\"> -5.4189</td><td style=\"text-align: right;\"> 12.7972</td><td style=\"text-align: right;\">  6.8093</td><td style=\"text-align: right;\"> 22.4637</td><td style=\"text-align: right;\">  2.7563</td><td style=\"text-align: right;\">  9.5213</td><td style=\"text-align: right;\">-10.4444</td><td style=\"text-align: right;\"> -0.1438</td><td style=\"text-align: right;\">  4.8546</td><td style=\"text-align: right;\"> -9.0195</td><td style=\"text-align: right;\">  0.9947</td><td style=\"text-align: right;\">  4.1554</td><td style=\"text-align: right;\">  7.5957</td><td style=\"text-align: right;\"> 23.9603</td><td style=\"text-align: right;\"> 16.2076</td><td style=\"text-align: right;\"> -4.3861</td><td style=\"text-align: right;\"> 14.1906</td><td style=\"text-align: right;\"> 11.1792</td><td style=\"text-align: right;\"> 16.7498</td><td style=\"text-align: right;\">  2.3546</td><td style=\"text-align: right;\">  9.0101</td><td style=\"text-align: right;\">  9.5548</td><td style=\"text-align: right;\">  7.7577</td><td style=\"text-align: right;\">  7.6435</td><td style=\"text-align: right;\">  8.4977</td><td style=\"text-align: right;\">  8.6915</td><td style=\"text-align: right;\"> 26.2884</td><td style=\"text-align: right;\"> 12.857 </td><td style=\"text-align: right;\">  4.1506</td><td style=\"text-align: right;\">  7.1195</td><td style=\"text-align: right;\"> -5.4925</td></tr>\n",
       "</tbody>\n",
       "</table>"
      ]
     },
     "metadata": {},
     "output_type": "display_data"
    },
    {
     "data": {
      "text/plain": []
     },
     "execution_count": 56,
     "metadata": {},
     "output_type": "execute_result"
    }
   ],
   "source": [
    "df.head()"
   ]
  },
  {
   "cell_type": "code",
   "execution_count": 37,
   "metadata": {},
   "outputs": [
    {
     "data": {
      "text/plain": [
       "['C2',\n",
       " 'C3',\n",
       " 'C4',\n",
       " 'C5',\n",
       " 'C6',\n",
       " 'C7',\n",
       " 'C8',\n",
       " 'C9',\n",
       " 'C10',\n",
       " 'C11',\n",
       " 'C12',\n",
       " 'C13',\n",
       " 'C14',\n",
       " 'C15',\n",
       " 'C16',\n",
       " 'C17',\n",
       " 'C18',\n",
       " 'C19',\n",
       " 'C20',\n",
       " 'C21',\n",
       " 'C22',\n",
       " 'C23',\n",
       " 'C24',\n",
       " 'C25',\n",
       " 'C26',\n",
       " 'C27',\n",
       " 'C28',\n",
       " 'C29',\n",
       " 'C30',\n",
       " 'C31',\n",
       " 'C32',\n",
       " 'C33',\n",
       " 'C34',\n",
       " 'C35',\n",
       " 'C36',\n",
       " 'C37',\n",
       " 'C38',\n",
       " 'C39',\n",
       " 'C40',\n",
       " 'C41',\n",
       " 'C42',\n",
       " 'C43',\n",
       " 'C44',\n",
       " 'C45',\n",
       " 'C46',\n",
       " 'C47',\n",
       " 'C48',\n",
       " 'C49',\n",
       " 'C50',\n",
       " 'C51',\n",
       " 'C52',\n",
       " 'C53',\n",
       " 'C54',\n",
       " 'C55',\n",
       " 'C56',\n",
       " 'C57',\n",
       " 'C58',\n",
       " 'C59',\n",
       " 'C60',\n",
       " 'C61',\n",
       " 'C62',\n",
       " 'C63',\n",
       " 'C64',\n",
       " 'C65',\n",
       " 'C66',\n",
       " 'C67',\n",
       " 'C68',\n",
       " 'C69',\n",
       " 'C70',\n",
       " 'C71',\n",
       " 'C72',\n",
       " 'C73',\n",
       " 'C74',\n",
       " 'C75',\n",
       " 'C76',\n",
       " 'C77',\n",
       " 'C78',\n",
       " 'C79',\n",
       " 'C80',\n",
       " 'C81',\n",
       " 'C82',\n",
       " 'C83',\n",
       " 'C84',\n",
       " 'C85',\n",
       " 'C86',\n",
       " 'C87',\n",
       " 'C88',\n",
       " 'C89',\n",
       " 'C90',\n",
       " 'C91',\n",
       " 'C92',\n",
       " 'C93',\n",
       " 'C94',\n",
       " 'C95',\n",
       " 'C96',\n",
       " 'C97',\n",
       " 'C98',\n",
       " 'C99',\n",
       " 'C100',\n",
       " 'C101',\n",
       " 'C102',\n",
       " 'C103',\n",
       " 'C104',\n",
       " 'C105',\n",
       " 'C106',\n",
       " 'C107',\n",
       " 'C108',\n",
       " 'C109',\n",
       " 'C110',\n",
       " 'C111',\n",
       " 'C112',\n",
       " 'C113',\n",
       " 'C114',\n",
       " 'C115',\n",
       " 'C116',\n",
       " 'C117',\n",
       " 'C118',\n",
       " 'C119',\n",
       " 'C120',\n",
       " 'C121',\n",
       " 'C122',\n",
       " 'C123',\n",
       " 'C124',\n",
       " 'C125',\n",
       " 'C126',\n",
       " 'C127',\n",
       " 'C128',\n",
       " 'C129',\n",
       " 'C130',\n",
       " 'C131',\n",
       " 'C132',\n",
       " 'C133',\n",
       " 'C134',\n",
       " 'C135',\n",
       " 'C136',\n",
       " 'C137',\n",
       " 'C138',\n",
       " 'C139',\n",
       " 'C140',\n",
       " 'C141',\n",
       " 'C142',\n",
       " 'C143',\n",
       " 'C144',\n",
       " 'C145',\n",
       " 'C146',\n",
       " 'C147',\n",
       " 'C148',\n",
       " 'C149',\n",
       " 'C150',\n",
       " 'C151',\n",
       " 'C152',\n",
       " 'C153',\n",
       " 'C154',\n",
       " 'C155',\n",
       " 'C156']"
      ]
     },
     "execution_count": 37,
     "metadata": {},
     "output_type": "execute_result"
    }
   ],
   "source": [
    "response = \"C160\"\n",
    "df[response] = df[response].asfactor()           \n",
    "df_val[response] = df_val[response].asfactor()           \n",
    "predictors = df.columns\n",
    "predictors[1:156]"
   ]
  },
  {
   "cell_type": "code",
   "execution_count": 38,
   "metadata": {},
   "outputs": [
    {
     "name": "stdout",
     "output_type": "stream",
     "text": [
      "gbm Model Build progress: |███████████████████████████████████████████████| 100%\n"
     ]
    }
   ],
   "source": [
    "gbm = H2OGradientBoostingEstimator()\n",
    "gbm.train(x=predictors, y=response, training_frame=df)"
   ]
  },
  {
   "cell_type": "code",
   "execution_count": 40,
   "metadata": {},
   "outputs": [
    {
     "data": {
      "text/plain": [
       "0.8562849093618705"
      ]
     },
     "execution_count": 40,
     "metadata": {},
     "output_type": "execute_result"
    }
   ],
   "source": [
    "perf = gbm.model_performance(df_val)\n",
    "perf.auc()"
   ]
  },
  {
   "cell_type": "markdown",
   "metadata": {},
   "source": [
    "### Random Forest"
   ]
  },
  {
   "cell_type": "code",
   "execution_count": 41,
   "metadata": {},
   "outputs": [
    {
     "name": "stdout",
     "output_type": "stream",
     "text": [
      "drf Model Build progress: |███████████████████████████████████████████████| 100%\n"
     ]
    }
   ],
   "source": [
    "#We only provide the required parameters, everything else is default\n",
    "rf = h2o.estimators.random_forest.H2ORandomForestEstimator()\n",
    "rf.train(x=predictors, y=response, training_frame=df)"
   ]
  },
  {
   "cell_type": "code",
   "execution_count": 42,
   "metadata": {},
   "outputs": [
    {
     "data": {
      "text/plain": [
       "0.837884031467246"
      ]
     },
     "execution_count": 42,
     "metadata": {},
     "output_type": "execute_result"
    }
   ],
   "source": [
    "perf = rf.model_performance(df_val)\n",
    "perf.auc()"
   ]
  },
  {
   "cell_type": "code",
   "execution_count": null,
   "metadata": {},
   "outputs": [],
   "source": []
  }
 ],
 "metadata": {
  "kernelspec": {
   "display_name": "Python 3",
   "language": "python",
   "name": "python3"
  },
  "language_info": {
   "codemirror_mode": {
    "name": "ipython",
    "version": 3
   },
   "file_extension": ".py",
   "mimetype": "text/x-python",
   "name": "python",
   "nbconvert_exporter": "python",
   "pygments_lexer": "ipython3",
   "version": "3.6.5"
  }
 },
 "nbformat": 4,
 "nbformat_minor": 2
}
